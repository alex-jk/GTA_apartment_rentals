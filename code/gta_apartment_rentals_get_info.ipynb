{
  "nbformat": 4,
  "nbformat_minor": 0,
  "metadata": {
    "colab": {
      "provenance": [],
      "authorship_tag": "ABX9TyOxNAmAYUwdo0fT0oHgVTYX",
      "include_colab_link": true
    },
    "kernelspec": {
      "name": "python3",
      "display_name": "Python 3"
    },
    "language_info": {
      "name": "python"
    }
  },
  "cells": [
    {
      "cell_type": "markdown",
      "metadata": {
        "id": "view-in-github",
        "colab_type": "text"
      },
      "source": [
        "<a href=\"https://colab.research.google.com/github/alex-jk/GTA_apartment_rentals/blob/main/code/gta_apartment_rentals_get_info.ipynb\" target=\"_parent\"><img src=\"https://colab.research.google.com/assets/colab-badge.svg\" alt=\"Open In Colab\"/></a>"
      ]
    },
    {
      "cell_type": "code",
      "source": [
        "!pip install --upgrade gspread google-auth google-auth-oauthlib google-auth-httplib2\n",
        "!pip install requests"
      ],
      "metadata": {
        "colab": {
          "base_uri": "https://localhost:8080/",
          "height": 1000
        },
        "id": "lQsc9iytwZ4i",
        "outputId": "83f7cf14-6471-4d00-d7de-980f8fc16112"
      },
      "execution_count": 1,
      "outputs": [
        {
          "output_type": "stream",
          "name": "stdout",
          "text": [
            "Requirement already satisfied: gspread in /usr/local/lib/python3.10/dist-packages (3.4.2)\n",
            "Collecting gspread\n",
            "  Downloading gspread-6.0.2-py3-none-any.whl (53 kB)\n",
            "\u001b[2K     \u001b[90m━━━━━━━━━━━━━━━━━━━━━━━━━━━━━━━━━━━━━━━━\u001b[0m \u001b[32m53.9/53.9 kB\u001b[0m \u001b[31m2.2 MB/s\u001b[0m eta \u001b[36m0:00:00\u001b[0m\n",
            "\u001b[?25hRequirement already satisfied: google-auth in /usr/local/lib/python3.10/dist-packages (2.27.0)\n",
            "Collecting google-auth\n",
            "  Downloading google_auth-2.28.1-py2.py3-none-any.whl (186 kB)\n",
            "\u001b[2K     \u001b[90m━━━━━━━━━━━━━━━━━━━━━━━━━━━━━━━━━━━━━━━━\u001b[0m \u001b[32m186.9/186.9 kB\u001b[0m \u001b[31m9.3 MB/s\u001b[0m eta \u001b[36m0:00:00\u001b[0m\n",
            "\u001b[?25hRequirement already satisfied: google-auth-oauthlib in /usr/local/lib/python3.10/dist-packages (1.2.0)\n",
            "Requirement already satisfied: google-auth-httplib2 in /usr/local/lib/python3.10/dist-packages (0.1.1)\n",
            "Collecting google-auth-httplib2\n",
            "  Downloading google_auth_httplib2-0.2.0-py2.py3-none-any.whl (9.3 kB)\n",
            "Collecting StrEnum==0.4.15 (from gspread)\n",
            "  Downloading StrEnum-0.4.15-py3-none-any.whl (8.9 kB)\n",
            "Requirement already satisfied: cachetools<6.0,>=2.0.0 in /usr/local/lib/python3.10/dist-packages (from google-auth) (5.3.3)\n",
            "Requirement already satisfied: pyasn1-modules>=0.2.1 in /usr/local/lib/python3.10/dist-packages (from google-auth) (0.3.0)\n",
            "Requirement already satisfied: rsa<5,>=3.1.4 in /usr/local/lib/python3.10/dist-packages (from google-auth) (4.9)\n",
            "Requirement already satisfied: requests-oauthlib>=0.7.0 in /usr/local/lib/python3.10/dist-packages (from google-auth-oauthlib) (1.3.1)\n",
            "Requirement already satisfied: httplib2>=0.19.0 in /usr/local/lib/python3.10/dist-packages (from google-auth-httplib2) (0.22.0)\n",
            "Requirement already satisfied: pyparsing!=3.0.0,!=3.0.1,!=3.0.2,!=3.0.3,<4,>=2.4.2 in /usr/local/lib/python3.10/dist-packages (from httplib2>=0.19.0->google-auth-httplib2) (3.1.1)\n",
            "Requirement already satisfied: pyasn1<0.6.0,>=0.4.6 in /usr/local/lib/python3.10/dist-packages (from pyasn1-modules>=0.2.1->google-auth) (0.5.1)\n",
            "Requirement already satisfied: oauthlib>=3.0.0 in /usr/local/lib/python3.10/dist-packages (from requests-oauthlib>=0.7.0->google-auth-oauthlib) (3.2.2)\n",
            "Requirement already satisfied: requests>=2.0.0 in /usr/local/lib/python3.10/dist-packages (from requests-oauthlib>=0.7.0->google-auth-oauthlib) (2.31.0)\n",
            "Requirement already satisfied: charset-normalizer<4,>=2 in /usr/local/lib/python3.10/dist-packages (from requests>=2.0.0->requests-oauthlib>=0.7.0->google-auth-oauthlib) (3.3.2)\n",
            "Requirement already satisfied: idna<4,>=2.5 in /usr/local/lib/python3.10/dist-packages (from requests>=2.0.0->requests-oauthlib>=0.7.0->google-auth-oauthlib) (3.6)\n",
            "Requirement already satisfied: urllib3<3,>=1.21.1 in /usr/local/lib/python3.10/dist-packages (from requests>=2.0.0->requests-oauthlib>=0.7.0->google-auth-oauthlib) (2.0.7)\n",
            "Requirement already satisfied: certifi>=2017.4.17 in /usr/local/lib/python3.10/dist-packages (from requests>=2.0.0->requests-oauthlib>=0.7.0->google-auth-oauthlib) (2024.2.2)\n",
            "Installing collected packages: StrEnum, google-auth, google-auth-httplib2, gspread\n",
            "  Attempting uninstall: google-auth\n",
            "    Found existing installation: google-auth 2.27.0\n",
            "    Uninstalling google-auth-2.27.0:\n",
            "      Successfully uninstalled google-auth-2.27.0\n",
            "  Attempting uninstall: google-auth-httplib2\n",
            "    Found existing installation: google-auth-httplib2 0.1.1\n",
            "    Uninstalling google-auth-httplib2-0.1.1:\n",
            "      Successfully uninstalled google-auth-httplib2-0.1.1\n",
            "  Attempting uninstall: gspread\n",
            "    Found existing installation: gspread 3.4.2\n",
            "    Uninstalling gspread-3.4.2:\n",
            "      Successfully uninstalled gspread-3.4.2\n",
            "\u001b[31mERROR: pip's dependency resolver does not currently take into account all the packages that are installed. This behaviour is the source of the following dependency conflicts.\n",
            "google-colab 1.0.0 requires google-auth==2.27.0, but you have google-auth 2.28.1 which is incompatible.\u001b[0m\u001b[31m\n",
            "\u001b[0mSuccessfully installed StrEnum-0.4.15 google-auth-2.28.1 google-auth-httplib2-0.2.0 gspread-6.0.2\n"
          ]
        },
        {
          "output_type": "display_data",
          "data": {
            "application/vnd.colab-display-data+json": {
              "pip_warning": {
                "packages": [
                  "google"
                ]
              },
              "id": "dae1c6f2c59741f0b0f21ef7e53d490b"
            }
          },
          "metadata": {}
        },
        {
          "output_type": "stream",
          "name": "stdout",
          "text": [
            "Requirement already satisfied: requests in /usr/local/lib/python3.10/dist-packages (2.31.0)\n",
            "Requirement already satisfied: charset-normalizer<4,>=2 in /usr/local/lib/python3.10/dist-packages (from requests) (3.3.2)\n",
            "Requirement already satisfied: idna<4,>=2.5 in /usr/local/lib/python3.10/dist-packages (from requests) (3.6)\n",
            "Requirement already satisfied: urllib3<3,>=1.21.1 in /usr/local/lib/python3.10/dist-packages (from requests) (2.0.7)\n",
            "Requirement already satisfied: certifi>=2017.4.17 in /usr/local/lib/python3.10/dist-packages (from requests) (2024.2.2)\n",
            "\u001b[31mERROR: Operation cancelled by user\u001b[0m\u001b[31m\n",
            "\u001b[0m"
          ]
        }
      ]
    },
    {
      "cell_type": "code",
      "execution_count": 16,
      "metadata": {
        "id": "KX0EbpOXvyho"
      },
      "outputs": [],
      "source": [
        "import pandas as pd\n",
        "import requests\n",
        "import re\n",
        "import requests\n",
        "from bs4 import BeautifulSoup\n",
        "from tqdm import tqdm"
      ]
    },
    {
      "cell_type": "code",
      "source": [
        "from google.colab import auth\n",
        "auth.authenticate_user()\n",
        "\n",
        "import google.auth\n",
        "from google.colab import drive\n",
        "drive.mount('/content/drive')\n",
        "\n",
        "credentials, project = google.auth.default(scopes=['https://www.googleapis.com/auth/spreadsheets'])"
      ],
      "metadata": {
        "colab": {
          "base_uri": "https://localhost:8080/"
        },
        "id": "bx5IUjU9wLhk",
        "outputId": "e62e1727-d528-45ef-d1b0-b802fb14b8b3"
      },
      "execution_count": 2,
      "outputs": [
        {
          "output_type": "stream",
          "name": "stdout",
          "text": [
            "Mounted at /content/drive\n"
          ]
        }
      ]
    },
    {
      "cell_type": "markdown",
      "source": [
        "#### Import input data GTA_apartment_buildings_list"
      ],
      "metadata": {
        "id": "Tz-jv37m-QXM"
      }
    },
    {
      "cell_type": "code",
      "source": [
        "import gspread\n",
        "\n",
        "gc = gspread.authorize(credentials)\n",
        "\n",
        "sheet_name = 'GTA_apartment_buildings_list'\n",
        "sh = gc.open(sheet_name)\n",
        "worksheet = sh.sheet1\n",
        "\n",
        "# Get all the records of the data\n",
        "apartments_data = worksheet.get_all_records()\n",
        "\n",
        "# Convert to a DataFrame\n",
        "apartments_data_df = pd.DataFrame(apartments_data)\n",
        "\n",
        "# Display the first few rows of the dataframe\n",
        "print(f\"\\n------------ Apartments data df shape: {apartments_data_df.shape}\")\n",
        "print(\"\\n------------\")\n",
        "print(apartments_data_df.head())"
      ],
      "metadata": {
        "colab": {
          "base_uri": "https://localhost:8080/"
        },
        "id": "gRnSEY0KwpmA",
        "outputId": "244e9360-7fdd-446b-f7fb-dc936c5a1a8e"
      },
      "execution_count": 10,
      "outputs": [
        {
          "output_type": "stream",
          "name": "stdout",
          "text": [
            "\n",
            "------------ Apartments data df shape: (107, 3)\n",
            "\n",
            "------------\n",
            "                              apartment_address num_beds  \\\n",
            "0     10 Wilmington Ave, North York, ON M3H 5H7     1, 2   \n",
            "1  1042 Sheppard Avenue W., Toronto, ON M3H 2T6     1, 2   \n",
            "2       11 Goldfinch Ct, North York, ON M2R 2C2  1, 2, 3   \n",
            "3      110 Inverlochy Blvd, Markham, ON L3T 3R6  1, 2, 3   \n",
            "4      111 Inverlochy Blvd, Markham, ON L3T 3R7  1, 2, 3   \n",
            "\n",
            "                                       phone_numbers  \n",
            "0                         253-256-1634, 437-500-1353  \n",
            "1                                       416-636-9130  \n",
            "2  416-633-8409, 647-701-9936, 416-630-3553, 416-...  \n",
            "3                                       905-881-0089  \n",
            "4                                       905-763-7508  \n"
          ]
        }
      ]
    },
    {
      "cell_type": "code",
      "source": [
        "def find_phone_number(address, query_str):\n",
        "    query = address.replace(' ', '+') + query_str\n",
        "    url = f\"https://www.google.com/search?q={query}\"\n",
        "\n",
        "    headers = {\n",
        "        \"User-Agent\": \"Mozilla/5.0 (Windows NT 10.0; Win64; x64) AppleWebKit/537.36 (KHTML, like Gecko) Chrome/58.0.3029.110 Safari/537.3\"}\n",
        "\n",
        "    response = requests.get(url, headers=headers)\n",
        "\n",
        "    if response.status_code == 200:\n",
        "        soup = BeautifulSoup(response.text, 'html.parser')\n",
        "\n",
        "        # Use regular expressions to find phone numbers\n",
        "        phone_regex = re.compile(r'\\(\\d{3}\\)\\s*\\d{3}-\\d{4}|\\d{3}-\\d{3}-\\d{4}')\n",
        "        text = soup.get_text()\n",
        "        # print(\"\\n----------------\")\n",
        "        # print(text)\n",
        "        phone_numbers = phone_regex.findall(text)\n",
        "\n",
        "        if phone_numbers:\n",
        "            # Remove duplicates and format phone numbers consistently\n",
        "            formatted_numbers = [re.sub(r'[^0-9]', '', number) for number in set(phone_numbers)]\n",
        "            formatted_numbers = [f\"{num[:3]}-{num[3:6]}-{num[6:]}\" for num in formatted_numbers]\n",
        "            formatted_numbers = list(set(formatted_numbers))\n",
        "\n",
        "            return formatted_numbers\n",
        "        else:\n",
        "            return []\n",
        "    else:\n",
        "        return []"
      ],
      "metadata": {
        "id": "GTvurBtwzGVl"
      },
      "execution_count": 11,
      "outputs": []
    },
    {
      "cell_type": "code",
      "source": [
        "def expand_ranges(beds_list):\n",
        "    expanded_list = []\n",
        "    for item in beds_list:\n",
        "        if '-' in item:  # Check if item is a range\n",
        "            start, end = map(int, item.split('-'))\n",
        "            expanded_list.extend(range(start, end + 1))  # Add all numbers in the range\n",
        "        else:\n",
        "            expanded_list.append(int(item))  # Add individual numbers directly\n",
        "    return expanded_list\n",
        "\n",
        "def find_num_beds(address, query_str):\n",
        "    query = address.replace(' ', '+') + query_str\n",
        "    query_apartments_com = address.replace(' ', '+') + \"+apartments+com\"\n",
        "    url = f\"https://www.google.com/search?q={query}\"\n",
        "    url_apartments_com = f\"https://www.google.com/search?q={query_apartments_com}\"\n",
        "\n",
        "    headers = {\n",
        "        \"User-Agent\": \"Mozilla/5.0 (Windows NT 10.0; Win64; x64) AppleWebKit/537.36 (KHTML, like Gecko) Chrome/58.0.3029.110 Safari/537.3\"}\n",
        "\n",
        "    text_numbers_to_int = {'one': 1, '1': 1, 'two': 2, '2': 2, 'three': 3, '3': 3, 'four': 4, 'five': 5}\n",
        "\n",
        "    response = requests.get(url, headers=headers)\n",
        "    response_apartments_com = requests.get(url_apartments_com, headers=headers)\n",
        "\n",
        "    if response.status_code == 200:\n",
        "        soup = BeautifulSoup(response.text, 'html.parser')\n",
        "\n",
        "        # Use regular expressions to find phone numbers\n",
        "        numeric_bed_regex = re.compile(r'\\b(\\d+(?:-\\d+)?)\\s*beds?\\b', re.IGNORECASE)\n",
        "        text_bed_regex = re.compile(r'\\b(one|two|three|four|five|1|2|3)\\s*bedroom?\\b', re.IGNORECASE)\n",
        "        text = soup.get_text()\n",
        "        # print(\"\\n----------------\")\n",
        "        # print(text)\n",
        "\n",
        "        numeric_beds_list = numeric_bed_regex.findall(text)\n",
        "        expanded_beds_list = list(set( expand_ranges(numeric_beds_list) ))\n",
        "        expanded_beds_list.sort()\n",
        "        # print(f\"\\n numeric beds: {expanded_beds_list}\")\n",
        "\n",
        "        text_beds_list = text_bed_regex.findall(text)\n",
        "        text_beds_list = list(set(text_beds_list))\n",
        "        text_beds_list = [text_numbers_to_int[bed.lower()] for bed in text_beds_list]\n",
        "        if len(text_beds_list) > 0:\n",
        "          text_beds_list = list(range(1, max(text_beds_list) + 1))\n",
        "        # print(f\"\\n text beds: {text_beds_list}\")\n",
        "\n",
        "        combined_set = set(expanded_beds_list + text_beds_list)\n",
        "        combined_set = sorted(list(combined_set))\n",
        "\n",
        "        # if response_apartments_com.status_code == 200:\n",
        "        #   soup_apartments_com = BeautifulSoup(response_apartments_com.text, 'html.parser')\n",
        "        #   links = soup.find_all('a')\n",
        "        #   # Attempt to find the first valid apartments.com URL\n",
        "        #   apartments_url = None\n",
        "        #   for link in links:\n",
        "        #       href = link.get('href')\n",
        "        #       if 'apartments.com' in href:\n",
        "        #           # Typical Google search result URLs are redirected, so parse them to get the actual URL\n",
        "        #           start = href.find('http')\n",
        "        #           end = href.find('&', start)\n",
        "        #           if start != -1 and end != -1:\n",
        "        #               apartments_url = href[start:end]\n",
        "        #               break\n",
        "\n",
        "        #   if apartments_url:\n",
        "        #       print(\"Found Apartments.com URL:\", apartments_url)\n",
        "        #   else:\n",
        "        #       print(\"No Apartments.com URL found in the first few search results.\")\n",
        "\n",
        "        if combined_set:\n",
        "            smallest_bed_number = combined_set[0]\n",
        "            complete_beds_list = list(range(1, smallest_bed_number)) + combined_set\n",
        "\n",
        "            # Remove duplicates and sort again if necessary\n",
        "            complete_beds_list = sorted(set(complete_beds_list))\n",
        "            complete_beds_str = ', '.join(map(str, complete_beds_list))\n",
        "            return complete_beds_str\n",
        "        else:\n",
        "            return []\n",
        "    else:\n",
        "        return []"
      ],
      "metadata": {
        "id": "X8kMM9agS_2j"
      },
      "execution_count": 12,
      "outputs": []
    },
    {
      "cell_type": "code",
      "source": [
        "# def conditionally_find_num_beds(row, query_str):\n",
        "#     # If num_beds is missing, then call find_num_beds\n",
        "#     if pd.isna(row['num_beds']) or not str(row['num_beds']).strip():\n",
        "#         return find_num_beds(row['apartment_address'], query_str)\n",
        "#     else:\n",
        "#         return row['num_beds']\n",
        "\n",
        "def conditionally_find_value(row, column_name, search_function, *args, **kwargs):\n",
        "    \"\"\"\n",
        "    Checks if the specified column in a DataFrame row is missing or empty. If so, it calls\n",
        "    a specified search function to find the value.\n",
        "\n",
        "    Parameters:\n",
        "    - row: The row of the DataFrame.\n",
        "    - column_name: The name of the column to check and potentially fill.\n",
        "    - search_function: The function to call if the column value is missing or empty.\n",
        "                       This function should accept the apartment address as its first argument,\n",
        "                       followed by any *args and **kwargs necessary for the search.\n",
        "    - *args: Additional positional arguments to pass to the search_function.\n",
        "    - **kwargs: Additional keyword arguments to pass to the search_function.\n",
        "\n",
        "    Returns:\n",
        "    - The original value from the row[column_name] if it exists and is not empty,\n",
        "      otherwise the result from search_function.\n",
        "    \"\"\"\n",
        "    # Check if the column value is missing or empty\n",
        "    if pd.isna(row[column_name]) or not str(row[column_name]).strip():\n",
        "        # Call the search function with the address, args, and kwargs\n",
        "        return search_function(row['apartment_address'], *args, **kwargs)\n",
        "    else:\n",
        "        # Return the original value\n",
        "        return row[column_name]"
      ],
      "metadata": {
        "id": "ttYKDv2U9Olt"
      },
      "execution_count": 13,
      "outputs": []
    },
    {
      "cell_type": "code",
      "source": [
        "ind = 0\n",
        "\n",
        "print(apartments_data_df['apartment_address'][ind])\n",
        "print( find_phone_number(apartments_data_df['apartment_address'][ind], \"+apartment+building+phone+number\") )\n",
        "\n",
        "print( find_num_beds(apartments_data_df['apartment_address'][ind], \"+apartment+rent+beds\") )"
      ],
      "metadata": {
        "colab": {
          "base_uri": "https://localhost:8080/"
        },
        "id": "FjfleWmIzbUb",
        "outputId": "f5241ebe-cec3-4369-807f-ec4a003934e7"
      },
      "execution_count": 14,
      "outputs": [
        {
          "output_type": "stream",
          "name": "stdout",
          "text": [
            "10 Wilmington Ave, North York, ON M3H 5H7\n",
            "['365-598-5906', '437-500-1353']\n",
            "1, 2\n"
          ]
        }
      ]
    },
    {
      "cell_type": "code",
      "source": [
        "# Apply the find_phone_numbers function to each row\n",
        "query_str = \"+apartment+building+phone+number\"\n",
        "\n",
        "tqdm.pandas()\n",
        "# apartments_data_df['phone_numbers'] = apartments_data_df['apartment_address'].progress_apply(lambda address: find_phone_number(address, query_str))\n",
        "apartments_data_df['phone_numbers'] = apartments_data_df.progress_apply(conditionally_find_value, axis=1,\n",
        "                                                                        column_name='phone_numbers',\n",
        "                                                                        search_function=find_phone_number,\n",
        "                                                                        query_str=query_str)\n",
        "\n",
        "print(apartments_data_df.head(10))"
      ],
      "metadata": {
        "colab": {
          "base_uri": "https://localhost:8080/"
        },
        "id": "zINcLHWaAOHZ",
        "outputId": "b9f4ee13-332c-480b-876c-0bc0d067648a"
      },
      "execution_count": 19,
      "outputs": [
        {
          "output_type": "stream",
          "name": "stderr",
          "text": [
            "100%|██████████| 107/107 [00:00<00:00, 22465.36it/s]"
          ]
        },
        {
          "output_type": "stream",
          "name": "stdout",
          "text": [
            "                              apartment_address num_beds  \\\n",
            "0     10 Wilmington Ave, North York, ON M3H 5H7     1, 2   \n",
            "1  1042 Sheppard Avenue W., Toronto, ON M3H 2T6     1, 2   \n",
            "2       11 Goldfinch Ct, North York, ON M2R 2C2  1, 2, 3   \n",
            "3      110 Inverlochy Blvd, Markham, ON L3T 3R6  1, 2, 3   \n",
            "4      111 Inverlochy Blvd, Markham, ON L3T 3R7  1, 2, 3   \n",
            "5       1130 Wilson Avenue, Toronto, ON M3M 1K3  1, 2, 3   \n",
            "6          12 Goldfinch Ct, Toronto, ON M2R 2C4  1, 2, 3   \n",
            "7      12 Oakburn Crescent, Toronto, ON M2N 2T4     1, 2   \n",
            "8         12 Rockford Road, Toronto, ON M2R 3A2  1, 2, 3   \n",
            "9   14 Carluke Crescent, North York, ON M2L 2H8  1, 2, 3   \n",
            "\n",
            "                                       phone_numbers  \n",
            "0                         253-256-1634, 437-500-1353  \n",
            "1                                       416-636-9130  \n",
            "2  416-633-8409, 647-701-9936, 416-630-3553, 416-...  \n",
            "3                                       905-881-0089  \n",
            "4                                       905-763-7508  \n",
            "5                                       416-923-4291  \n",
            "6                                       416-633-0272  \n",
            "7  416-226-2888, 416-226-5444, 416-487-3050, 647-...  \n",
            "8  416-663-6956, 416-635-2949, 416-650-0569, 647-...  \n",
            "9                         647-352-7665, 416-225-7777  \n"
          ]
        },
        {
          "output_type": "stream",
          "name": "stderr",
          "text": [
            "\n"
          ]
        }
      ]
    },
    {
      "cell_type": "code",
      "source": [
        "# Apply the find_phone_numbers function to each row\n",
        "query_str = \"+apartment+rent+beds\"\n",
        "\n",
        "# apartments_data_df['num_beds'] = apartments_data_df.progress_apply(lambda row: conditionally_find_num_beds(row, query_str), axis=1)\n",
        "apartments_data_df['num_beds'] = apartments_data_df.progress_apply(conditionally_find_value, axis=1,\n",
        "                                                                        column_name='num_beds',\n",
        "                                                                        search_function=find_num_beds,\n",
        "                                                                        query_str=query_str)\n",
        "\n",
        "print(apartments_data_df.head(10))"
      ],
      "metadata": {
        "colab": {
          "base_uri": "https://localhost:8080/"
        },
        "id": "n2170PoAIpGG",
        "outputId": "696043bd-a063-486e-f69f-21178d9beecd"
      },
      "execution_count": 20,
      "outputs": [
        {
          "output_type": "stream",
          "name": "stderr",
          "text": [
            "100%|██████████| 107/107 [00:00<00:00, 18204.30it/s]"
          ]
        },
        {
          "output_type": "stream",
          "name": "stdout",
          "text": [
            "                              apartment_address num_beds  \\\n",
            "0     10 Wilmington Ave, North York, ON M3H 5H7     1, 2   \n",
            "1  1042 Sheppard Avenue W., Toronto, ON M3H 2T6     1, 2   \n",
            "2       11 Goldfinch Ct, North York, ON M2R 2C2  1, 2, 3   \n",
            "3      110 Inverlochy Blvd, Markham, ON L3T 3R6  1, 2, 3   \n",
            "4      111 Inverlochy Blvd, Markham, ON L3T 3R7  1, 2, 3   \n",
            "5       1130 Wilson Avenue, Toronto, ON M3M 1K3  1, 2, 3   \n",
            "6          12 Goldfinch Ct, Toronto, ON M2R 2C4  1, 2, 3   \n",
            "7      12 Oakburn Crescent, Toronto, ON M2N 2T4     1, 2   \n",
            "8         12 Rockford Road, Toronto, ON M2R 3A2  1, 2, 3   \n",
            "9   14 Carluke Crescent, North York, ON M2L 2H8  1, 2, 3   \n",
            "\n",
            "                                       phone_numbers  \n",
            "0                         253-256-1634, 437-500-1353  \n",
            "1                                       416-636-9130  \n",
            "2  416-633-8409, 647-701-9936, 416-630-3553, 416-...  \n",
            "3                                       905-881-0089  \n",
            "4                                       905-763-7508  \n",
            "5                                       416-923-4291  \n",
            "6                                       416-633-0272  \n",
            "7  416-226-2888, 416-226-5444, 416-487-3050, 647-...  \n",
            "8  416-663-6956, 416-635-2949, 416-650-0569, 647-...  \n",
            "9                         647-352-7665, 416-225-7777  \n"
          ]
        },
        {
          "output_type": "stream",
          "name": "stderr",
          "text": [
            "\n"
          ]
        }
      ]
    },
    {
      "cell_type": "code",
      "source": [
        "print(apartments_data_df.head(10))"
      ],
      "metadata": {
        "colab": {
          "base_uri": "https://localhost:8080/"
        },
        "id": "cypKi94UTt31",
        "outputId": "9f6422fb-307d-4eca-e989-3c12c1ec302b"
      },
      "execution_count": null,
      "outputs": [
        {
          "output_type": "stream",
          "name": "stdout",
          "text": [
            "                              apartment_address num_beds  \\\n",
            "0     10 Wilmington Ave, North York, ON M3H 5H7     1, 2   \n",
            "1  1042 Sheppard Avenue W., Toronto, ON M3H 2T6     1, 2   \n",
            "2       11 Goldfinch Ct, North York, ON M2R 2C2  1, 2, 3   \n",
            "3    110 Inverlochy Blvd, Thornhill, ON L3T 3R6  1, 2, 3   \n",
            "4    111 Inverlochy Blvd, Thornhill, ON L3T 3R7  1, 2, 3   \n",
            "5       1130 Wilson Avenue, Toronto, ON M3M 1K3  1, 2, 3   \n",
            "6          12 Goldfinch Ct, Toronto, ON M2R 2C4  1, 2, 3   \n",
            "7      12 Oakburn Crescent, Toronto, ON M2N 2T4     1, 2   \n",
            "8         12 Rockford Road, Toronto, ON M2R 3A2  1, 2, 3   \n",
            "9   14 Carluke Crescent, North York, ON M2L 2H8  1, 2, 3   \n",
            "\n",
            "                                       phone_numbers  \n",
            "0                       [253-256-1634, 437-500-1353]  \n",
            "1                                     [416-636-9130]  \n",
            "2  [416-633-8409, 647-701-9936, 416-630-3553, 416...  \n",
            "3                                     [905-881-0089]  \n",
            "4                                     [905-763-7508]  \n",
            "5                                     [416-923-4291]  \n",
            "6                                     [416-633-0272]  \n",
            "7  [416-226-2888, 416-226-5444, 416-487-3050, 647...  \n",
            "8  [416-663-6956, 416-635-2949, 416-650-0569, 647...  \n",
            "9                       [647-352-7665, 416-225-7777]  \n"
          ]
        }
      ]
    },
    {
      "cell_type": "code",
      "source": [
        "from gspread_dataframe import set_with_dataframe\n",
        "\n",
        "spreadsheet_title = 'GTA_apartment_buildings_output'\n",
        "\n",
        "try:\n",
        "    # Attempt to open the existing spreadsheet\n",
        "    sh = gc.open(spreadsheet_title)\n",
        "    # If successful, delete the spreadsheet by moving it to trash\n",
        "    gc.del_spreadsheet(sh.id)\n",
        "    print(f\"Existing spreadsheet '{spreadsheet_title}' moved to trash.\")\n",
        "except gspread.SpreadsheetNotFound:\n",
        "    # If the spreadsheet does not exist, just continue\n",
        "    print(f\"No existing spreadsheet named '{spreadsheet_title}' found. Creating a new one.\")\n",
        "\n",
        "sh = gc.create(spreadsheet_title)\n",
        "worksheet = sh.get_worksheet(0)\n",
        "apartments_data_df['num_beds'] = apartments_data_df['num_beds'].astype(str)\n",
        "set_with_dataframe(worksheet, apartments_data_df)"
      ],
      "metadata": {
        "colab": {
          "base_uri": "https://localhost:8080/"
        },
        "id": "rtM9LTa6OdgX",
        "outputId": "827553ed-f493-4de3-dec6-59b3b8717e2b"
      },
      "execution_count": null,
      "outputs": [
        {
          "output_type": "stream",
          "name": "stdout",
          "text": [
            "Existing spreadsheet 'GTA_apartment_buildings_output' moved to trash.\n"
          ]
        }
      ]
    },
    {
      "cell_type": "markdown",
      "source": [
        "#### Import output dataset"
      ],
      "metadata": {
        "id": "Jbcx_BSuG-e5"
      }
    },
    {
      "cell_type": "code",
      "source": [
        "sheet_name = 'GTA_apartment_buildings_output'\n",
        "sh = gc.open(sheet_name)\n",
        "worksheet = sh.sheet1\n",
        "\n",
        "# Get all the records of the data\n",
        "apartments_data_out = worksheet.get_all_records()\n",
        "\n",
        "# Convert to a DataFrame\n",
        "apartments_data_out_df = pd.DataFrame(apartments_data_out)\n",
        "\n",
        "# create address column with no postal code\n",
        "regex_pattern = r'\\b[A-Z]\\d[A-Z] \\d[A-Z]\\d\\b'\n",
        "apartments_data_out_df['address_no_postal_code'] = apartments_data_out_df['apartment_address'].str.replace(regex_pattern, '', regex=True).str.strip()\n",
        "\n",
        "# Display the first few rows of the dataframe\n",
        "print(f\"\\n------------ Apartments data df shape: {apartments_data_out_df.shape}\")\n",
        "print(\"\\n------------\")\n",
        "print(apartments_data_out_df.head())"
      ],
      "metadata": {
        "colab": {
          "base_uri": "https://localhost:8080/"
        },
        "id": "R0yrGrfOHHzb",
        "outputId": "ccbe0016-a609-41d6-f1a0-318b87963373"
      },
      "execution_count": 4,
      "outputs": [
        {
          "output_type": "stream",
          "name": "stdout",
          "text": [
            "\n",
            "------------ Apartments data df shape: (107, 7)\n",
            "\n",
            "------------\n",
            "                              apartment_address num_beds  \\\n",
            "0     10 Wilmington Ave, North York, ON M3H 5H7     1, 2   \n",
            "1  1042 Sheppard Avenue W., Toronto, ON M3H 2T6     1, 2   \n",
            "2       11 Goldfinch Ct, North York, ON M2R 2C2  1, 2, 3   \n",
            "3      110 Inverlochy Blvd, Markham, ON L3T 3R6  1, 2, 3   \n",
            "4      111 Inverlochy Blvd, Markham, ON L3T 3R7  1, 2, 3   \n",
            "\n",
            "                                       phone_numbers       Elementary_School  \\\n",
            "0                         253-256-1634, 437-500-1353   Dublin Heights E & MS   \n",
            "1                                       416-636-9130   Dublin Heights E & MS   \n",
            "2  416-633-8409, 647-701-9936, 416-630-3553, 416-...             Yorkview PS   \n",
            "3                                       905-881-0089  Baythorn Public School   \n",
            "4                                       905-763-7508  Baythorn Public School   \n",
            "\n",
            "            Middle_School                 High_School  \\\n",
            "0   Dublin Heights E & MS      William L Mackenzie CI   \n",
            "1   Dublin Heights E & MS      William L Mackenzie CI   \n",
            "2      Charles H Best JMS        Northview Heights SS   \n",
            "3  Baythorn Public School  Thornhill Secondary School   \n",
            "4  Baythorn Public School  Thornhill Secondary School   \n",
            "\n",
            "                 address_no_postal_code  \n",
            "0     10 Wilmington Ave, North York, ON  \n",
            "1  1042 Sheppard Avenue W., Toronto, ON  \n",
            "2       11 Goldfinch Ct, North York, ON  \n",
            "3      110 Inverlochy Blvd, Markham, ON  \n",
            "4      111 Inverlochy Blvd, Markham, ON  \n"
          ]
        }
      ]
    },
    {
      "cell_type": "code",
      "source": [
        "from geopy.geocoders import Nominatim\n",
        "from geopy.distance import geodesic\n",
        "from geopy.exc import GeocoderTimedOut, GeocoderServiceError\n",
        "\n",
        "geolocator = Nominatim(user_agent=\"myApp\")"
      ],
      "metadata": {
        "id": "F9EY1RadI1ri"
      },
      "execution_count": 5,
      "outputs": []
    },
    {
      "cell_type": "code",
      "source": [
        "ind = 2\n",
        "address_check = apartments_data_out_df['address_no_postal_code'].iloc[ind]\n",
        "print(address_check)\n",
        "\n",
        "location = geolocator.geocode(address_check)\n",
        "lat = location.latitude\n",
        "lon = location.longitude\n",
        "print(lat, lon)"
      ],
      "metadata": {
        "colab": {
          "base_uri": "https://localhost:8080/"
        },
        "id": "XEf_QOUZJUlf",
        "outputId": "fd067f58-a692-41a2-972c-efea1136fdd3"
      },
      "execution_count": 6,
      "outputs": [
        {
          "output_type": "stream",
          "name": "stdout",
          "text": [
            "11 Goldfinch Ct, North York, ON\n",
            "43.77185095 -79.44980282528441\n"
          ]
        }
      ]
    },
    {
      "cell_type": "code",
      "source": [
        "print( geolocator.geocode('110 Inverlochy Blvd, Markham, ON') )"
      ],
      "metadata": {
        "colab": {
          "base_uri": "https://localhost:8080/"
        },
        "id": "KoXlE9AFOptp",
        "outputId": "40ea20a9-48b4-4a84-cbb4-bfdbeec34baa"
      },
      "execution_count": 7,
      "outputs": [
        {
          "output_type": "stream",
          "name": "stdout",
          "text": [
            "110, Inverlochy Boulevard, Langstaff, Markham, York Region, Golden Horseshoe, Ontario, L3T 3C0, Canada\n"
          ]
        }
      ]
    },
    {
      "cell_type": "code",
      "source": [
        "def apply_geocode(address):\n",
        "    try:\n",
        "        location = geolocator.geocode(address)\n",
        "        if location:\n",
        "            return (location.latitude, location.longitude)\n",
        "        else:\n",
        "            return (None, None)\n",
        "    except Exception as e:\n",
        "        print(f\"Error geocoding address: {address} - {e}\")\n",
        "        return (None, None)"
      ],
      "metadata": {
        "id": "hGz08oQILGwf"
      },
      "execution_count": 8,
      "outputs": []
    },
    {
      "cell_type": "code",
      "source": [
        "tqdm.pandas(desc=\"Geocoding addresses\")\n",
        "apartments_data_out_df['lat_long'] = apartments_data_out_df['address_no_postal_code'].progress_apply(apply_geocode)\n",
        "\n",
        "print(apartments_data_out_df.head())"
      ],
      "metadata": {
        "colab": {
          "base_uri": "https://localhost:8080/"
        },
        "id": "eNaZUg3fNsOF",
        "outputId": "a714801d-a877-4af0-cfbe-dde06ea40363"
      },
      "execution_count": 9,
      "outputs": [
        {
          "output_type": "stream",
          "name": "stderr",
          "text": [
            "Geocoding addresses:  19%|█▊        | 20/107 [00:09<00:46,  1.85it/s]WARNING:urllib3.connectionpool:Retrying (Retry(total=1, connect=None, read=None, redirect=None, status=None)) after connection broken by 'ReadTimeoutError(\"HTTPSConnectionPool(host='nominatim.openstreetmap.org', port=443): Read timed out. (read timeout=1)\")': /search?q=166+Wilson+Ave%2C+North+York%2C+ON&format=json&limit=1\n",
            "Geocoding addresses:  96%|█████████▋| 103/107 [00:52<00:02,  1.92it/s]WARNING:urllib3.connectionpool:Retrying (Retry(total=1, connect=None, read=None, redirect=None, status=None)) after connection broken by 'ReadTimeoutError(\"HTTPSConnectionPool(host='nominatim.openstreetmap.org', port=443): Read timed out. (read timeout=1)\")': /search?q=777+Steeles+Ave+W%2C+North+York%2C+ON&format=json&limit=1\n",
            "Geocoding addresses:  98%|█████████▊| 105/107 [00:54<00:01,  1.39it/s]WARNING:urllib3.connectionpool:Retrying (Retry(total=1, connect=None, read=None, redirect=None, status=None)) after connection broken by 'ReadTimeoutError(\"HTTPSConnectionPool(host='nominatim.openstreetmap.org', port=443): Read timed out. (read timeout=1)\")': /search?q=8+Vinci+Crescent%2C+North+York%2C+ON&format=json&limit=1\n",
            "WARNING:urllib3.connectionpool:Retrying (Retry(total=0, connect=None, read=None, redirect=None, status=None)) after connection broken by 'ReadTimeoutError(\"HTTPSConnectionPool(host='nominatim.openstreetmap.org', port=443): Read timed out. (read timeout=1)\")': /search?q=8+Vinci+Crescent%2C+North+York%2C+ON&format=json&limit=1\n",
            "Geocoding addresses: 100%|██████████| 107/107 [00:58<00:00,  1.83it/s]"
          ]
        },
        {
          "output_type": "stream",
          "name": "stdout",
          "text": [
            "                              apartment_address num_beds  \\\n",
            "0     10 Wilmington Ave, North York, ON M3H 5H7     1, 2   \n",
            "1  1042 Sheppard Avenue W., Toronto, ON M3H 2T6     1, 2   \n",
            "2       11 Goldfinch Ct, North York, ON M2R 2C2  1, 2, 3   \n",
            "3      110 Inverlochy Blvd, Markham, ON L3T 3R6  1, 2, 3   \n",
            "4      111 Inverlochy Blvd, Markham, ON L3T 3R7  1, 2, 3   \n",
            "\n",
            "                                       phone_numbers       Elementary_School  \\\n",
            "0                         253-256-1634, 437-500-1353   Dublin Heights E & MS   \n",
            "1                                       416-636-9130   Dublin Heights E & MS   \n",
            "2  416-633-8409, 647-701-9936, 416-630-3553, 416-...             Yorkview PS   \n",
            "3                                       905-881-0089  Baythorn Public School   \n",
            "4                                       905-763-7508  Baythorn Public School   \n",
            "\n",
            "            Middle_School                 High_School  \\\n",
            "0   Dublin Heights E & MS      William L Mackenzie CI   \n",
            "1   Dublin Heights E & MS      William L Mackenzie CI   \n",
            "2      Charles H Best JMS        Northview Heights SS   \n",
            "3  Baythorn Public School  Thornhill Secondary School   \n",
            "4  Baythorn Public School  Thornhill Secondary School   \n",
            "\n",
            "                 address_no_postal_code  \\\n",
            "0     10 Wilmington Ave, North York, ON   \n",
            "1  1042 Sheppard Avenue W., Toronto, ON   \n",
            "2       11 Goldfinch Ct, North York, ON   \n",
            "3      110 Inverlochy Blvd, Markham, ON   \n",
            "4      111 Inverlochy Blvd, Markham, ON   \n",
            "\n",
            "                                   lat_long  \n",
            "0                  (43.7527717, -79.452327)  \n",
            "1           (43.750815, -79.46202076179775)  \n",
            "2         (43.77185095, -79.44980282528441)  \n",
            "3  (43.824577500000004, -79.42416645464004)  \n",
            "4           (43.825214, -79.42341498291606)  \n"
          ]
        },
        {
          "output_type": "stream",
          "name": "stderr",
          "text": [
            "\n"
          ]
        }
      ]
    },
    {
      "cell_type": "markdown",
      "source": [
        "##### Create a map"
      ],
      "metadata": {
        "id": "dDlcwVGPRvqX"
      }
    },
    {
      "cell_type": "code",
      "source": [
        "import folium\n",
        "\n",
        "# Create a base map\n",
        "m = folium.Map(location=[43.75491558522391, -79.4229619534175], zoom_start=10)\n",
        "\n",
        "# Iterate through the DataFrame and add each lat/long as a marker on the map\n",
        "for index, row in apartments_data_out_df.iterrows():\n",
        "    lat, lon = row['lat_long']\n",
        "    phone_number = row['phone_numbers']\n",
        "    apartment_address = row['apartment_address']\n",
        "    beds = row['num_beds']\n",
        "    elem_school = row['Elementary_School']\n",
        "    middle_school = row['Middle_School']\n",
        "    high_school = row['High_School']\n",
        "\n",
        "    # Create a popup with the desired information\n",
        "    # popup_text = f\"Address: {apartment_address}<br>Bedrooms: {beds}<br>Phone: {phone_number}\"\n",
        "    popup_html = f\"\"\"\n",
        "        <span style=\"font-size: 14px;\"><strong>Address:</strong> {apartment_address}</span><br>\n",
        "        <span style=\"font-size: 14px;\"><strong>Bedrooms:</strong> {beds}</span><br>\n",
        "        <span style=\"font-size: 14px;\"><strong>Phone numbers:</strong> {phone_number}</span><br><br>\n",
        "        <span style=\"font-size: 14px;\"><strong>Elementary School:</strong> {elem_school}</span><br>\n",
        "        <span style=\"font-size: 14px;\"><strong>Middle School:</strong> {middle_school}</span><br>\n",
        "        <span style=\"font-size: 14px;\"><strong>High School:</strong> {high_school}</span>\n",
        "        \"\"\"\n",
        "    popup = folium.Popup(popup_html, max_width=300)\n",
        "\n",
        "    # folium.Marker([lat, lon]).add_to(m)\n",
        "    folium.Marker([lat, lon], popup=popup).add_to(m)\n",
        "\n",
        "# Save the map to an HTML file\n",
        "m.save('my_map.html')"
      ],
      "metadata": {
        "id": "jNGa3T5KRxkK"
      },
      "execution_count": 16,
      "outputs": []
    }
  ]
}