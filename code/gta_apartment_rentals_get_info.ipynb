{
  "nbformat": 4,
  "nbformat_minor": 0,
  "metadata": {
    "colab": {
      "provenance": [],
      "authorship_tag": "ABX9TyM9WFUtMPp5l+i4j+NutCzq",
      "include_colab_link": true
    },
    "kernelspec": {
      "name": "python3",
      "display_name": "Python 3"
    },
    "language_info": {
      "name": "python"
    }
  },
  "cells": [
    {
      "cell_type": "markdown",
      "metadata": {
        "id": "view-in-github",
        "colab_type": "text"
      },
      "source": [
        "<a href=\"https://colab.research.google.com/github/alex-jk/GTA_apartment_rentals/blob/main/code/gta_apartment_rentals_get_info.ipynb\" target=\"_parent\"><img src=\"https://colab.research.google.com/assets/colab-badge.svg\" alt=\"Open In Colab\"/></a>"
      ]
    },
    {
      "cell_type": "code",
      "source": [
        "!pip install --upgrade gspread google-auth google-auth-oauthlib google-auth-httplib2\n",
        "!pip install requests"
      ],
      "metadata": {
        "colab": {
          "base_uri": "https://localhost:8080/",
          "height": 1000
        },
        "id": "lQsc9iytwZ4i",
        "outputId": "890ed7af-faf3-4534-e085-7c4038eb00d1"
      },
      "execution_count": 1,
      "outputs": [
        {
          "output_type": "stream",
          "name": "stdout",
          "text": [
            "Requirement already satisfied: gspread in /usr/local/lib/python3.10/dist-packages (3.4.2)\n",
            "Collecting gspread\n",
            "  Downloading gspread-6.0.2-py3-none-any.whl (53 kB)\n",
            "\u001b[2K     \u001b[90m━━━━━━━━━━━━━━━━━━━━━━━━━━━━━━━━━━━━━━━━\u001b[0m \u001b[32m53.9/53.9 kB\u001b[0m \u001b[31m1.0 MB/s\u001b[0m eta \u001b[36m0:00:00\u001b[0m\n",
            "\u001b[?25hRequirement already satisfied: google-auth in /usr/local/lib/python3.10/dist-packages (2.27.0)\n",
            "Collecting google-auth\n",
            "  Downloading google_auth-2.28.1-py2.py3-none-any.whl (186 kB)\n",
            "\u001b[2K     \u001b[90m━━━━━━━━━━━━━━━━━━━━━━━━━━━━━━━━━━━━━━━━\u001b[0m \u001b[32m186.9/186.9 kB\u001b[0m \u001b[31m6.6 MB/s\u001b[0m eta \u001b[36m0:00:00\u001b[0m\n",
            "\u001b[?25hRequirement already satisfied: google-auth-oauthlib in /usr/local/lib/python3.10/dist-packages (1.2.0)\n",
            "Requirement already satisfied: google-auth-httplib2 in /usr/local/lib/python3.10/dist-packages (0.1.1)\n",
            "Collecting google-auth-httplib2\n",
            "  Downloading google_auth_httplib2-0.2.0-py2.py3-none-any.whl (9.3 kB)\n",
            "Collecting StrEnum==0.4.15 (from gspread)\n",
            "  Downloading StrEnum-0.4.15-py3-none-any.whl (8.9 kB)\n",
            "Requirement already satisfied: cachetools<6.0,>=2.0.0 in /usr/local/lib/python3.10/dist-packages (from google-auth) (5.3.3)\n",
            "Requirement already satisfied: pyasn1-modules>=0.2.1 in /usr/local/lib/python3.10/dist-packages (from google-auth) (0.3.0)\n",
            "Requirement already satisfied: rsa<5,>=3.1.4 in /usr/local/lib/python3.10/dist-packages (from google-auth) (4.9)\n",
            "Requirement already satisfied: requests-oauthlib>=0.7.0 in /usr/local/lib/python3.10/dist-packages (from google-auth-oauthlib) (1.3.1)\n",
            "Requirement already satisfied: httplib2>=0.19.0 in /usr/local/lib/python3.10/dist-packages (from google-auth-httplib2) (0.22.0)\n",
            "Requirement already satisfied: pyparsing!=3.0.0,!=3.0.1,!=3.0.2,!=3.0.3,<4,>=2.4.2 in /usr/local/lib/python3.10/dist-packages (from httplib2>=0.19.0->google-auth-httplib2) (3.1.1)\n",
            "Requirement already satisfied: pyasn1<0.6.0,>=0.4.6 in /usr/local/lib/python3.10/dist-packages (from pyasn1-modules>=0.2.1->google-auth) (0.5.1)\n",
            "Requirement already satisfied: oauthlib>=3.0.0 in /usr/local/lib/python3.10/dist-packages (from requests-oauthlib>=0.7.0->google-auth-oauthlib) (3.2.2)\n",
            "Requirement already satisfied: requests>=2.0.0 in /usr/local/lib/python3.10/dist-packages (from requests-oauthlib>=0.7.0->google-auth-oauthlib) (2.31.0)\n",
            "Requirement already satisfied: charset-normalizer<4,>=2 in /usr/local/lib/python3.10/dist-packages (from requests>=2.0.0->requests-oauthlib>=0.7.0->google-auth-oauthlib) (3.3.2)\n",
            "Requirement already satisfied: idna<4,>=2.5 in /usr/local/lib/python3.10/dist-packages (from requests>=2.0.0->requests-oauthlib>=0.7.0->google-auth-oauthlib) (3.6)\n",
            "Requirement already satisfied: urllib3<3,>=1.21.1 in /usr/local/lib/python3.10/dist-packages (from requests>=2.0.0->requests-oauthlib>=0.7.0->google-auth-oauthlib) (2.0.7)\n",
            "Requirement already satisfied: certifi>=2017.4.17 in /usr/local/lib/python3.10/dist-packages (from requests>=2.0.0->requests-oauthlib>=0.7.0->google-auth-oauthlib) (2024.2.2)\n",
            "Installing collected packages: StrEnum, google-auth, google-auth-httplib2, gspread\n",
            "  Attempting uninstall: google-auth\n",
            "    Found existing installation: google-auth 2.27.0\n",
            "    Uninstalling google-auth-2.27.0:\n",
            "      Successfully uninstalled google-auth-2.27.0\n",
            "  Attempting uninstall: google-auth-httplib2\n",
            "    Found existing installation: google-auth-httplib2 0.1.1\n",
            "    Uninstalling google-auth-httplib2-0.1.1:\n",
            "      Successfully uninstalled google-auth-httplib2-0.1.1\n",
            "  Attempting uninstall: gspread\n",
            "    Found existing installation: gspread 3.4.2\n",
            "    Uninstalling gspread-3.4.2:\n",
            "      Successfully uninstalled gspread-3.4.2\n",
            "\u001b[31mERROR: pip's dependency resolver does not currently take into account all the packages that are installed. This behaviour is the source of the following dependency conflicts.\n",
            "google-colab 1.0.0 requires google-auth==2.27.0, but you have google-auth 2.28.1 which is incompatible.\u001b[0m\u001b[31m\n",
            "\u001b[0mSuccessfully installed StrEnum-0.4.15 google-auth-2.28.1 google-auth-httplib2-0.2.0 gspread-6.0.2\n"
          ]
        },
        {
          "output_type": "display_data",
          "data": {
            "application/vnd.colab-display-data+json": {
              "pip_warning": {
                "packages": [
                  "google"
                ]
              },
              "id": "ce14f40e9f4b4853aa712e46ddd4d9a5"
            }
          },
          "metadata": {}
        },
        {
          "output_type": "stream",
          "name": "stdout",
          "text": [
            "Requirement already satisfied: requests in /usr/local/lib/python3.10/dist-packages (2.31.0)\n",
            "Requirement already satisfied: charset-normalizer<4,>=2 in /usr/local/lib/python3.10/dist-packages (from requests) (3.3.2)\n",
            "Requirement already satisfied: idna<4,>=2.5 in /usr/local/lib/python3.10/dist-packages (from requests) (3.6)\n",
            "Requirement already satisfied: urllib3<3,>=1.21.1 in /usr/local/lib/python3.10/dist-packages (from requests) (2.0.7)\n",
            "Requirement already satisfied: certifi>=2017.4.17 in /usr/local/lib/python3.10/dist-packages (from requests) (2024.2.2)\n",
            "Traceback (most recent call last):\n",
            "  File \"/usr/local/lib/python3.10/dist-packages/pip/_vendor/pkg_resources/__init__.py\", line 3108, in _dep_map\n",
            "    return self.__dep_map\n",
            "  File \"/usr/local/lib/python3.10/dist-packages/pip/_vendor/pkg_resources/__init__.py\", line 2901, in __getattr__\n",
            "    raise AttributeError(attr)\n",
            "AttributeError: _DistInfoDistribution__dep_map\n",
            "\n",
            "During handling of the above exception, another exception occurred:\n",
            "\n",
            "Traceback (most recent call last):\n",
            "  File \"/usr/local/lib/python3.10/dist-packages/pip/_internal/cli/base_command.py\", line 169, in exc_logging_wrapper\n",
            "    status = run_func(*args)\n",
            "  File \"/usr/local/lib/python3.10/dist-packages/pip/_internal/cli/req_command.py\", line 242, in wrapper\n",
            "    return func(self, options, args)\n",
            "  File \"/usr/local/lib/python3.10/dist-packages/pip/_internal/commands/install.py\", line 441, in run\n",
            "    conflicts = self._determine_conflicts(to_install)\n",
            "  File \"/usr/local/lib/python3.10/dist-packages/pip/_internal/commands/install.py\", line 572, in _determine_conflicts\n",
            "    return check_install_conflicts(to_install)\n",
            "  File \"/usr/local/lib/python3.10/dist-packages/pip/_internal/operations/check.py\", line 101, in check_install_conflicts\n",
            "    package_set, _ = create_package_set_from_installed()\n",
            "  File \"/usr/local/lib/python3.10/dist-packages/pip/_internal/operations/check.py\", line 42, in create_package_set_from_installed\n",
            "    dependencies = list(dist.iter_dependencies())\n",
            "  File \"/usr/local/lib/python3.10/dist-packages/pip/_internal/metadata/pkg_resources.py\", line 216, in iter_dependencies\n",
            "    return self._dist.requires(extras)\n",
            "  File \"/usr/local/lib/python3.10/dist-packages/pip/_vendor/pkg_resources/__init__.py\", line 2821, in requires\n",
            "    dm = self._dep_map\n",
            "  File \"/usr/local/lib/python3.10/dist-packages/pip/_vendor/pkg_resources/__init__.py\", line 3110, in _dep_map\n",
            "    self.__dep_map = self._compute_dependencies()\n",
            "  File \"/usr/local/lib/python3.10/dist-packages/pip/_vendor/pkg_resources/__init__.py\", line 3120, in _compute_dependencies\n",
            "    reqs.extend(parse_requirements(req))\n",
            "  File \"/usr/local/lib/python3.10/dist-packages/pip/_vendor/pkg_resources/__init__.py\", line 3173, in __init__\n",
            "    super(Requirement, self).__init__(requirement_string)\n",
            "  File \"/usr/local/lib/python3.10/dist-packages/pip/_vendor/packaging/requirements.py\", line 102, in __init__\n",
            "    req = REQUIREMENT.parseString(requirement_string)\n",
            "  File \"/usr/local/lib/python3.10/dist-packages/pip/_vendor/pyparsing/core.py\", line 1131, in parse_string\n",
            "    loc, tokens = self._parse(instring, 0)\n",
            "  File \"/usr/local/lib/python3.10/dist-packages/pip/_vendor/pyparsing/core.py\", line 817, in _parseNoCache\n",
            "    loc, tokens = self.parseImpl(instring, pre_loc, doActions)\n",
            "  File \"/usr/local/lib/python3.10/dist-packages/pip/_vendor/pyparsing/core.py\", line 3886, in parseImpl\n",
            "    loc, exprtokens = e._parse(instring, loc, doActions)\n",
            "  File \"/usr/local/lib/python3.10/dist-packages/pip/_vendor/pyparsing/core.py\", line 817, in _parseNoCache\n",
            "    loc, tokens = self.parseImpl(instring, pre_loc, doActions)\n",
            "  File \"/usr/local/lib/python3.10/dist-packages/pip/_vendor/pyparsing/core.py\", line 4114, in parseImpl\n",
            "    return e._parse(\n",
            "  File \"/usr/local/lib/python3.10/dist-packages/pip/_vendor/pyparsing/core.py\", line 817, in _parseNoCache\n",
            "    loc, tokens = self.parseImpl(instring, pre_loc, doActions)\n",
            "  File \"/usr/local/lib/python3.10/dist-packages/pip/_vendor/pyparsing/core.py\", line 3886, in parseImpl\n",
            "    loc, exprtokens = e._parse(instring, loc, doActions)\n",
            "  File \"/usr/local/lib/python3.10/dist-packages/pip/_vendor/pyparsing/core.py\", line 817, in _parseNoCache\n",
            "    loc, tokens = self.parseImpl(instring, pre_loc, doActions)\n",
            "  File \"/usr/local/lib/python3.10/dist-packages/pip/_vendor/pyparsing/core.py\", line 4959, in parseImpl\n",
            "    loc, tokens = self_expr._parse(instring, loc, doActions, callPreParse=False)\n",
            "  File \"/usr/local/lib/python3.10/dist-packages/pip/_vendor/pyparsing/core.py\", line 817, in _parseNoCache\n",
            "    loc, tokens = self.parseImpl(instring, pre_loc, doActions)\n",
            "  File \"/usr/local/lib/python3.10/dist-packages/pip/_vendor/pyparsing/core.py\", line 3886, in parseImpl\n",
            "    loc, exprtokens = e._parse(instring, loc, doActions)\n",
            "  File \"/usr/local/lib/python3.10/dist-packages/pip/_vendor/pyparsing/core.py\", line 817, in _parseNoCache\n",
            "    loc, tokens = self.parseImpl(instring, pre_loc, doActions)\n",
            "  File \"/usr/local/lib/python3.10/dist-packages/pip/_vendor/pyparsing/core.py\", line 3886, in parseImpl\n",
            "    loc, exprtokens = e._parse(instring, loc, doActions)\n",
            "  File \"/usr/local/lib/python3.10/dist-packages/pip/_vendor/pyparsing/core.py\", line 817, in _parseNoCache\n",
            "    loc, tokens = self.parseImpl(instring, pre_loc, doActions)\n",
            "  File \"/usr/local/lib/python3.10/dist-packages/pip/_vendor/pyparsing/core.py\", line 5226, in parseImpl\n",
            "    return super().parseImpl(instring, loc, doActions)\n",
            "  File \"/usr/local/lib/python3.10/dist-packages/pip/_vendor/pyparsing/core.py\", line 4375, in parseImpl\n",
            "    return self.expr._parse(instring, loc, doActions, callPreParse=False)\n",
            "  File \"/usr/local/lib/python3.10/dist-packages/pip/_vendor/pyparsing/core.py\", line 817, in _parseNoCache\n",
            "    loc, tokens = self.parseImpl(instring, pre_loc, doActions)\n",
            "  File \"/usr/local/lib/python3.10/dist-packages/pip/_vendor/pyparsing/core.py\", line 3886, in parseImpl\n",
            "    loc, exprtokens = e._parse(instring, loc, doActions)\n",
            "  File \"/usr/local/lib/python3.10/dist-packages/pip/_vendor/pyparsing/core.py\", line 817, in _parseNoCache\n",
            "    loc, tokens = self.parseImpl(instring, pre_loc, doActions)\n",
            "  File \"/usr/local/lib/python3.10/dist-packages/pip/_vendor/pyparsing/core.py\", line 4891, in parseImpl\n",
            "    return super().parseImpl(instring, loc, doActions)\n",
            "  File \"/usr/local/lib/python3.10/dist-packages/pip/_vendor/pyparsing/core.py\", line 4790, in parseImpl\n",
            "    loc, tokens = self_expr_parse(instring, loc, doActions)\n",
            "  File \"/usr/local/lib/python3.10/dist-packages/pip/_vendor/pyparsing/core.py\", line 817, in _parseNoCache\n",
            "    loc, tokens = self.parseImpl(instring, pre_loc, doActions)\n",
            "  File \"/usr/local/lib/python3.10/dist-packages/pip/_vendor/pyparsing/core.py\", line 3886, in parseImpl\n",
            "    loc, exprtokens = e._parse(instring, loc, doActions)\n",
            "  File \"/usr/local/lib/python3.10/dist-packages/pip/_vendor/pyparsing/core.py\", line 817, in _parseNoCache\n",
            "    loc, tokens = self.parseImpl(instring, pre_loc, doActions)\n",
            "  File \"/usr/local/lib/python3.10/dist-packages/pip/_vendor/pyparsing/core.py\", line 5226, in parseImpl\n",
            "    return super().parseImpl(instring, loc, doActions)\n",
            "  File \"/usr/local/lib/python3.10/dist-packages/pip/_vendor/pyparsing/core.py\", line 4375, in parseImpl\n",
            "    return self.expr._parse(instring, loc, doActions, callPreParse=False)\n",
            "  File \"/usr/local/lib/python3.10/dist-packages/pip/_vendor/pyparsing/core.py\", line 817, in _parseNoCache\n",
            "    loc, tokens = self.parseImpl(instring, pre_loc, doActions)\n",
            "  File \"/usr/local/lib/python3.10/dist-packages/pip/_vendor/pyparsing/core.py\", line 3864, in parseImpl\n",
            "    loc, resultlist = self.exprs[0]._parse(\n",
            "  File \"/usr/local/lib/python3.10/dist-packages/pip/_vendor/pyparsing/core.py\", line 817, in _parseNoCache\n",
            "    loc, tokens = self.parseImpl(instring, pre_loc, doActions)\n",
            "  File \"/usr/local/lib/python3.10/dist-packages/pip/_vendor/pyparsing/core.py\", line 4114, in parseImpl\n",
            "    return e._parse(\n",
            "  File \"/usr/local/lib/python3.10/dist-packages/pip/_vendor/pyparsing/core.py\", line 817, in _parseNoCache\n",
            "    loc, tokens = self.parseImpl(instring, pre_loc, doActions)\n",
            "  File \"/usr/local/lib/python3.10/dist-packages/pip/_vendor/pyparsing/core.py\", line 4375, in parseImpl\n",
            "    return self.expr._parse(instring, loc, doActions, callPreParse=False)\n",
            "  File \"/usr/local/lib/python3.10/dist-packages/pip/_vendor/pyparsing/core.py\", line 817, in _parseNoCache\n",
            "    loc, tokens = self.parseImpl(instring, pre_loc, doActions)\n",
            "  File \"/usr/local/lib/python3.10/dist-packages/pip/_vendor/pyparsing/core.py\", line 3864, in parseImpl\n",
            "    loc, resultlist = self.exprs[0]._parse(\n",
            "  File \"/usr/local/lib/python3.10/dist-packages/pip/_vendor/pyparsing/core.py\", line 817, in _parseNoCache\n",
            "    loc, tokens = self.parseImpl(instring, pre_loc, doActions)\n",
            "  File \"/usr/local/lib/python3.10/dist-packages/pip/_vendor/pyparsing/core.py\", line 4114, in parseImpl\n",
            "    return e._parse(\n",
            "  File \"/usr/local/lib/python3.10/dist-packages/pip/_vendor/pyparsing/core.py\", line 817, in _parseNoCache\n",
            "    loc, tokens = self.parseImpl(instring, pre_loc, doActions)\n",
            "  File \"/usr/local/lib/python3.10/dist-packages/pip/_vendor/pyparsing/core.py\", line 4114, in parseImpl\n",
            "    return e._parse(\n",
            "  File \"/usr/local/lib/python3.10/dist-packages/pip/_vendor/pyparsing/core.py\", line 776, in _parseNoCache\n",
            "    def _parseNoCache(\n",
            "KeyboardInterrupt\n",
            "\n",
            "During handling of the above exception, another exception occurred:\n",
            "\n",
            "Traceback (most recent call last):\n",
            "  File \"/usr/local/bin/pip3\", line 8, in <module>\n",
            "    sys.exit(main())\n",
            "  File \"/usr/local/lib/python3.10/dist-packages/pip/_internal/cli/main.py\", line 79, in main\n",
            "    return command.main(cmd_args)\n",
            "  File \"/usr/local/lib/python3.10/dist-packages/pip/_internal/cli/base_command.py\", line 101, in main\n",
            "    return self._main(args)\n",
            "  File \"/usr/local/lib/python3.10/dist-packages/pip/_internal/cli/base_command.py\", line 223, in _main\n",
            "    return run(options, args)\n",
            "  File \"/usr/local/lib/python3.10/dist-packages/pip/_internal/cli/base_command.py\", line 206, in exc_logging_wrapper\n",
            "    logger.critical(\"Operation cancelled by user\")\n",
            "  File \"/usr/lib/python3.10/logging/__init__.py\", line 1524, in critical\n",
            "    self._log(CRITICAL, msg, args, **kwargs)\n",
            "  File \"/usr/lib/python3.10/logging/__init__.py\", line 1612, in _log\n",
            "    fn, lno, func, sinfo = self.findCaller(stack_info, stacklevel)\n",
            "  File \"/usr/lib/python3.10/logging/__init__.py\", line 1560, in findCaller\n",
            "    while f and stacklevel > 1:\n",
            "KeyboardInterrupt\n",
            "^C\n"
          ]
        }
      ]
    },
    {
      "cell_type": "code",
      "execution_count": 1,
      "metadata": {
        "id": "KX0EbpOXvyho"
      },
      "outputs": [],
      "source": [
        "import pandas as pd\n",
        "import requests\n",
        "import re\n",
        "import requests\n",
        "from bs4 import BeautifulSoup\n",
        "from tqdm import tqdm"
      ]
    },
    {
      "cell_type": "code",
      "source": [
        "from google.colab import auth\n",
        "auth.authenticate_user()\n",
        "\n",
        "import google.auth\n",
        "from google.colab import drive\n",
        "drive.mount('/content/drive')\n",
        "\n",
        "credentials, project = google.auth.default(scopes=['https://www.googleapis.com/auth/spreadsheets'])"
      ],
      "metadata": {
        "colab": {
          "base_uri": "https://localhost:8080/"
        },
        "id": "bx5IUjU9wLhk",
        "outputId": "cb58b362-3654-407c-af65-c6dac0531427"
      },
      "execution_count": 2,
      "outputs": [
        {
          "output_type": "stream",
          "name": "stdout",
          "text": [
            "Mounted at /content/drive\n"
          ]
        }
      ]
    },
    {
      "cell_type": "markdown",
      "source": [
        "#### Import input data GTA_apartment_buildings_list"
      ],
      "metadata": {
        "id": "Tz-jv37m-QXM"
      }
    },
    {
      "cell_type": "code",
      "source": [
        "import gspread\n",
        "\n",
        "gc = gspread.authorize(credentials)\n",
        "\n",
        "sheet_name = 'GTA_apartment_buildings_list'\n",
        "sh = gc.open(sheet_name)\n",
        "worksheet = sh.sheet1\n",
        "\n",
        "# Get all the records of the data\n",
        "apartments_data = worksheet.get_all_records()\n",
        "\n",
        "# Convert to a DataFrame\n",
        "apartments_data_df = pd.DataFrame(apartments_data)\n",
        "\n",
        "# Display the first few rows of the dataframe\n",
        "print(f\"\\n------------ Apartments data df shape: {apartments_data_df.shape}\")\n",
        "print(\"\\n------------\")\n",
        "print(apartments_data_df.head())"
      ],
      "metadata": {
        "colab": {
          "base_uri": "https://localhost:8080/"
        },
        "id": "gRnSEY0KwpmA",
        "outputId": "ae83829e-4c36-4f55-8daa-db2f84b72e24"
      },
      "execution_count": 4,
      "outputs": [
        {
          "output_type": "stream",
          "name": "stdout",
          "text": [
            "\n",
            "------------ Apartments data df shape: (117, 7)\n",
            "\n",
            "------------\n",
            "                          apartment_address num_beds  \\\n",
            "0    155 Antibes Dr, North York, ON M2R 3G7  1, 2, 3   \n",
            "1    300 Antibes Dr, North York, ON M2R 3N8  1, 2, 3   \n",
            "2        901 Avenue Rd, Toronto, ON M5P 2K7  1, 2, 3   \n",
            "3   155 Balliol Street, Toronto, ON M4S 1C4  1, 2, 3   \n",
            "4  3575 Bathurst St, North York, ON M6A 2C8     1, 2   \n",
            "\n",
            "                                       phone_numbers    Elementary_School  \\\n",
            "0                         437-973-3626, 416-665-4430          Rockford PS   \n",
            "1           437-900-6800, 416-665-2100, 437-900-6811          Rockford PS   \n",
            "2                         416-485-7207, 416-751-3368    Oriole Park Jr PS   \n",
            "3           888-244-6696, 647-507-4461, 416-487-4461     Davisville Jr PS   \n",
            "4  647-559-7317, 647-694-8048, 437-227-9562, 647-...  Ledbury Park E & MS   \n",
            "\n",
            "         Middle_School           High_School street_name  \n",
            "0    Fisherville Sr PS  Northview Heights SS     Antibes  \n",
            "1    Fisherville Sr PS  Northview Heights SS     Antibes  \n",
            "2           Hodgson MS      North Toronto CI      Avenue  \n",
            "3           Hodgson MS      North Toronto CI     Balliol  \n",
            "4  Ledbury Park E & MS       John Polanyi CI    Bathurst  \n"
          ]
        }
      ]
    },
    {
      "cell_type": "code",
      "source": [
        "def find_phone_number(address, query_str):\n",
        "    query = address.replace(' ', '+') + query_str\n",
        "    url = f\"https://www.google.com/search?q={query}\"\n",
        "\n",
        "    headers = {\n",
        "        \"User-Agent\": \"Mozilla/5.0 (Windows NT 10.0; Win64; x64) AppleWebKit/537.36 (KHTML, like Gecko) Chrome/58.0.3029.110 Safari/537.3\"}\n",
        "\n",
        "    response = requests.get(url, headers=headers)\n",
        "\n",
        "    if response.status_code == 200:\n",
        "        soup = BeautifulSoup(response.text, 'html.parser')\n",
        "\n",
        "        # Use regular expressions to find phone numbers\n",
        "        phone_regex = re.compile(r'\\(\\d{3}\\)\\s*\\d{3}-\\d{4}|\\d{3}-\\d{3}-\\d{4}')\n",
        "        text = soup.get_text()\n",
        "        # print(\"\\n----------------\")\n",
        "        # print(text)\n",
        "        phone_numbers = phone_regex.findall(text)\n",
        "\n",
        "        if phone_numbers:\n",
        "            # Remove duplicates and format phone numbers consistently\n",
        "            formatted_numbers = [re.sub(r'[^0-9]', '', number) for number in set(phone_numbers)]\n",
        "            formatted_numbers = [f\"{num[:3]}-{num[3:6]}-{num[6:]}\" for num in formatted_numbers]\n",
        "            formatted_numbers = list(set(formatted_numbers))\n",
        "\n",
        "            return formatted_numbers\n",
        "        else:\n",
        "            return []\n",
        "    else:\n",
        "        return []"
      ],
      "metadata": {
        "id": "GTvurBtwzGVl"
      },
      "execution_count": 32,
      "outputs": []
    },
    {
      "cell_type": "code",
      "source": [
        "def expand_ranges(beds_list):\n",
        "    expanded_list = []\n",
        "    for item in beds_list:\n",
        "        if '-' in item:  # Check if item is a range\n",
        "            start, end = map(int, item.split('-'))\n",
        "            expanded_list.extend(range(start, end + 1))  # Add all numbers in the range\n",
        "        else:\n",
        "            expanded_list.append(int(item))  # Add individual numbers directly\n",
        "    return expanded_list\n",
        "\n",
        "def find_num_beds(address, query_str):\n",
        "    query = address.replace(' ', '+') + query_str\n",
        "    query_apartments_com = address.replace(' ', '+') + \"+apartments+com\"\n",
        "    url = f\"https://www.google.com/search?q={query}\"\n",
        "    url_apartments_com = f\"https://www.google.com/search?q={query_apartments_com}\"\n",
        "\n",
        "    headers = {\n",
        "        \"User-Agent\": \"Mozilla/5.0 (Windows NT 10.0; Win64; x64) AppleWebKit/537.36 (KHTML, like Gecko) Chrome/58.0.3029.110 Safari/537.3\"}\n",
        "\n",
        "    text_numbers_to_int = {'one': 1, '1': 1, 'two': 2, '2': 2, 'three': 3, '3': 3, 'four': 4, 'five': 5}\n",
        "\n",
        "    response = requests.get(url, headers=headers)\n",
        "    response_apartments_com = requests.get(url_apartments_com, headers=headers)\n",
        "\n",
        "    if response.status_code == 200:\n",
        "        soup = BeautifulSoup(response.text, 'html.parser')\n",
        "\n",
        "        # Use regular expressions to find phone numbers\n",
        "        numeric_bed_regex = re.compile(r'\\b(\\d+(?:-\\d+)?)\\s*beds?\\b', re.IGNORECASE)\n",
        "        text_bed_regex = re.compile(r'\\b(one|two|three|four|five|1|2|3)\\s*bedroom?\\b', re.IGNORECASE)\n",
        "        text = soup.get_text()\n",
        "        # print(\"\\n----------------\")\n",
        "        # print(text)\n",
        "\n",
        "        numeric_beds_list = numeric_bed_regex.findall(text)\n",
        "        expanded_beds_list = list(set( expand_ranges(numeric_beds_list) ))\n",
        "        expanded_beds_list.sort()\n",
        "        # print(f\"\\n numeric beds: {expanded_beds_list}\")\n",
        "\n",
        "        text_beds_list = text_bed_regex.findall(text)\n",
        "        text_beds_list = list(set(text_beds_list))\n",
        "        text_beds_list = [text_numbers_to_int[bed.lower()] for bed in text_beds_list]\n",
        "        if len(text_beds_list) > 0:\n",
        "          text_beds_list = list(range(1, max(text_beds_list) + 1))\n",
        "        # print(f\"\\n text beds: {text_beds_list}\")\n",
        "\n",
        "        combined_set = set(expanded_beds_list + text_beds_list)\n",
        "        combined_set = sorted(list(combined_set))\n",
        "\n",
        "        # if response_apartments_com.status_code == 200:\n",
        "        #   soup_apartments_com = BeautifulSoup(response_apartments_com.text, 'html.parser')\n",
        "        #   links = soup.find_all('a')\n",
        "        #   # Attempt to find the first valid apartments.com URL\n",
        "        #   apartments_url = None\n",
        "        #   for link in links:\n",
        "        #       href = link.get('href')\n",
        "        #       if 'apartments.com' in href:\n",
        "        #           # Typical Google search result URLs are redirected, so parse them to get the actual URL\n",
        "        #           start = href.find('http')\n",
        "        #           end = href.find('&', start)\n",
        "        #           if start != -1 and end != -1:\n",
        "        #               apartments_url = href[start:end]\n",
        "        #               break\n",
        "\n",
        "        #   if apartments_url:\n",
        "        #       print(\"Found Apartments.com URL:\", apartments_url)\n",
        "        #   else:\n",
        "        #       print(\"No Apartments.com URL found in the first few search results.\")\n",
        "\n",
        "        if combined_set:\n",
        "            smallest_bed_number = combined_set[0]\n",
        "            complete_beds_list = list(range(1, smallest_bed_number)) + combined_set\n",
        "\n",
        "            # Remove duplicates and sort again if necessary\n",
        "            complete_beds_list = sorted(set(complete_beds_list))\n",
        "            complete_beds_str = ', '.join(map(str, complete_beds_list))\n",
        "            return complete_beds_str\n",
        "        else:\n",
        "            return []\n",
        "    else:\n",
        "        return []"
      ],
      "metadata": {
        "id": "X8kMM9agS_2j"
      },
      "execution_count": 33,
      "outputs": []
    },
    {
      "cell_type": "code",
      "source": [
        "# def conditionally_find_num_beds(row, query_str):\n",
        "#     # If num_beds is missing, then call find_num_beds\n",
        "#     if pd.isna(row['num_beds']) or not str(row['num_beds']).strip():\n",
        "#         return find_num_beds(row['apartment_address'], query_str)\n",
        "#     else:\n",
        "#         return row['num_beds']\n",
        "\n",
        "def conditionally_find_value(row, column_name, search_function, *args, **kwargs):\n",
        "    \"\"\"\n",
        "    Checks if the specified column in a DataFrame row is missing or empty. If so, it calls\n",
        "    a specified search function to find the value.\n",
        "\n",
        "    Parameters:\n",
        "    - row: The row of the DataFrame.\n",
        "    - column_name: The name of the column to check and potentially fill.\n",
        "    - search_function: The function to call if the column value is missing or empty.\n",
        "                       This function should accept the apartment address as its first argument,\n",
        "                       followed by any *args and **kwargs necessary for the search.\n",
        "    - *args: Additional positional arguments to pass to the search_function.\n",
        "    - **kwargs: Additional keyword arguments to pass to the search_function.\n",
        "\n",
        "    Returns:\n",
        "    - The original value from the row[column_name] if it exists and is not empty,\n",
        "      otherwise the result from search_function.\n",
        "    \"\"\"\n",
        "    # Check if the column value is missing or empty\n",
        "    if pd.isna(row[column_name]) or not str(row[column_name]).strip():\n",
        "        # Call the search function with the address, args, and kwargs\n",
        "        return search_function(row['apartment_address'], *args, **kwargs)\n",
        "    else:\n",
        "        # Return the original value\n",
        "        return row[column_name]"
      ],
      "metadata": {
        "id": "ttYKDv2U9Olt"
      },
      "execution_count": 34,
      "outputs": []
    },
    {
      "cell_type": "code",
      "source": [
        "ind = 0\n",
        "\n",
        "print(apartments_data_df['apartment_address'][ind])\n",
        "print( find_phone_number(apartments_data_df['apartment_address'][ind], \"+apartment+building+phone+number\") )\n",
        "\n",
        "print( find_num_beds(apartments_data_df['apartment_address'][ind], \"+apartment+rent+beds\") )"
      ],
      "metadata": {
        "colab": {
          "base_uri": "https://localhost:8080/"
        },
        "id": "FjfleWmIzbUb",
        "outputId": "bd4b7c46-599e-4017-df6b-bcba72fc7bf5"
      },
      "execution_count": 35,
      "outputs": [
        {
          "output_type": "stream",
          "name": "stdout",
          "text": [
            "1 Fountainhead Rd, North York, ON M3J 1V6\n",
            "['416-663-7578', '416-663-4444']\n",
            "1, 2\n"
          ]
        }
      ]
    },
    {
      "cell_type": "code",
      "source": [
        "# Apply the find_phone_numbers function to each row\n",
        "query_str = \"+apartment+building+phone+number\"\n",
        "\n",
        "tqdm.pandas()\n",
        "# apartments_data_df['phone_numbers'] = apartments_data_df['apartment_address'].progress_apply(lambda address: find_phone_number(address, query_str))\n",
        "apartments_data_df['phone_numbers'] = apartments_data_df.progress_apply(conditionally_find_value, axis=1,\n",
        "                                                                        column_name='phone_numbers',\n",
        "                                                                        search_function=find_phone_number,\n",
        "                                                                        query_str=query_str)\n",
        "\n",
        "print(apartments_data_df.head(10))"
      ],
      "metadata": {
        "colab": {
          "base_uri": "https://localhost:8080/"
        },
        "id": "zINcLHWaAOHZ",
        "outputId": "4c527209-9899-4312-ee9a-02ff2a2181c7"
      },
      "execution_count": 36,
      "outputs": [
        {
          "output_type": "stream",
          "name": "stderr",
          "text": [
            "100%|██████████| 117/117 [00:00<00:00, 22152.01it/s]"
          ]
        },
        {
          "output_type": "stream",
          "name": "stdout",
          "text": [
            "                              apartment_address num_beds  \\\n",
            "0     1 Fountainhead Rd, North York, ON M3J 1V6  1, 2, 3   \n",
            "1     10 Wilmington Ave, North York, ON M3H 5H7     1, 2   \n",
            "2  1042 Sheppard Avenue W., Toronto, ON M3H 2T6     1, 2   \n",
            "3       11 Goldfinch Ct, North York, ON M2R 2C2  1, 2, 3   \n",
            "4      110 Inverlochy Blvd, Markham, ON L3T 3R6  1, 2, 3   \n",
            "5      111 Inverlochy Blvd, Markham, ON L3T 3R7  1, 2, 3   \n",
            "6       1130 Wilson Avenue, Toronto, ON M3M 1K3  1, 2, 3   \n",
            "7          12 Goldfinch Ct, Toronto, ON M2R 2C4  1, 2, 3   \n",
            "8      12 Oakburn Crescent, Toronto, ON M2N 2T4     1, 2   \n",
            "9         12 Rockford Road, Toronto, ON M2R 3A2  1, 2, 3   \n",
            "\n",
            "                                       phone_numbers Elementary_School  \\\n",
            "0                         416-663-7578, 416-663-4444                     \n",
            "1                         253-256-1634, 437-500-1353                     \n",
            "2                                       416-636-9130                     \n",
            "3  416-633-8409, 647-701-9936, 416-630-3553, 416-...                     \n",
            "4                                       905-881-0089                     \n",
            "5                                       905-763-7508                     \n",
            "6                                       416-923-4291                     \n",
            "7                                       416-633-0272                     \n",
            "8  416-226-2888, 416-226-5444, 416-487-3050, 647-...                     \n",
            "9  416-663-6956, 416-635-2949, 416-650-0569, 647-...                     \n",
            "\n",
            "  Middle_School High_School  \n",
            "0                            \n",
            "1                            \n",
            "2                            \n",
            "3                            \n",
            "4                            \n",
            "5                            \n",
            "6                            \n",
            "7                            \n",
            "8                            \n",
            "9                            \n"
          ]
        },
        {
          "output_type": "stream",
          "name": "stderr",
          "text": [
            "\n"
          ]
        }
      ]
    },
    {
      "cell_type": "code",
      "source": [
        "# Apply the find_phone_numbers function to each row\n",
        "query_str = \"+apartment+rent+beds\"\n",
        "\n",
        "# apartments_data_df['num_beds'] = apartments_data_df.progress_apply(lambda row: conditionally_find_num_beds(row, query_str), axis=1)\n",
        "apartments_data_df['num_beds'] = apartments_data_df.progress_apply(conditionally_find_value, axis=1,\n",
        "                                                                        column_name='num_beds',\n",
        "                                                                        search_function=find_num_beds,\n",
        "                                                                        query_str=query_str)\n",
        "\n",
        "print(apartments_data_df.head(10))"
      ],
      "metadata": {
        "colab": {
          "base_uri": "https://localhost:8080/"
        },
        "id": "n2170PoAIpGG",
        "outputId": "ee6ee863-ea2c-44b6-c48c-316cf3c22f4f"
      },
      "execution_count": 37,
      "outputs": [
        {
          "output_type": "stream",
          "name": "stderr",
          "text": [
            "100%|██████████| 117/117 [00:00<00:00, 13386.44it/s]"
          ]
        },
        {
          "output_type": "stream",
          "name": "stdout",
          "text": [
            "                              apartment_address num_beds  \\\n",
            "0     1 Fountainhead Rd, North York, ON M3J 1V6  1, 2, 3   \n",
            "1     10 Wilmington Ave, North York, ON M3H 5H7     1, 2   \n",
            "2  1042 Sheppard Avenue W., Toronto, ON M3H 2T6     1, 2   \n",
            "3       11 Goldfinch Ct, North York, ON M2R 2C2  1, 2, 3   \n",
            "4      110 Inverlochy Blvd, Markham, ON L3T 3R6  1, 2, 3   \n",
            "5      111 Inverlochy Blvd, Markham, ON L3T 3R7  1, 2, 3   \n",
            "6       1130 Wilson Avenue, Toronto, ON M3M 1K3  1, 2, 3   \n",
            "7          12 Goldfinch Ct, Toronto, ON M2R 2C4  1, 2, 3   \n",
            "8      12 Oakburn Crescent, Toronto, ON M2N 2T4     1, 2   \n",
            "9         12 Rockford Road, Toronto, ON M2R 3A2  1, 2, 3   \n",
            "\n",
            "                                       phone_numbers Elementary_School  \\\n",
            "0                         416-663-7578, 416-663-4444                     \n",
            "1                         253-256-1634, 437-500-1353                     \n",
            "2                                       416-636-9130                     \n",
            "3  416-633-8409, 647-701-9936, 416-630-3553, 416-...                     \n",
            "4                                       905-881-0089                     \n",
            "5                                       905-763-7508                     \n",
            "6                                       416-923-4291                     \n",
            "7                                       416-633-0272                     \n",
            "8  416-226-2888, 416-226-5444, 416-487-3050, 647-...                     \n",
            "9  416-663-6956, 416-635-2949, 416-650-0569, 647-...                     \n",
            "\n",
            "  Middle_School High_School  \n",
            "0                            \n",
            "1                            \n",
            "2                            \n",
            "3                            \n",
            "4                            \n",
            "5                            \n",
            "6                            \n",
            "7                            \n",
            "8                            \n",
            "9                            \n"
          ]
        },
        {
          "output_type": "stream",
          "name": "stderr",
          "text": [
            "\n"
          ]
        }
      ]
    },
    {
      "cell_type": "code",
      "source": [
        "print(apartments_data_df.head(10))"
      ],
      "metadata": {
        "colab": {
          "base_uri": "https://localhost:8080/"
        },
        "id": "cypKi94UTt31",
        "outputId": "381898d8-18af-4fe7-eed2-84f48f3f0a6d"
      },
      "execution_count": 38,
      "outputs": [
        {
          "output_type": "stream",
          "name": "stdout",
          "text": [
            "                              apartment_address num_beds  \\\n",
            "0     1 Fountainhead Rd, North York, ON M3J 1V6  1, 2, 3   \n",
            "1     10 Wilmington Ave, North York, ON M3H 5H7     1, 2   \n",
            "2  1042 Sheppard Avenue W., Toronto, ON M3H 2T6     1, 2   \n",
            "3       11 Goldfinch Ct, North York, ON M2R 2C2  1, 2, 3   \n",
            "4      110 Inverlochy Blvd, Markham, ON L3T 3R6  1, 2, 3   \n",
            "5      111 Inverlochy Blvd, Markham, ON L3T 3R7  1, 2, 3   \n",
            "6       1130 Wilson Avenue, Toronto, ON M3M 1K3  1, 2, 3   \n",
            "7          12 Goldfinch Ct, Toronto, ON M2R 2C4  1, 2, 3   \n",
            "8      12 Oakburn Crescent, Toronto, ON M2N 2T4     1, 2   \n",
            "9         12 Rockford Road, Toronto, ON M2R 3A2  1, 2, 3   \n",
            "\n",
            "                                       phone_numbers Elementary_School  \\\n",
            "0                         416-663-7578, 416-663-4444                     \n",
            "1                         253-256-1634, 437-500-1353                     \n",
            "2                                       416-636-9130                     \n",
            "3  416-633-8409, 647-701-9936, 416-630-3553, 416-...                     \n",
            "4                                       905-881-0089                     \n",
            "5                                       905-763-7508                     \n",
            "6                                       416-923-4291                     \n",
            "7                                       416-633-0272                     \n",
            "8  416-226-2888, 416-226-5444, 416-487-3050, 647-...                     \n",
            "9  416-663-6956, 416-635-2949, 416-650-0569, 647-...                     \n",
            "\n",
            "  Middle_School High_School  \n",
            "0                            \n",
            "1                            \n",
            "2                            \n",
            "3                            \n",
            "4                            \n",
            "5                            \n",
            "6                            \n",
            "7                            \n",
            "8                            \n",
            "9                            \n"
          ]
        }
      ]
    },
    {
      "cell_type": "code",
      "source": [
        "def extract_street_name(address):\n",
        "    match = re.search(r'\\d+\\s([A-Za-z\\s]+)\\s', address)\n",
        "    if match:\n",
        "        return match.group(1).strip()\n",
        "    else:\n",
        "        return None\n",
        "\n",
        "ind = 7\n",
        "print( apartments_data_df['apartment_address'].iloc[ind] )\n",
        "\n",
        "extract_street_name( apartments_data_df['apartment_address'].iloc[ind] )\n",
        "\n",
        "apartments_data_df['street_name'] = apartments_data_df['apartment_address'].apply(extract_street_name)"
      ],
      "metadata": {
        "colab": {
          "base_uri": "https://localhost:8080/"
        },
        "id": "AAgAv1VrFmKM",
        "outputId": "3c609ba7-0893-4b73-a78d-8ba954c14d42"
      },
      "execution_count": 48,
      "outputs": [
        {
          "output_type": "stream",
          "name": "stdout",
          "text": [
            "12 Goldfinch Ct, Toronto, ON M2R 2C4\n"
          ]
        }
      ]
    },
    {
      "cell_type": "code",
      "source": [
        "apartments_data_df['num_beds'] = apartments_data_df['num_beds'].astype(str)"
      ],
      "metadata": {
        "id": "XhBp5TP0FP87"
      },
      "execution_count": 49,
      "outputs": []
    },
    {
      "cell_type": "code",
      "source": [
        "from gspread_dataframe import set_with_dataframe\n",
        "\n",
        "spreadsheet_title = 'GTA_apartment_buildings_output'\n",
        "\n",
        "try:\n",
        "    # Attempt to open the existing spreadsheet\n",
        "    sh = gc.open(spreadsheet_title)\n",
        "    # If successful, delete the spreadsheet by moving it to trash\n",
        "    gc.del_spreadsheet(sh.id)\n",
        "    print(f\"Existing spreadsheet '{spreadsheet_title}' moved to trash.\")\n",
        "except gspread.SpreadsheetNotFound:\n",
        "    # If the spreadsheet does not exist, just continue\n",
        "    print(f\"No existing spreadsheet named '{spreadsheet_title}' found. Creating a new one.\")\n",
        "\n",
        "sh = gc.create(spreadsheet_title)\n",
        "worksheet = sh.get_worksheet(0)\n",
        "\n",
        "set_with_dataframe(worksheet, apartments_data_df)"
      ],
      "metadata": {
        "colab": {
          "base_uri": "https://localhost:8080/"
        },
        "id": "rtM9LTa6OdgX",
        "outputId": "e9decf57-2b99-40b4-bfc2-adb7d660d3e1"
      },
      "execution_count": 50,
      "outputs": [
        {
          "output_type": "stream",
          "name": "stdout",
          "text": [
            "Existing spreadsheet 'GTA_apartment_buildings_output' moved to trash.\n"
          ]
        }
      ]
    },
    {
      "cell_type": "markdown",
      "source": [
        "#### Import output dataset"
      ],
      "metadata": {
        "id": "Jbcx_BSuG-e5"
      }
    },
    {
      "cell_type": "code",
      "source": [
        "sheet_name = 'GTA_apartment_buildings_output'\n",
        "sh = gc.open(sheet_name)\n",
        "worksheet = sh.sheet1\n",
        "\n",
        "# Get all the records of the data\n",
        "apartments_data_out = worksheet.get_all_records()\n",
        "\n",
        "# Convert to a DataFrame\n",
        "apartments_data_out_df = pd.DataFrame(apartments_data_out)\n",
        "\n",
        "# create address column with no postal code\n",
        "regex_pattern = r'\\b[A-Z]\\d[A-Z] \\d[A-Z]\\d\\b'\n",
        "apartments_data_out_df['address_no_postal_code'] = apartments_data_out_df['apartment_address'].str.replace(regex_pattern, '', regex=True).str.strip()\n",
        "\n",
        "# Display the first few rows of the dataframe\n",
        "print(f\"\\n------------ Apartments data df shape: {apartments_data_out_df.shape}\")\n",
        "print(\"\\n------------\")\n",
        "print(apartments_data_out_df.head())"
      ],
      "metadata": {
        "colab": {
          "base_uri": "https://localhost:8080/"
        },
        "id": "R0yrGrfOHHzb",
        "outputId": "11ce07ac-53b5-4443-ed57-282bf16c34fb"
      },
      "execution_count": 12,
      "outputs": [
        {
          "output_type": "stream",
          "name": "stdout",
          "text": [
            "\n",
            "------------ Apartments data df shape: (117, 8)\n",
            "\n",
            "------------\n",
            "                          apartment_address num_beds  \\\n",
            "0    155 Antibes Dr, North York, ON M2R 3G7  1, 2, 3   \n",
            "1    300 Antibes Dr, North York, ON M2R 3N8  1, 2, 3   \n",
            "2        901 Avenue Rd, Toronto, ON M5P 2K7  1, 2, 3   \n",
            "3   155 Balliol Street, Toronto, ON M4S 1C4  1, 2, 3   \n",
            "4  3575 Bathurst St, North York, ON M6A 2C8     1, 2   \n",
            "\n",
            "                                       phone_numbers    Elementary_School  \\\n",
            "0                         437-973-3626, 416-665-4430          Rockford PS   \n",
            "1           437-900-6800, 416-665-2100, 437-900-6811          Rockford PS   \n",
            "2                         416-485-7207, 416-751-3368    Oriole Park Jr PS   \n",
            "3           888-244-6696, 647-507-4461, 416-487-4461     Davisville Jr PS   \n",
            "4  647-559-7317, 647-694-8048, 437-227-9562, 647-...  Ledbury Park E & MS   \n",
            "\n",
            "         Middle_School           High_School street_name  \\\n",
            "0    Fisherville Sr PS  Northview Heights SS     Antibes   \n",
            "1    Fisherville Sr PS  Northview Heights SS     Antibes   \n",
            "2           Hodgson MS      North Toronto CI      Avenue   \n",
            "3           Hodgson MS      North Toronto CI     Balliol   \n",
            "4  Ledbury Park E & MS       John Polanyi CI    Bathurst   \n",
            "\n",
            "             address_no_postal_code  \n",
            "0    155 Antibes Dr, North York, ON  \n",
            "1    300 Antibes Dr, North York, ON  \n",
            "2        901 Avenue Rd, Toronto, ON  \n",
            "3   155 Balliol Street, Toronto, ON  \n",
            "4  3575 Bathurst St, North York, ON  \n"
          ]
        }
      ]
    },
    {
      "cell_type": "code",
      "source": [
        "from geopy.geocoders import Nominatim\n",
        "from geopy.distance import geodesic\n",
        "from geopy.exc import GeocoderTimedOut, GeocoderServiceError\n",
        "\n",
        "geolocator = Nominatim(user_agent=\"myApp\")"
      ],
      "metadata": {
        "id": "F9EY1RadI1ri"
      },
      "execution_count": 13,
      "outputs": []
    },
    {
      "cell_type": "code",
      "source": [
        "ind = 2\n",
        "address_check = apartments_data_out_df['address_no_postal_code'].iloc[ind]\n",
        "print(address_check)\n",
        "\n",
        "location = geolocator.geocode(address_check)\n",
        "lat = location.latitude\n",
        "lon = location.longitude\n",
        "print(lat, lon)"
      ],
      "metadata": {
        "colab": {
          "base_uri": "https://localhost:8080/"
        },
        "id": "XEf_QOUZJUlf",
        "outputId": "1fc2dc91-419f-4545-d072-8fa591688072"
      },
      "execution_count": 14,
      "outputs": [
        {
          "output_type": "stream",
          "name": "stdout",
          "text": [
            "901 Avenue Rd, Toronto, ON\n",
            "43.700344666666666 -79.40666533333334\n"
          ]
        }
      ]
    },
    {
      "cell_type": "code",
      "source": [
        "print( geolocator.geocode('110 Inverlochy Blvd, Markham, ON') )"
      ],
      "metadata": {
        "colab": {
          "base_uri": "https://localhost:8080/"
        },
        "id": "KoXlE9AFOptp",
        "outputId": "6ac42cd0-a08a-49e7-b320-d4a25e5ee88d"
      },
      "execution_count": 15,
      "outputs": [
        {
          "output_type": "stream",
          "name": "stdout",
          "text": [
            "110, Inverlochy Boulevard, Langstaff, Markham, York Region, Golden Horseshoe, Ontario, L3T 3C0, Canada\n"
          ]
        }
      ]
    },
    {
      "cell_type": "code",
      "source": [
        "def apply_geocode(address):\n",
        "    try:\n",
        "        location = geolocator.geocode(address)\n",
        "        if location:\n",
        "            return (location.latitude, location.longitude)\n",
        "        else:\n",
        "            return (None, None)\n",
        "    except Exception as e:\n",
        "        print(f\"Error geocoding address: {address} - {e}\")\n",
        "        return (None, None)"
      ],
      "metadata": {
        "id": "hGz08oQILGwf"
      },
      "execution_count": 16,
      "outputs": []
    },
    {
      "cell_type": "code",
      "source": [
        "tqdm.pandas(desc=\"Geocoding addresses\")\n",
        "apartments_data_out_df['lat_long'] = apartments_data_out_df['address_no_postal_code'].progress_apply(apply_geocode)\n",
        "\n",
        "print(apartments_data_out_df.head())"
      ],
      "metadata": {
        "colab": {
          "base_uri": "https://localhost:8080/"
        },
        "id": "eNaZUg3fNsOF",
        "outputId": "a53b9218-f851-4111-9598-5f20387c7be4"
      },
      "execution_count": 17,
      "outputs": [
        {
          "output_type": "stream",
          "name": "stderr",
          "text": [
            "Geocoding addresses:  49%|████▊     | 57/117 [00:27<00:29,  2.03it/s]WARNING:urllib3.connectionpool:Retrying (Retry(total=1, connect=None, read=None, redirect=None, status=None)) after connection broken by 'ReadTimeoutError(\"HTTPSConnectionPool(host='nominatim.openstreetmap.org', port=443): Read timed out. (read timeout=1)\")': /search?q=77+Finch+Ave+E%2C+North+York%2C+ON&format=json&limit=1\n",
            "Geocoding addresses:  85%|████████▍ | 99/117 [00:49<00:08,  2.02it/s]WARNING:urllib3.connectionpool:Retrying (Retry(total=1, connect=None, read=None, redirect=None, status=None)) after connection broken by 'ReadTimeoutError(\"HTTPSConnectionPool(host='nominatim.openstreetmap.org', port=443): Read timed out. (read timeout=1)\")': /search?q=44+Stubbs+Dr%2C+North+York%2C+ON&format=json&limit=1\n",
            "Geocoding addresses: 100%|██████████| 117/117 [01:00<00:00,  1.94it/s]"
          ]
        },
        {
          "output_type": "stream",
          "name": "stdout",
          "text": [
            "                          apartment_address num_beds  \\\n",
            "0    155 Antibes Dr, North York, ON M2R 3G7  1, 2, 3   \n",
            "1    300 Antibes Dr, North York, ON M2R 3N8  1, 2, 3   \n",
            "2        901 Avenue Rd, Toronto, ON M5P 2K7  1, 2, 3   \n",
            "3   155 Balliol Street, Toronto, ON M4S 1C4  1, 2, 3   \n",
            "4  3575 Bathurst St, North York, ON M6A 2C8     1, 2   \n",
            "\n",
            "                                       phone_numbers    Elementary_School  \\\n",
            "0                         437-973-3626, 416-665-4430          Rockford PS   \n",
            "1           437-900-6800, 416-665-2100, 437-900-6811          Rockford PS   \n",
            "2                         416-485-7207, 416-751-3368    Oriole Park Jr PS   \n",
            "3           888-244-6696, 647-507-4461, 416-487-4461     Davisville Jr PS   \n",
            "4  647-559-7317, 647-694-8048, 437-227-9562, 647-...  Ledbury Park E & MS   \n",
            "\n",
            "         Middle_School           High_School street_name  \\\n",
            "0    Fisherville Sr PS  Northview Heights SS     Antibes   \n",
            "1    Fisherville Sr PS  Northview Heights SS     Antibes   \n",
            "2           Hodgson MS      North Toronto CI      Avenue   \n",
            "3           Hodgson MS      North Toronto CI     Balliol   \n",
            "4  Ledbury Park E & MS       John Polanyi CI    Bathurst   \n",
            "\n",
            "             address_no_postal_code                                  lat_long  \n",
            "0    155 Antibes Dr, North York, ON  (43.781838199999996, -79.44579932180501)  \n",
            "1    300 Antibes Dr, North York, ON          (43.7812811, -79.45008192438564)  \n",
            "2        901 Avenue Rd, Toronto, ON  (43.700344666666666, -79.40666533333334)  \n",
            "3   155 Balliol Street, Toronto, ON         (43.69795725, -79.39211126010835)  \n",
            "4  3575 Bathurst St, North York, ON         (43.73181025, -79.43234165570581)  \n"
          ]
        },
        {
          "output_type": "stream",
          "name": "stderr",
          "text": [
            "\n"
          ]
        }
      ]
    },
    {
      "cell_type": "markdown",
      "source": [
        "##### Create a map"
      ],
      "metadata": {
        "id": "dDlcwVGPRvqX"
      }
    },
    {
      "cell_type": "code",
      "source": [
        "import folium\n",
        "\n",
        "# Create a base map\n",
        "m = folium.Map(location=[43.75491558522391, -79.4229619534175], zoom_start=10)\n",
        "\n",
        "# Iterate through the DataFrame and add each lat/long as a marker on the map\n",
        "for index, row in apartments_data_out_df.iterrows():\n",
        "    lat, lon = row['lat_long']\n",
        "    phone_number = row['phone_numbers']\n",
        "    apartment_address = row['apartment_address']\n",
        "    beds = row['num_beds']\n",
        "    elem_school = row['Elementary_School']\n",
        "    middle_school = row['Middle_School']\n",
        "    high_school = row['High_School']\n",
        "\n",
        "    # Create a popup with the desired information\n",
        "    # popup_text = f\"Address: {apartment_address}<br>Bedrooms: {beds}<br>Phone: {phone_number}\"\n",
        "    popup_html = f\"\"\"\n",
        "        <span style=\"font-size: 14px;\"><strong>Address:</strong> {apartment_address}</span><br>\n",
        "        <span style=\"font-size: 14px;\"><strong>Bedrooms:</strong> {beds}</span><br>\n",
        "        <span style=\"font-size: 14px;\"><strong>Phone numbers:</strong> {phone_number}</span><br><br>\n",
        "        <span style=\"font-size: 14px;\"><strong>Elementary School:</strong> {elem_school}</span><br>\n",
        "        <span style=\"font-size: 14px;\"><strong>Middle School:</strong> {middle_school}</span><br>\n",
        "        <span style=\"font-size: 14px;\"><strong>High School:</strong> {high_school}</span>\n",
        "        \"\"\"\n",
        "    popup = folium.Popup(popup_html, max_width=300)\n",
        "\n",
        "    # folium.Marker([lat, lon]).add_to(m)\n",
        "    folium.Marker([lat, lon], popup=popup).add_to(m)\n",
        "\n",
        "# Save the map to an HTML file\n",
        "m.save('my_map.html')"
      ],
      "metadata": {
        "id": "jNGa3T5KRxkK"
      },
      "execution_count": 18,
      "outputs": []
    },
    {
      "cell_type": "markdown",
      "source": [
        "#### Get school addresses"
      ],
      "metadata": {
        "id": "ElPxx6YN5tZK"
      }
    },
    {
      "cell_type": "code",
      "source": [
        "def find_school_address(address, query_str):\n",
        "    query = address.replace(' ', '+') + query_str\n",
        "\n",
        "    url = f\"https://www.google.com/search?q={query}\"\n",
        "    url_apartments_com = f\"https://www.google.com/search?q={query_apartments_com}\"\n",
        "\n",
        "    headers = {\n",
        "        \"User-Agent\": \"Mozilla/5.0 (Windows NT 10.0; Win64; x64) AppleWebKit/537.36 (KHTML, like Gecko) Chrome/58.0.3029.110 Safari/537.3\"}\n",
        "\n",
        "    response = requests.get(url, headers=headers)\n",
        "\n",
        "    if response.status_code == 200:\n",
        "        soup = BeautifulSoup(response.text, 'html.parser')"
      ],
      "metadata": {
        "id": "uH2zAhF35vmR"
      },
      "execution_count": null,
      "outputs": []
    },
    {
      "cell_type": "code",
      "source": [
        "query_str = \"+school+address\""
      ],
      "metadata": {
        "id": "rYP3M1QL8qFh"
      },
      "execution_count": null,
      "outputs": []
    }
  ]
}