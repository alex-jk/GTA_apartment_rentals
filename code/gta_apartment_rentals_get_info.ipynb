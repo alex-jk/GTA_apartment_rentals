{
  "nbformat": 4,
  "nbformat_minor": 0,
  "metadata": {
    "colab": {
      "provenance": [],
      "authorship_tag": "ABX9TyOZoQphg8AsRRi1406ShBMn",
      "include_colab_link": true
    },
    "kernelspec": {
      "name": "python3",
      "display_name": "Python 3"
    },
    "language_info": {
      "name": "python"
    }
  },
  "cells": [
    {
      "cell_type": "markdown",
      "metadata": {
        "id": "view-in-github",
        "colab_type": "text"
      },
      "source": [
        "<a href=\"https://colab.research.google.com/github/alex-jk/GTA_apartment_rentals/blob/main/code/gta_apartment_rentals_get_info.ipynb\" target=\"_parent\"><img src=\"https://colab.research.google.com/assets/colab-badge.svg\" alt=\"Open In Colab\"/></a>"
      ]
    },
    {
      "cell_type": "code",
      "source": [
        "!pip install --upgrade gspread google-auth google-auth-oauthlib google-auth-httplib2\n",
        "!pip install requests"
      ],
      "metadata": {
        "colab": {
          "base_uri": "https://localhost:8080/",
          "height": 1000
        },
        "id": "lQsc9iytwZ4i",
        "outputId": "9a2414bf-ae1f-4142-a774-d625015229a9"
      },
      "execution_count": 1,
      "outputs": [
        {
          "output_type": "stream",
          "name": "stdout",
          "text": [
            "Requirement already satisfied: gspread in /usr/local/lib/python3.10/dist-packages (3.4.2)\n",
            "Collecting gspread\n",
            "  Downloading gspread-6.0.2-py3-none-any.whl (53 kB)\n",
            "\u001b[2K     \u001b[90m━━━━━━━━━━━━━━━━━━━━━━━━━━━━━━━━━━━━━━━━\u001b[0m \u001b[32m53.9/53.9 kB\u001b[0m \u001b[31m1.7 MB/s\u001b[0m eta \u001b[36m0:00:00\u001b[0m\n",
            "\u001b[?25hRequirement already satisfied: google-auth in /usr/local/lib/python3.10/dist-packages (2.27.0)\n",
            "Collecting google-auth\n",
            "  Downloading google_auth-2.28.1-py2.py3-none-any.whl (186 kB)\n",
            "\u001b[2K     \u001b[90m━━━━━━━━━━━━━━━━━━━━━━━━━━━━━━━━━━━━━━━━\u001b[0m \u001b[32m186.9/186.9 kB\u001b[0m \u001b[31m7.2 MB/s\u001b[0m eta \u001b[36m0:00:00\u001b[0m\n",
            "\u001b[?25hRequirement already satisfied: google-auth-oauthlib in /usr/local/lib/python3.10/dist-packages (1.2.0)\n",
            "Requirement already satisfied: google-auth-httplib2 in /usr/local/lib/python3.10/dist-packages (0.1.1)\n",
            "Collecting google-auth-httplib2\n",
            "  Downloading google_auth_httplib2-0.2.0-py2.py3-none-any.whl (9.3 kB)\n",
            "Collecting StrEnum==0.4.15 (from gspread)\n",
            "  Downloading StrEnum-0.4.15-py3-none-any.whl (8.9 kB)\n",
            "Requirement already satisfied: cachetools<6.0,>=2.0.0 in /usr/local/lib/python3.10/dist-packages (from google-auth) (5.3.3)\n",
            "Requirement already satisfied: pyasn1-modules>=0.2.1 in /usr/local/lib/python3.10/dist-packages (from google-auth) (0.3.0)\n",
            "Requirement already satisfied: rsa<5,>=3.1.4 in /usr/local/lib/python3.10/dist-packages (from google-auth) (4.9)\n",
            "Requirement already satisfied: requests-oauthlib>=0.7.0 in /usr/local/lib/python3.10/dist-packages (from google-auth-oauthlib) (1.3.1)\n",
            "Requirement already satisfied: httplib2>=0.19.0 in /usr/local/lib/python3.10/dist-packages (from google-auth-httplib2) (0.22.0)\n",
            "Requirement already satisfied: pyparsing!=3.0.0,!=3.0.1,!=3.0.2,!=3.0.3,<4,>=2.4.2 in /usr/local/lib/python3.10/dist-packages (from httplib2>=0.19.0->google-auth-httplib2) (3.1.1)\n",
            "Requirement already satisfied: pyasn1<0.6.0,>=0.4.6 in /usr/local/lib/python3.10/dist-packages (from pyasn1-modules>=0.2.1->google-auth) (0.5.1)\n",
            "Requirement already satisfied: oauthlib>=3.0.0 in /usr/local/lib/python3.10/dist-packages (from requests-oauthlib>=0.7.0->google-auth-oauthlib) (3.2.2)\n",
            "Requirement already satisfied: requests>=2.0.0 in /usr/local/lib/python3.10/dist-packages (from requests-oauthlib>=0.7.0->google-auth-oauthlib) (2.31.0)\n",
            "Requirement already satisfied: charset-normalizer<4,>=2 in /usr/local/lib/python3.10/dist-packages (from requests>=2.0.0->requests-oauthlib>=0.7.0->google-auth-oauthlib) (3.3.2)\n",
            "Requirement already satisfied: idna<4,>=2.5 in /usr/local/lib/python3.10/dist-packages (from requests>=2.0.0->requests-oauthlib>=0.7.0->google-auth-oauthlib) (3.6)\n",
            "Requirement already satisfied: urllib3<3,>=1.21.1 in /usr/local/lib/python3.10/dist-packages (from requests>=2.0.0->requests-oauthlib>=0.7.0->google-auth-oauthlib) (2.0.7)\n",
            "Requirement already satisfied: certifi>=2017.4.17 in /usr/local/lib/python3.10/dist-packages (from requests>=2.0.0->requests-oauthlib>=0.7.0->google-auth-oauthlib) (2024.2.2)\n",
            "Installing collected packages: StrEnum, google-auth, google-auth-httplib2, gspread\n",
            "  Attempting uninstall: google-auth\n",
            "    Found existing installation: google-auth 2.27.0\n",
            "    Uninstalling google-auth-2.27.0:\n",
            "      Successfully uninstalled google-auth-2.27.0\n",
            "  Attempting uninstall: google-auth-httplib2\n",
            "    Found existing installation: google-auth-httplib2 0.1.1\n",
            "    Uninstalling google-auth-httplib2-0.1.1:\n",
            "      Successfully uninstalled google-auth-httplib2-0.1.1\n",
            "  Attempting uninstall: gspread\n",
            "    Found existing installation: gspread 3.4.2\n",
            "    Uninstalling gspread-3.4.2:\n",
            "      Successfully uninstalled gspread-3.4.2\n",
            "\u001b[31mERROR: pip's dependency resolver does not currently take into account all the packages that are installed. This behaviour is the source of the following dependency conflicts.\n",
            "google-colab 1.0.0 requires google-auth==2.27.0, but you have google-auth 2.28.1 which is incompatible.\u001b[0m\u001b[31m\n",
            "\u001b[0mSuccessfully installed StrEnum-0.4.15 google-auth-2.28.1 google-auth-httplib2-0.2.0 gspread-6.0.2\n"
          ]
        },
        {
          "output_type": "display_data",
          "data": {
            "application/vnd.colab-display-data+json": {
              "pip_warning": {
                "packages": [
                  "google"
                ]
              },
              "id": "b99d735adc9740a58c9823097961ba7b"
            }
          },
          "metadata": {}
        },
        {
          "output_type": "stream",
          "name": "stdout",
          "text": [
            "Requirement already satisfied: requests in /usr/local/lib/python3.10/dist-packages (2.31.0)\n",
            "Requirement already satisfied: charset-normalizer<4,>=2 in /usr/local/lib/python3.10/dist-packages (from requests) (3.3.2)\n",
            "Requirement already satisfied: idna<4,>=2.5 in /usr/local/lib/python3.10/dist-packages (from requests) (3.6)\n",
            "Requirement already satisfied: urllib3<3,>=1.21.1 in /usr/local/lib/python3.10/dist-packages (from requests) (2.0.7)\n",
            "Requirement already satisfied: certifi>=2017.4.17 in /usr/local/lib/python3.10/dist-packages (from requests) (2024.2.2)\n",
            "\u001b[31mERROR: Operation cancelled by user\u001b[0m\u001b[31m\n",
            "\u001b[0mTraceback (most recent call last):\n",
            "  File \"/usr/local/lib/python3.10/dist-packages/pip/_vendor/pkg_resources/__init__.py\", line 3108, in _dep_map\n",
            "    return self.__dep_map\n",
            "  File \"/usr/local/lib/python3.10/dist-packages/pip/_vendor/pkg_resources/__init__.py\", line 2901, in __getattr__\n",
            "    raise AttributeError(attr)\n",
            "AttributeError: _DistInfoDistribution__dep_map\n",
            "\n",
            "During handling of the above exception, another exception occurred:\n",
            "\n",
            "Traceback (most recent call last):\n",
            "  File \"/usr/local/lib/python3.10/dist-packages/pip/_internal/cli/base_command.py\", line 169, in exc_logging_wrapper\n",
            "    status = run_func(*args)\n",
            "  File \"/usr/local/lib/python3.10/dist-packages/pip/_internal/cli/req_command.py\", line 242, in wrapper\n",
            "    return func(self, options, args)\n",
            "  File \"/usr/local/lib/python3.10/dist-packages/pip/_internal/commands/install.py\", line 441, in run\n",
            "    conflicts = self._determine_conflicts(to_install)\n",
            "  File \"/usr/local/lib/python3.10/dist-packages/pip/_internal/commands/install.py\", line 572, in _determine_conflicts\n",
            "    return check_install_conflicts(to_install)\n",
            "  File \"/usr/local/lib/python3.10/dist-packages/pip/_internal/operations/check.py\", line 101, in check_install_conflicts\n",
            "    package_set, _ = create_package_set_from_installed()\n",
            "  File \"/usr/local/lib/python3.10/dist-packages/pip/_internal/operations/check.py\", line 42, in create_package_set_from_installed\n",
            "    dependencies = list(dist.iter_dependencies())\n",
            "  File \"/usr/local/lib/python3.10/dist-packages/pip/_internal/metadata/pkg_resources.py\", line 216, in iter_dependencies\n",
            "    return self._dist.requires(extras)\n",
            "  File \"/usr/local/lib/python3.10/dist-packages/pip/_vendor/pkg_resources/__init__.py\", line 2821, in requires\n",
            "    dm = self._dep_map\n",
            "  File \"/usr/local/lib/python3.10/dist-packages/pip/_vendor/pkg_resources/__init__.py\", line 3110, in _dep_map\n",
            "    self.__dep_map = self._compute_dependencies()\n",
            "  File \"/usr/local/lib/python3.10/dist-packages/pip/_vendor/pkg_resources/__init__.py\", line 3120, in _compute_dependencies\n",
            "    reqs.extend(parse_requirements(req))\n",
            "  File \"/usr/local/lib/python3.10/dist-packages/pip/_vendor/pkg_resources/__init__.py\", line 3173, in __init__\n",
            "    super(Requirement, self).__init__(requirement_string)\n",
            "  File \"/usr/local/lib/python3.10/dist-packages/pip/_vendor/packaging/requirements.py\", line 102, in __init__\n",
            "    req = REQUIREMENT.parseString(requirement_string)\n",
            "  File \"/usr/local/lib/python3.10/dist-packages/pip/_vendor/pyparsing/core.py\", line 1131, in parse_string\n",
            "    loc, tokens = self._parse(instring, 0)\n",
            "  File \"/usr/local/lib/python3.10/dist-packages/pip/_vendor/pyparsing/core.py\", line 817, in _parseNoCache\n",
            "    loc, tokens = self.parseImpl(instring, pre_loc, doActions)\n",
            "  File \"/usr/local/lib/python3.10/dist-packages/pip/_vendor/pyparsing/core.py\", line 3886, in parseImpl\n",
            "    loc, exprtokens = e._parse(instring, loc, doActions)\n",
            "  File \"/usr/local/lib/python3.10/dist-packages/pip/_vendor/pyparsing/core.py\", line 817, in _parseNoCache\n",
            "    loc, tokens = self.parseImpl(instring, pre_loc, doActions)\n",
            "  File \"/usr/local/lib/python3.10/dist-packages/pip/_vendor/pyparsing/core.py\", line 4114, in parseImpl\n",
            "    return e._parse(\n",
            "  File \"/usr/local/lib/python3.10/dist-packages/pip/_vendor/pyparsing/core.py\", line 817, in _parseNoCache\n",
            "    loc, tokens = self.parseImpl(instring, pre_loc, doActions)\n",
            "  File \"/usr/local/lib/python3.10/dist-packages/pip/_vendor/pyparsing/core.py\", line 3886, in parseImpl\n",
            "    loc, exprtokens = e._parse(instring, loc, doActions)\n",
            "  File \"/usr/local/lib/python3.10/dist-packages/pip/_vendor/pyparsing/core.py\", line 817, in _parseNoCache\n",
            "    loc, tokens = self.parseImpl(instring, pre_loc, doActions)\n",
            "  File \"/usr/local/lib/python3.10/dist-packages/pip/_vendor/pyparsing/core.py\", line 4959, in parseImpl\n",
            "    loc, tokens = self_expr._parse(instring, loc, doActions, callPreParse=False)\n",
            "  File \"/usr/local/lib/python3.10/dist-packages/pip/_vendor/pyparsing/core.py\", line 817, in _parseNoCache\n",
            "    loc, tokens = self.parseImpl(instring, pre_loc, doActions)\n",
            "  File \"/usr/local/lib/python3.10/dist-packages/pip/_vendor/pyparsing/core.py\", line 3886, in parseImpl\n",
            "    loc, exprtokens = e._parse(instring, loc, doActions)\n",
            "  File \"/usr/local/lib/python3.10/dist-packages/pip/_vendor/pyparsing/core.py\", line 856, in _parseNoCache\n",
            "    tokens = fn(instring, tokens_start, ret_tokens)\n",
            "  File \"/usr/local/lib/python3.10/dist-packages/pip/_vendor/pyparsing/core.py\", line 291, in wrapper\n",
            "    ret = func(*args[limit:])\n",
            "  File \"/usr/local/lib/python3.10/dist-packages/pip/_vendor/packaging/requirements.py\", line 71, in <lambda>\n",
            "    lambda s, l, t: Marker(s[t._original_start : t._original_end])\n",
            "  File \"/usr/local/lib/python3.10/dist-packages/pip/_vendor/pyparsing/results.py\", line 420, in __getattr__\n",
            "    return self[name]\n",
            "  File \"/usr/local/lib/python3.10/dist-packages/pip/_vendor/pyparsing/results.py\", line 191, in __getitem__\n",
            "    def __getitem__(self, i):\n",
            "KeyboardInterrupt\n",
            "\n",
            "During handling of the above exception, another exception occurred:\n",
            "\n",
            "Traceback (most recent call last):\n",
            "  File \"/usr/local/bin/pip3\", line 8, in <module>\n",
            "    sys.exit(main())\n",
            "  File \"/usr/local/lib/python3.10/dist-packages/pip/_internal/cli/main.py\", line 79, in main\n",
            "    return command.main(cmd_args)\n",
            "  File \"/usr/local/lib/python3.10/dist-packages/pip/_internal/cli/base_command.py\", line 101, in main\n",
            "    return self._main(args)\n",
            "  File \"/usr/local/lib/python3.10/dist-packages/pip/_internal/cli/base_command.py\", line 223, in _main\n",
            "    return run(options, args)\n",
            "  File \"/usr/local/lib/python3.10/dist-packages/pip/_internal/cli/base_command.py\", line 207, in exc_logging_wrapper\n",
            "    logger.debug(\"Exception information:\", exc_info=True)\n",
            "  File \"/usr/lib/python3.10/logging/__init__.py\", line 1465, in debug\n",
            "    self._log(DEBUG, msg, args, **kwargs)\n",
            "  File \"/usr/lib/python3.10/logging/__init__.py\", line 1624, in _log\n",
            "    self.handle(record)\n",
            "  File \"/usr/lib/python3.10/logging/__init__.py\", line 1634, in handle\n",
            "    self.callHandlers(record)\n",
            "  File \"/usr/lib/python3.10/logging/__init__.py\", line 1696, in callHandlers\n",
            "    hdlr.handle(record)\n",
            "  File \"/usr/lib/python3.10/logging/__init__.py\", line 968, in handle\n",
            "    self.emit(record)\n",
            "  File \"/usr/lib/python3.10/logging/handlers.py\", line 75, in emit\n",
            "    logging.FileHandler.emit(self, record)\n",
            "  File \"/usr/lib/python3.10/logging/__init__.py\", line 1218, in emit\n",
            "    StreamHandler.emit(self, record)\n",
            "  File \"/usr/lib/python3.10/logging/__init__.py\", line 1100, in emit\n",
            "    msg = self.format(record)\n",
            "  File \"/usr/lib/python3.10/logging/__init__.py\", line 943, in format\n",
            "    return fmt.format(record)\n",
            "  File \"/usr/local/lib/python3.10/dist-packages/pip/_internal/utils/logging.py\", line 112, in format\n",
            "    formatted = super().format(record)\n",
            "  File \"/usr/lib/python3.10/logging/__init__.py\", line 686, in format\n",
            "    record.exc_text = self.formatException(record.exc_info)\n",
            "  File \"/usr/lib/python3.10/logging/__init__.py\", line 636, in formatException\n",
            "    traceback.print_exception(ei[0], ei[1], tb, None, sio)\n",
            "  File \"/usr/lib/python3.10/traceback.py\", line 119, in print_exception\n",
            "    te = TracebackException(type(value), value, tb, limit=limit, compact=True)\n",
            "  File \"/usr/lib/python3.10/traceback.py\", line 502, in __init__\n",
            "    self.stack = StackSummary.extract(\n",
            "  File \"/usr/lib/python3.10/traceback.py\", line 369, in extract\n",
            "    fnames.add(filename)\n",
            "KeyboardInterrupt\n",
            "^C\n"
          ]
        }
      ]
    },
    {
      "cell_type": "code",
      "execution_count": 26,
      "metadata": {
        "id": "KX0EbpOXvyho"
      },
      "outputs": [],
      "source": [
        "import pandas as pd\n",
        "import requests\n",
        "import re\n",
        "import requests\n",
        "from bs4 import BeautifulSoup\n",
        "from tqdm import tqdm"
      ]
    },
    {
      "cell_type": "code",
      "source": [
        "from google.colab import auth\n",
        "auth.authenticate_user()\n",
        "\n",
        "import google.auth\n",
        "from google.colab import drive\n",
        "drive.mount('/content/drive')\n",
        "\n",
        "credentials, project = google.auth.default(scopes=['https://www.googleapis.com/auth/spreadsheets'])"
      ],
      "metadata": {
        "colab": {
          "base_uri": "https://localhost:8080/"
        },
        "id": "bx5IUjU9wLhk",
        "outputId": "96bd17eb-a578-49b9-c31f-f523198f0995"
      },
      "execution_count": 3,
      "outputs": [
        {
          "output_type": "stream",
          "name": "stdout",
          "text": [
            "Mounted at /content/drive\n"
          ]
        }
      ]
    },
    {
      "cell_type": "code",
      "source": [
        "import gspread\n",
        "\n",
        "gc = gspread.authorize(credentials)\n",
        "\n",
        "sheet_name = 'GTA_apartment_buildings_list'\n",
        "sh = gc.open(sheet_name)\n",
        "worksheet = sh.sheet1\n",
        "\n",
        "# Get all the records of the data\n",
        "apartments_data = worksheet.get_all_records()\n",
        "\n",
        "# Convert to a DataFrame\n",
        "apartments_data_df = pd.DataFrame(apartments_data)\n",
        "\n",
        "# Display the first few rows of the dataframe\n",
        "print(f\"\\n------------ Apartments data df shape: {apartments_data_df.shape}\")\n",
        "print(\"\\n------------\")\n",
        "print(apartments_data_df.head())"
      ],
      "metadata": {
        "colab": {
          "base_uri": "https://localhost:8080/"
        },
        "id": "gRnSEY0KwpmA",
        "outputId": "b88741c6-0d6a-4f7a-98f6-d044a8234d40"
      },
      "execution_count": 4,
      "outputs": [
        {
          "output_type": "stream",
          "name": "stdout",
          "text": [
            "\n",
            "------------ Apartments data df shape: (108, 2)\n",
            "\n",
            "------------\n",
            "                              apartment_address num_beds\n",
            "0     10 Wilmington Ave, North York, ON M3H 5H7         \n",
            "1  1042 Sheppard Avenue W., Toronto, ON M3H 2T6         \n",
            "2       11 Goldfinch Ct, North York, ON M2R 2C2         \n",
            "3    110 Inverlochy Blvd, Thornhill, ON L3T 3R6         \n",
            "4    111 Inverlochy Blvd, Thornhill, ON L3T 3R7         \n"
          ]
        }
      ]
    },
    {
      "cell_type": "code",
      "source": [
        "def find_phone_number(address, query_str):\n",
        "    query = address.replace(' ', '+') + query_str\n",
        "    url = f\"https://www.google.com/search?q={query}\"\n",
        "\n",
        "    headers = {\n",
        "        \"User-Agent\": \"Mozilla/5.0 (Windows NT 10.0; Win64; x64) AppleWebKit/537.36 (KHTML, like Gecko) Chrome/58.0.3029.110 Safari/537.3\"}\n",
        "\n",
        "    response = requests.get(url, headers=headers)\n",
        "\n",
        "    if response.status_code == 200:\n",
        "        soup = BeautifulSoup(response.text, 'html.parser')\n",
        "\n",
        "        # Use regular expressions to find phone numbers\n",
        "        phone_regex = re.compile(r'\\(\\d{3}\\)\\s*\\d{3}-\\d{4}|\\d{3}-\\d{3}-\\d{4}')\n",
        "        text = soup.get_text()\n",
        "        # print(\"\\n----------------\")\n",
        "        # print(text)\n",
        "        phone_numbers = phone_regex.findall(text)\n",
        "\n",
        "        if phone_numbers:\n",
        "            # Remove duplicates and format phone numbers consistently\n",
        "            formatted_numbers = [re.sub(r'[^0-9]', '', number) for number in set(phone_numbers)]\n",
        "            formatted_numbers = [f\"{num[:3]}-{num[3:6]}-{num[6:]}\" for num in formatted_numbers]\n",
        "            formatted_numbers = list(set(formatted_numbers))\n",
        "\n",
        "            return formatted_numbers\n",
        "        else:\n",
        "            return []\n",
        "    else:\n",
        "        return []"
      ],
      "metadata": {
        "id": "GTvurBtwzGVl"
      },
      "execution_count": 123,
      "outputs": []
    },
    {
      "cell_type": "code",
      "source": [
        "def expand_ranges(beds_list):\n",
        "    expanded_list = []\n",
        "    for item in beds_list:\n",
        "        if '-' in item:  # Check if item is a range\n",
        "            start, end = map(int, item.split('-'))\n",
        "            expanded_list.extend(range(start, end + 1))  # Add all numbers in the range\n",
        "        else:\n",
        "            expanded_list.append(int(item))  # Add individual numbers directly\n",
        "    return expanded_list\n",
        "\n",
        "def find_num_beds(address, query_str):\n",
        "    query = address.replace(' ', '+') + query_str\n",
        "    query_apartments_com = address.replace(' ', '+') + \"+apartments+com\"\n",
        "    url = f\"https://www.google.com/search?q={query}\"\n",
        "    url_apartments_com = f\"https://www.google.com/search?q={query_apartments_com}\"\n",
        "\n",
        "    headers = {\n",
        "        \"User-Agent\": \"Mozilla/5.0 (Windows NT 10.0; Win64; x64) AppleWebKit/537.36 (KHTML, like Gecko) Chrome/58.0.3029.110 Safari/537.3\"}\n",
        "\n",
        "    text_numbers_to_int = {'one': 1, '1': 1, 'two': 2, '2': 2, 'three': 3, '3': 3, 'four': 4, 'five': 5}\n",
        "\n",
        "    response = requests.get(url, headers=headers)\n",
        "    response_apartments_com = requests.get(url_apartments_com, headers=headers)\n",
        "\n",
        "    if response.status_code == 200:\n",
        "        soup = BeautifulSoup(response.text, 'html.parser')\n",
        "\n",
        "        # Use regular expressions to find phone numbers\n",
        "        numeric_bed_regex = re.compile(r'\\b(\\d+(?:-\\d+)?)\\s*beds?\\b', re.IGNORECASE)\n",
        "        text_bed_regex = re.compile(r'\\b(one|two|three|four|five|1|2|3)\\s*bedroom?\\b', re.IGNORECASE)\n",
        "        text = soup.get_text()\n",
        "        # print(\"\\n----------------\")\n",
        "        # print(text)\n",
        "\n",
        "        numeric_beds_list = numeric_bed_regex.findall(text)\n",
        "        expanded_beds_list = list(set( expand_ranges(numeric_beds_list) ))\n",
        "        expanded_beds_list.sort()\n",
        "        # print(f\"\\n numeric beds: {expanded_beds_list}\")\n",
        "\n",
        "        text_beds_list = text_bed_regex.findall(text)\n",
        "        text_beds_list = list(set(text_beds_list))\n",
        "        text_beds_list = [text_numbers_to_int[bed.lower()] for bed in text_beds_list]\n",
        "        if len(text_beds_list) > 0:\n",
        "          text_beds_list = list(range(1, max(text_beds_list) + 1))\n",
        "        # print(f\"\\n text beds: {text_beds_list}\")\n",
        "\n",
        "        combined_set = set(expanded_beds_list + text_beds_list)\n",
        "        combined_set = sorted(list(combined_set))\n",
        "\n",
        "        # if response_apartments_com.status_code == 200:\n",
        "        #   soup_apartments_com = BeautifulSoup(response_apartments_com.text, 'html.parser')\n",
        "        #   links = soup.find_all('a')\n",
        "        #   # Attempt to find the first valid apartments.com URL\n",
        "        #   apartments_url = None\n",
        "        #   for link in links:\n",
        "        #       href = link.get('href')\n",
        "        #       if 'apartments.com' in href:\n",
        "        #           # Typical Google search result URLs are redirected, so parse them to get the actual URL\n",
        "        #           start = href.find('http')\n",
        "        #           end = href.find('&', start)\n",
        "        #           if start != -1 and end != -1:\n",
        "        #               apartments_url = href[start:end]\n",
        "        #               break\n",
        "\n",
        "        #   if apartments_url:\n",
        "        #       print(\"Found Apartments.com URL:\", apartments_url)\n",
        "        #   else:\n",
        "        #       print(\"No Apartments.com URL found in the first few search results.\")\n",
        "\n",
        "        if combined_set:\n",
        "            smallest_bed_number = combined_set[0]\n",
        "            complete_beds_list = list(range(1, smallest_bed_number)) + combined_set\n",
        "\n",
        "            # Remove duplicates and sort again if necessary\n",
        "            complete_beds_list = sorted(set(complete_beds_list))\n",
        "            complete_beds_str = ', '.join(map(str, complete_beds_list))\n",
        "            return complete_beds_str\n",
        "        else:\n",
        "            return []\n",
        "    else:\n",
        "        return []\n",
        "\n",
        "def conditionally_find_num_beds(row, query_str):\n",
        "    # If num_beds is missing, then call find_num_beds\n",
        "    if pd.isna(row['num_beds']) or not str(row['num_beds']).strip():\n",
        "        return find_num_beds(row['apartment_address'], query_str)\n",
        "    else:\n",
        "        return row['num_beds']"
      ],
      "metadata": {
        "id": "X8kMM9agS_2j"
      },
      "execution_count": 135,
      "outputs": []
    },
    {
      "cell_type": "code",
      "source": [
        "ind = 0\n",
        "\n",
        "print(apartments_data_df['apartment_address'][ind])\n",
        "find_phone_number(apartments_data_df['apartment_address'][ind], \"+apartment+building+phone+number\")\n",
        "\n",
        "find_num_beds(apartments_data_df['apartment_address'][ind], \"+apartment+rent+beds\")"
      ],
      "metadata": {
        "colab": {
          "base_uri": "https://localhost:8080/",
          "height": 55
        },
        "id": "FjfleWmIzbUb",
        "outputId": "69239583-cc73-429e-c34b-fae32f575fd7"
      },
      "execution_count": 125,
      "outputs": [
        {
          "output_type": "stream",
          "name": "stdout",
          "text": [
            "15 Maryport Ave, North York, ON M3M 0E2\n"
          ]
        },
        {
          "output_type": "execute_result",
          "data": {
            "text/plain": [
              "'1, 2'"
            ],
            "application/vnd.google.colaboratory.intrinsic+json": {
              "type": "string"
            }
          },
          "metadata": {},
          "execution_count": 125
        }
      ]
    },
    {
      "cell_type": "code",
      "source": [
        "# Apply the find_phone_numbers function to each row\n",
        "query_str = \"+apartment+building+phone+number\"\n",
        "\n",
        "apartments_data_df['phone_numbers'] = apartments_data_df['apartment_address'].progress_apply(lambda address: find_phone_number(address, query_str))\n",
        "\n",
        "print(apartments_data_df.head(10))"
      ],
      "metadata": {
        "colab": {
          "base_uri": "https://localhost:8080/"
        },
        "id": "zINcLHWaAOHZ",
        "outputId": "cf08e3cc-83d4-44a9-d345-457c0e0bc9b4"
      },
      "execution_count": 132,
      "outputs": [
        {
          "output_type": "stream",
          "name": "stderr",
          "text": [
            "100%|██████████| 108/108 [01:04<00:00,  1.67it/s]"
          ]
        },
        {
          "output_type": "stream",
          "name": "stdout",
          "text": [
            "                              apartment_address num_beds  \\\n",
            "0     10 Wilmington Ave, North York, ON M3H 5H7            \n",
            "1  1042 Sheppard Avenue W., Toronto, ON M3H 2T6            \n",
            "2       11 Goldfinch Ct, North York, ON M2R 2C2            \n",
            "3    110 Inverlochy Blvd, Thornhill, ON L3T 3R6            \n",
            "4    111 Inverlochy Blvd, Thornhill, ON L3T 3R7            \n",
            "5       1130 Wilson Avenue, Toronto, ON M3M 1K3            \n",
            "6          12 Goldfinch Ct, Toronto, ON M2R 2C4            \n",
            "7      12 Oakburn Crescent, Toronto, ON M2N 2T4            \n",
            "8         12 Rockford Road, Toronto, ON M2R 3A2            \n",
            "9   14 Carluke Crescent, North York, ON M2L 2H8            \n",
            "\n",
            "                                       phone_numbers  \n",
            "0                       [253-256-1634, 437-500-1353]  \n",
            "1                                     [416-636-9130]  \n",
            "2  [416-633-8409, 647-701-9936, 416-630-3553, 416...  \n",
            "3                                     [905-881-0089]  \n",
            "4                                     [905-763-7508]  \n",
            "5                                     [416-923-4291]  \n",
            "6                                     [416-633-0272]  \n",
            "7  [416-226-2888, 416-226-5444, 416-487-3050, 647...  \n",
            "8  [416-663-6956, 416-635-2949, 416-650-0569, 647...  \n",
            "9                       [647-352-7665, 416-225-7777]  \n"
          ]
        },
        {
          "output_type": "stream",
          "name": "stderr",
          "text": [
            "\n"
          ]
        }
      ]
    },
    {
      "cell_type": "code",
      "source": [
        "# Apply the find_phone_numbers function to each row\n",
        "query_str = \"+apartment+rent+beds\"\n",
        "\n",
        "tqdm.pandas()\n",
        "apartments_data_df['num_beds'] = apartments_data_df.progress_apply(lambda row: conditionally_find_num_beds(row, query_str), axis=1)\n",
        "\n",
        "print(apartments_data_df.head(10))"
      ],
      "metadata": {
        "colab": {
          "base_uri": "https://localhost:8080/"
        },
        "id": "n2170PoAIpGG",
        "outputId": "275a1300-4143-41d8-cf51-e49230cebdfb"
      },
      "execution_count": 136,
      "outputs": [
        {
          "output_type": "stream",
          "name": "stderr",
          "text": [
            "100%|██████████| 108/108 [02:18<00:00,  1.28s/it]"
          ]
        },
        {
          "output_type": "stream",
          "name": "stdout",
          "text": [
            "                              apartment_address num_beds  \\\n",
            "0     10 Wilmington Ave, North York, ON M3H 5H7     1, 2   \n",
            "1  1042 Sheppard Avenue W., Toronto, ON M3H 2T6     1, 2   \n",
            "2       11 Goldfinch Ct, North York, ON M2R 2C2  1, 2, 3   \n",
            "3    110 Inverlochy Blvd, Thornhill, ON L3T 3R6  1, 2, 3   \n",
            "4    111 Inverlochy Blvd, Thornhill, ON L3T 3R7  1, 2, 3   \n",
            "5       1130 Wilson Avenue, Toronto, ON M3M 1K3  1, 2, 3   \n",
            "6          12 Goldfinch Ct, Toronto, ON M2R 2C4  1, 2, 3   \n",
            "7      12 Oakburn Crescent, Toronto, ON M2N 2T4     1, 2   \n",
            "8         12 Rockford Road, Toronto, ON M2R 3A2  1, 2, 3   \n",
            "9   14 Carluke Crescent, North York, ON M2L 2H8  1, 2, 3   \n",
            "\n",
            "                                       phone_numbers  \n",
            "0                       [253-256-1634, 437-500-1353]  \n",
            "1                                     [416-636-9130]  \n",
            "2  [416-633-8409, 647-701-9936, 416-630-3553, 416...  \n",
            "3                                     [905-881-0089]  \n",
            "4                                     [905-763-7508]  \n",
            "5                                     [416-923-4291]  \n",
            "6                                     [416-633-0272]  \n",
            "7  [416-226-2888, 416-226-5444, 416-487-3050, 647...  \n",
            "8  [416-663-6956, 416-635-2949, 416-650-0569, 647...  \n",
            "9                       [647-352-7665, 416-225-7777]  \n"
          ]
        },
        {
          "output_type": "stream",
          "name": "stderr",
          "text": [
            "\n"
          ]
        }
      ]
    },
    {
      "cell_type": "code",
      "source": [
        "print(apartments_data_df.head(10))"
      ],
      "metadata": {
        "colab": {
          "base_uri": "https://localhost:8080/"
        },
        "id": "cypKi94UTt31",
        "outputId": "9f6422fb-307d-4eca-e989-3c12c1ec302b"
      },
      "execution_count": 141,
      "outputs": [
        {
          "output_type": "stream",
          "name": "stdout",
          "text": [
            "                              apartment_address num_beds  \\\n",
            "0     10 Wilmington Ave, North York, ON M3H 5H7     1, 2   \n",
            "1  1042 Sheppard Avenue W., Toronto, ON M3H 2T6     1, 2   \n",
            "2       11 Goldfinch Ct, North York, ON M2R 2C2  1, 2, 3   \n",
            "3    110 Inverlochy Blvd, Thornhill, ON L3T 3R6  1, 2, 3   \n",
            "4    111 Inverlochy Blvd, Thornhill, ON L3T 3R7  1, 2, 3   \n",
            "5       1130 Wilson Avenue, Toronto, ON M3M 1K3  1, 2, 3   \n",
            "6          12 Goldfinch Ct, Toronto, ON M2R 2C4  1, 2, 3   \n",
            "7      12 Oakburn Crescent, Toronto, ON M2N 2T4     1, 2   \n",
            "8         12 Rockford Road, Toronto, ON M2R 3A2  1, 2, 3   \n",
            "9   14 Carluke Crescent, North York, ON M2L 2H8  1, 2, 3   \n",
            "\n",
            "                                       phone_numbers  \n",
            "0                       [253-256-1634, 437-500-1353]  \n",
            "1                                     [416-636-9130]  \n",
            "2  [416-633-8409, 647-701-9936, 416-630-3553, 416...  \n",
            "3                                     [905-881-0089]  \n",
            "4                                     [905-763-7508]  \n",
            "5                                     [416-923-4291]  \n",
            "6                                     [416-633-0272]  \n",
            "7  [416-226-2888, 416-226-5444, 416-487-3050, 647...  \n",
            "8  [416-663-6956, 416-635-2949, 416-650-0569, 647...  \n",
            "9                       [647-352-7665, 416-225-7777]  \n"
          ]
        }
      ]
    },
    {
      "cell_type": "code",
      "source": [
        "from gspread_dataframe import set_with_dataframe\n",
        "\n",
        "spreadsheet_title = 'GTA_apartment_buildings_output'\n",
        "\n",
        "try:\n",
        "    # Attempt to open the existing spreadsheet\n",
        "    sh = gc.open(spreadsheet_title)\n",
        "    # If successful, delete the spreadsheet by moving it to trash\n",
        "    gc.del_spreadsheet(sh.id)\n",
        "    print(f\"Existing spreadsheet '{spreadsheet_title}' moved to trash.\")\n",
        "except gspread.SpreadsheetNotFound:\n",
        "    # If the spreadsheet does not exist, just continue\n",
        "    print(f\"No existing spreadsheet named '{spreadsheet_title}' found. Creating a new one.\")\n",
        "\n",
        "sh = gc.create(spreadsheet_title)\n",
        "worksheet = sh.get_worksheet(0)\n",
        "apartments_data_df['num_beds'] = apartments_data_df['num_beds'].astype(str)\n",
        "set_with_dataframe(worksheet, apartments_data_df)"
      ],
      "metadata": {
        "colab": {
          "base_uri": "https://localhost:8080/"
        },
        "id": "rtM9LTa6OdgX",
        "outputId": "827553ed-f493-4de3-dec6-59b3b8717e2b"
      },
      "execution_count": 142,
      "outputs": [
        {
          "output_type": "stream",
          "name": "stdout",
          "text": [
            "Existing spreadsheet 'GTA_apartment_buildings_output' moved to trash.\n"
          ]
        }
      ]
    },
    {
      "cell_type": "markdown",
      "source": [
        "##### Import output dataset"
      ],
      "metadata": {
        "id": "Jbcx_BSuG-e5"
      }
    },
    {
      "cell_type": "code",
      "source": [
        "sheet_name = 'GTA_apartment_buildings_output'\n",
        "sh = gc.open(sheet_name)\n",
        "worksheet = sh.sheet1\n",
        "\n",
        "# Get all the records of the data\n",
        "apartments_data_out = worksheet.get_all_records()\n",
        "\n",
        "# Convert to a DataFrame\n",
        "apartments_data_out_df = pd.DataFrame(apartments_data_out)\n",
        "\n",
        "# create address column with no postal code\n",
        "regex_pattern = r'\\b[A-Z]\\d[A-Z] \\d[A-Z]\\d\\b'\n",
        "apartments_data_out_df['address_no_postal_code'] = apartments_data_out_df['apartment_address'].str.replace(regex_pattern, '', regex=True).str.strip()\n",
        "\n",
        "# Display the first few rows of the dataframe\n",
        "print(f\"\\n------------ Apartments data df shape: {apartments_data_out_df.shape}\")\n",
        "print(\"\\n------------\")\n",
        "print(apartments_data_out_df.head())"
      ],
      "metadata": {
        "colab": {
          "base_uri": "https://localhost:8080/"
        },
        "id": "R0yrGrfOHHzb",
        "outputId": "211f6a87-5140-477e-eb75-34d6a2004bc3"
      },
      "execution_count": 31,
      "outputs": [
        {
          "output_type": "stream",
          "name": "stdout",
          "text": [
            "\n",
            "------------ Apartments data df shape: (107, 7)\n",
            "\n",
            "------------\n",
            "                              apartment_address num_beds  \\\n",
            "0     10 Wilmington Ave, North York, ON M3H 5H7     1, 2   \n",
            "1  1042 Sheppard Avenue W., Toronto, ON M3H 2T6     1, 2   \n",
            "2       11 Goldfinch Ct, North York, ON M2R 2C2  1, 2, 3   \n",
            "3      110 Inverlochy Blvd, Markham, ON L3T 3R6  1, 2, 3   \n",
            "4      111 Inverlochy Blvd, Markham, ON L3T 3R7  1, 2, 3   \n",
            "\n",
            "                                       phone_numbers       Elementary_School  \\\n",
            "0                         253-256-1634, 437-500-1353   Dublin Heights E & MS   \n",
            "1                                       416-636-9130   Dublin Heights E & MS   \n",
            "2  416-633-8409, 647-701-9936, 416-630-3553, 416-...             Yorkview PS   \n",
            "3                                       905-881-0089  Baythorn Public School   \n",
            "4                                       905-763-7508  Baythorn Public School   \n",
            "\n",
            "            Middle_School                 High_School  \\\n",
            "0   Dublin Heights E & MS      William L Mackenzie CI   \n",
            "1   Dublin Heights E & MS      William L Mackenzie CI   \n",
            "2      Charles H Best JMS        Northview Heights SS   \n",
            "3  Baythorn Public School  Thornhill Secondary School   \n",
            "4  Baythorn Public School  Thornhill Secondary School   \n",
            "\n",
            "                 address_no_postal_code  \n",
            "0     10 Wilmington Ave, North York, ON  \n",
            "1  1042 Sheppard Avenue W., Toronto, ON  \n",
            "2       11 Goldfinch Ct, North York, ON  \n",
            "3      110 Inverlochy Blvd, Markham, ON  \n",
            "4      111 Inverlochy Blvd, Markham, ON  \n"
          ]
        }
      ]
    },
    {
      "cell_type": "code",
      "source": [
        "from geopy.geocoders import Nominatim\n",
        "from geopy.distance import geodesic\n",
        "from geopy.exc import GeocoderTimedOut, GeocoderServiceError\n",
        "\n",
        "geolocator = Nominatim(user_agent=\"myApp\")"
      ],
      "metadata": {
        "id": "F9EY1RadI1ri"
      },
      "execution_count": 32,
      "outputs": []
    },
    {
      "cell_type": "code",
      "source": [
        "ind = 2\n",
        "address_check = apartments_data_out_df['address_no_postal_code'].iloc[ind]\n",
        "print(address_check)\n",
        "\n",
        "location = geolocator.geocode(address_check)\n",
        "lat = location.latitude\n",
        "lon = location.longitude\n",
        "print(lat, lon)"
      ],
      "metadata": {
        "colab": {
          "base_uri": "https://localhost:8080/"
        },
        "id": "XEf_QOUZJUlf",
        "outputId": "2d67ba33-e607-49d2-d10d-c73afc1054e7"
      },
      "execution_count": 33,
      "outputs": [
        {
          "output_type": "stream",
          "name": "stdout",
          "text": [
            "11 Goldfinch Ct, North York, ON\n",
            "43.77185095 -79.44980282528441\n"
          ]
        }
      ]
    },
    {
      "cell_type": "code",
      "source": [
        "print( geolocator.geocode('110 Inverlochy Blvd, Markham, ON') )"
      ],
      "metadata": {
        "colab": {
          "base_uri": "https://localhost:8080/"
        },
        "id": "KoXlE9AFOptp",
        "outputId": "639f004c-80af-45c9-98bf-3e910f2c06c8"
      },
      "execution_count": 34,
      "outputs": [
        {
          "output_type": "stream",
          "name": "stdout",
          "text": [
            "110, Inverlochy Boulevard, Langstaff, Markham, York Region, Golden Horseshoe, Ontario, L3T 3C0, Canada\n"
          ]
        }
      ]
    },
    {
      "cell_type": "code",
      "source": [
        "def apply_geocode(address):\n",
        "    try:\n",
        "        location = geolocator.geocode(address)\n",
        "        if location:\n",
        "            return (location.latitude, location.longitude)\n",
        "        else:\n",
        "            return (None, None)\n",
        "    except Exception as e:\n",
        "        print(f\"Error geocoding address: {address} - {e}\")\n",
        "        return (None, None)"
      ],
      "metadata": {
        "id": "hGz08oQILGwf"
      },
      "execution_count": 37,
      "outputs": []
    },
    {
      "cell_type": "code",
      "source": [
        "tqdm.pandas(desc=\"Geocoding addresses\")\n",
        "apartments_data_out_df['lat_long'] = apartments_data_out_df['address_no_postal_code'].progress_apply(apply_geocode)\n",
        "\n",
        "print(apartments_data_out_df.head())"
      ],
      "metadata": {
        "colab": {
          "base_uri": "https://localhost:8080/"
        },
        "id": "eNaZUg3fNsOF",
        "outputId": "02c90013-414c-4e07-ae0d-72bda347d548"
      },
      "execution_count": 38,
      "outputs": [
        {
          "output_type": "stream",
          "name": "stderr",
          "text": [
            "Geocoding addresses:   2%|▏         | 2/107 [00:00<00:11,  9.17it/s]WARNING:urllib3.connectionpool:Retrying (Retry(total=1, connect=None, read=None, redirect=None, status=None)) after connection broken by 'ReadTimeoutError(\"HTTPSConnectionPool(host='nominatim.openstreetmap.org', port=443): Read timed out. (read timeout=1)\")': /search?q=1042+Sheppard+Avenue+W.%2C+Toronto%2C+ON&format=json&limit=1\n",
            "Geocoding addresses:  64%|██████▍   | 69/107 [00:34<00:18,  2.02it/s]WARNING:urllib3.connectionpool:Retrying (Retry(total=1, connect=None, read=None, redirect=None, status=None)) after connection broken by 'ReadTimeoutError(\"HTTPSConnectionPool(host='nominatim.openstreetmap.org', port=443): Read timed out. (read timeout=1)\")': /search?q=50+Ruddington+Dr%2C+North+York%2C+ON&format=json&limit=1\n",
            "Geocoding addresses:  80%|████████  | 86/107 [00:43<00:10,  2.05it/s]WARNING:urllib3.connectionpool:Retrying (Retry(total=1, connect=None, read=None, redirect=None, status=None)) after connection broken by 'ReadTimeoutError(\"HTTPSConnectionPool(host='nominatim.openstreetmap.org', port=443): Read timed out. (read timeout=1)\")': /search?q=6040+Bathurst+St%2C+North+York%2C+ON&format=json&limit=1\n",
            "Geocoding addresses: 100%|██████████| 107/107 [00:55<00:00,  1.93it/s]"
          ]
        },
        {
          "output_type": "stream",
          "name": "stdout",
          "text": [
            "                              apartment_address num_beds  \\\n",
            "0     10 Wilmington Ave, North York, ON M3H 5H7     1, 2   \n",
            "1  1042 Sheppard Avenue W., Toronto, ON M3H 2T6     1, 2   \n",
            "2       11 Goldfinch Ct, North York, ON M2R 2C2  1, 2, 3   \n",
            "3      110 Inverlochy Blvd, Markham, ON L3T 3R6  1, 2, 3   \n",
            "4      111 Inverlochy Blvd, Markham, ON L3T 3R7  1, 2, 3   \n",
            "\n",
            "                                       phone_numbers       Elementary_School  \\\n",
            "0                         253-256-1634, 437-500-1353   Dublin Heights E & MS   \n",
            "1                                       416-636-9130   Dublin Heights E & MS   \n",
            "2  416-633-8409, 647-701-9936, 416-630-3553, 416-...             Yorkview PS   \n",
            "3                                       905-881-0089  Baythorn Public School   \n",
            "4                                       905-763-7508  Baythorn Public School   \n",
            "\n",
            "            Middle_School                 High_School  \\\n",
            "0   Dublin Heights E & MS      William L Mackenzie CI   \n",
            "1   Dublin Heights E & MS      William L Mackenzie CI   \n",
            "2      Charles H Best JMS        Northview Heights SS   \n",
            "3  Baythorn Public School  Thornhill Secondary School   \n",
            "4  Baythorn Public School  Thornhill Secondary School   \n",
            "\n",
            "                 address_no_postal_code  \\\n",
            "0     10 Wilmington Ave, North York, ON   \n",
            "1  1042 Sheppard Avenue W., Toronto, ON   \n",
            "2       11 Goldfinch Ct, North York, ON   \n",
            "3      110 Inverlochy Blvd, Markham, ON   \n",
            "4      111 Inverlochy Blvd, Markham, ON   \n",
            "\n",
            "                                   lat_long  \n",
            "0                  (43.7527717, -79.452327)  \n",
            "1           (43.750815, -79.46202076179775)  \n",
            "2         (43.77185095, -79.44980282528441)  \n",
            "3  (43.824577500000004, -79.42416645464004)  \n",
            "4           (43.825214, -79.42341498291606)  \n"
          ]
        },
        {
          "output_type": "stream",
          "name": "stderr",
          "text": [
            "\n"
          ]
        }
      ]
    },
    {
      "cell_type": "markdown",
      "source": [
        "##### Create a map"
      ],
      "metadata": {
        "id": "dDlcwVGPRvqX"
      }
    },
    {
      "cell_type": "code",
      "source": [
        "import folium\n",
        "\n",
        "# Create a base map\n",
        "m = folium.Map(location=[43.75491558522391, -79.4229619534175], zoom_start=10)\n",
        "\n",
        "# Iterate through the DataFrame and add each lat/long as a marker on the map\n",
        "for index, row in apartments_data_out_df.iterrows():\n",
        "    lat, lon = row['lat_long']\n",
        "    folium.Marker([lat, lon]).add_to(m)\n",
        "\n",
        "# Save the map to an HTML file\n",
        "m.save('my_map.html')"
      ],
      "metadata": {
        "id": "jNGa3T5KRxkK"
      },
      "execution_count": 42,
      "outputs": []
    }
  ]
}