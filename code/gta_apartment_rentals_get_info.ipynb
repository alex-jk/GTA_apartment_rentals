{
  "nbformat": 4,
  "nbformat_minor": 0,
  "metadata": {
    "colab": {
      "provenance": [],
      "authorship_tag": "ABX9TyOf1XECqya7UEvXvzAzVUgq",
      "include_colab_link": true
    },
    "kernelspec": {
      "name": "python3",
      "display_name": "Python 3"
    },
    "language_info": {
      "name": "python"
    }
  },
  "cells": [
    {
      "cell_type": "markdown",
      "metadata": {
        "id": "view-in-github",
        "colab_type": "text"
      },
      "source": [
        "<a href=\"https://colab.research.google.com/github/alex-jk/GTA_apartment_rentals/blob/main/code/gta_apartment_rentals_get_info.ipynb\" target=\"_parent\"><img src=\"https://colab.research.google.com/assets/colab-badge.svg\" alt=\"Open In Colab\"/></a>"
      ]
    },
    {
      "cell_type": "code",
      "source": [
        "!pip install --upgrade gspread google-auth google-auth-oauthlib google-auth-httplib2\n",
        "!pip install requests\n",
        "!pip install googlemaps"
      ],
      "metadata": {
        "colab": {
          "base_uri": "https://localhost:8080/"
        },
        "id": "lQsc9iytwZ4i",
        "outputId": "5e48276b-fbeb-49f6-9235-874b7b810223"
      },
      "execution_count": 1,
      "outputs": [
        {
          "output_type": "stream",
          "name": "stdout",
          "text": [
            "Requirement already satisfied: gspread in /usr/local/lib/python3.10/dist-packages (6.0.2)\n",
            "Requirement already satisfied: google-auth in /usr/local/lib/python3.10/dist-packages (2.28.1)\n",
            "Requirement already satisfied: google-auth-oauthlib in /usr/local/lib/python3.10/dist-packages (1.2.0)\n",
            "Requirement already satisfied: google-auth-httplib2 in /usr/local/lib/python3.10/dist-packages (0.2.0)\n",
            "Requirement already satisfied: StrEnum==0.4.15 in /usr/local/lib/python3.10/dist-packages (from gspread) (0.4.15)\n",
            "Requirement already satisfied: cachetools<6.0,>=2.0.0 in /usr/local/lib/python3.10/dist-packages (from google-auth) (5.3.3)\n",
            "Requirement already satisfied: pyasn1-modules>=0.2.1 in /usr/local/lib/python3.10/dist-packages (from google-auth) (0.3.0)\n",
            "Requirement already satisfied: rsa<5,>=3.1.4 in /usr/local/lib/python3.10/dist-packages (from google-auth) (4.9)\n",
            "Requirement already satisfied: requests-oauthlib>=0.7.0 in /usr/local/lib/python3.10/dist-packages (from google-auth-oauthlib) (1.3.1)\n",
            "Requirement already satisfied: httplib2>=0.19.0 in /usr/local/lib/python3.10/dist-packages (from google-auth-httplib2) (0.22.0)\n",
            "Requirement already satisfied: pyparsing!=3.0.0,!=3.0.1,!=3.0.2,!=3.0.3,<4,>=2.4.2 in /usr/local/lib/python3.10/dist-packages (from httplib2>=0.19.0->google-auth-httplib2) (3.1.1)\n",
            "Requirement already satisfied: pyasn1<0.6.0,>=0.4.6 in /usr/local/lib/python3.10/dist-packages (from pyasn1-modules>=0.2.1->google-auth) (0.5.1)\n",
            "Requirement already satisfied: oauthlib>=3.0.0 in /usr/local/lib/python3.10/dist-packages (from requests-oauthlib>=0.7.0->google-auth-oauthlib) (3.2.2)\n",
            "Requirement already satisfied: requests>=2.0.0 in /usr/local/lib/python3.10/dist-packages (from requests-oauthlib>=0.7.0->google-auth-oauthlib) (2.31.0)\n",
            "Requirement already satisfied: charset-normalizer<4,>=2 in /usr/local/lib/python3.10/dist-packages (from requests>=2.0.0->requests-oauthlib>=0.7.0->google-auth-oauthlib) (3.3.2)\n",
            "Requirement already satisfied: idna<4,>=2.5 in /usr/local/lib/python3.10/dist-packages (from requests>=2.0.0->requests-oauthlib>=0.7.0->google-auth-oauthlib) (3.6)\n",
            "Requirement already satisfied: urllib3<3,>=1.21.1 in /usr/local/lib/python3.10/dist-packages (from requests>=2.0.0->requests-oauthlib>=0.7.0->google-auth-oauthlib) (2.0.7)\n",
            "Requirement already satisfied: certifi>=2017.4.17 in /usr/local/lib/python3.10/dist-packages (from requests>=2.0.0->requests-oauthlib>=0.7.0->google-auth-oauthlib) (2024.2.2)\n",
            "Requirement already satisfied: requests in /usr/local/lib/python3.10/dist-packages (2.31.0)\n",
            "Requirement already satisfied: charset-normalizer<4,>=2 in /usr/local/lib/python3.10/dist-packages (from requests) (3.3.2)\n",
            "Requirement already satisfied: idna<4,>=2.5 in /usr/local/lib/python3.10/dist-packages (from requests) (3.6)\n",
            "Requirement already satisfied: urllib3<3,>=1.21.1 in /usr/local/lib/python3.10/dist-packages (from requests) (2.0.7)\n",
            "Requirement already satisfied: certifi>=2017.4.17 in /usr/local/lib/python3.10/dist-packages (from requests) (2024.2.2)\n",
            "Collecting googlemaps\n",
            "  Using cached googlemaps-4.10.0.tar.gz (33 kB)\n",
            "  Preparing metadata (setup.py) ... \u001b[?25l\u001b[?25hdone\n",
            "Requirement already satisfied: requests<3.0,>=2.20.0 in /usr/local/lib/python3.10/dist-packages (from googlemaps) (2.31.0)\n",
            "Requirement already satisfied: charset-normalizer<4,>=2 in /usr/local/lib/python3.10/dist-packages (from requests<3.0,>=2.20.0->googlemaps) (3.3.2)\n",
            "Requirement already satisfied: idna<4,>=2.5 in /usr/local/lib/python3.10/dist-packages (from requests<3.0,>=2.20.0->googlemaps) (3.6)\n",
            "Requirement already satisfied: urllib3<3,>=1.21.1 in /usr/local/lib/python3.10/dist-packages (from requests<3.0,>=2.20.0->googlemaps) (2.0.7)\n",
            "Requirement already satisfied: certifi>=2017.4.17 in /usr/local/lib/python3.10/dist-packages (from requests<3.0,>=2.20.0->googlemaps) (2024.2.2)\n",
            "Building wheels for collected packages: googlemaps\n",
            "  Building wheel for googlemaps (setup.py) ... \u001b[?25l\u001b[?25hdone\n",
            "  Created wheel for googlemaps: filename=googlemaps-4.10.0-py3-none-any.whl size=40711 sha256=83bfc8b328f3c42582539af8541abb29a51067365af85b98b104ab3c343eefad\n",
            "  Stored in directory: /root/.cache/pip/wheels/17/f8/79/999d5d37118fd35d7219ef57933eb9d09886c4c4503a800f84\n",
            "Successfully built googlemaps\n",
            "Installing collected packages: googlemaps\n",
            "Successfully installed googlemaps-4.10.0\n"
          ]
        }
      ]
    },
    {
      "cell_type": "code",
      "execution_count": 2,
      "metadata": {
        "id": "KX0EbpOXvyho"
      },
      "outputs": [],
      "source": [
        "import pandas as pd\n",
        "import requests\n",
        "import re\n",
        "import requests\n",
        "from bs4 import BeautifulSoup\n",
        "from tqdm import tqdm"
      ]
    },
    {
      "cell_type": "code",
      "source": [
        "from google.colab import auth\n",
        "auth.authenticate_user()\n",
        "\n",
        "import google.auth\n",
        "from google.colab import drive\n",
        "drive.mount('/content/drive')\n",
        "\n",
        "credentials, project = google.auth.default(scopes=['https://www.googleapis.com/auth/spreadsheets'])"
      ],
      "metadata": {
        "colab": {
          "base_uri": "https://localhost:8080/"
        },
        "id": "bx5IUjU9wLhk",
        "outputId": "6c701cdf-7836-40e5-c37f-c0809b0d488f"
      },
      "execution_count": 4,
      "outputs": [
        {
          "output_type": "stream",
          "name": "stdout",
          "text": [
            "Drive already mounted at /content/drive; to attempt to forcibly remount, call drive.mount(\"/content/drive\", force_remount=True).\n"
          ]
        }
      ]
    },
    {
      "cell_type": "markdown",
      "source": [
        "#### Import input data GTA_apartment_buildings_list"
      ],
      "metadata": {
        "id": "Tz-jv37m-QXM"
      }
    },
    {
      "cell_type": "code",
      "source": [
        "import gspread\n",
        "\n",
        "gc = gspread.authorize(credentials)\n",
        "\n",
        "sheet_name = 'GTA_apartment_buildings_list'\n",
        "sh = gc.open(sheet_name)\n",
        "worksheet = sh.sheet1\n",
        "\n",
        "# Get all the records of the data\n",
        "apartments_data = worksheet.get_all_records()\n",
        "\n",
        "# Convert to a DataFrame\n",
        "apartments_data_df = pd.DataFrame(apartments_data)\n",
        "\n",
        "# Display the first few rows of the dataframe\n",
        "print(f\"\\n------------ Apartments data df shape: {apartments_data_df.shape}\")\n",
        "print(\"\\n------------\")\n",
        "print(apartments_data_df.head())"
      ],
      "metadata": {
        "colab": {
          "base_uri": "https://localhost:8080/"
        },
        "id": "gRnSEY0KwpmA",
        "outputId": "1f3e38bc-9e9b-447c-852d-ddd915f912e8"
      },
      "execution_count": 5,
      "outputs": [
        {
          "output_type": "stream",
          "name": "stdout",
          "text": [
            "\n",
            "------------ Apartments data df shape: (121, 7)\n",
            "\n",
            "------------\n",
            "                          apartment_address num_beds  \\\n",
            "0    155 Antibes Dr, North York, ON M2R 3G7  1, 2, 3   \n",
            "1    300 Antibes Dr, North York, ON M2R 3N8  1, 2, 3   \n",
            "2        901 Avenue Rd, Toronto, ON M5P 2K7  1, 2, 3   \n",
            "3   155 Balliol Street, Toronto, ON M4S 1C4  1, 2, 3   \n",
            "4  3575 Bathurst St, North York, ON M6A 2C8     1, 2   \n",
            "\n",
            "                                       phone_numbers    Elementary_School  \\\n",
            "0                         437-973-3626, 416-665-4430          Rockford PS   \n",
            "1           437-900-6800, 416-665-2100, 437-900-6811          Rockford PS   \n",
            "2                         416-485-7207, 416-751-3368    Oriole Park Jr PS   \n",
            "3           888-244-6696, 647-507-4461, 416-487-4461     Davisville Jr PS   \n",
            "4  647-559-7317, 647-694-8048, 437-227-9562, 647-...  Ledbury Park E & MS   \n",
            "\n",
            "         Middle_School           High_School street_name  \n",
            "0    Fisherville Sr PS  Northview Heights SS     Antibes  \n",
            "1    Fisherville Sr PS  Northview Heights SS     Antibes  \n",
            "2           Hodgson MS      North Toronto CI      Avenue  \n",
            "3           Hodgson MS      North Toronto CI     Balliol  \n",
            "4  Ledbury Park E & MS       John Polanyi CI    Bathurst  \n"
          ]
        }
      ]
    },
    {
      "cell_type": "code",
      "source": [
        "def find_phone_number(address, query_str):\n",
        "    query = address.replace(' ', '+') + query_str\n",
        "    url = f\"https://www.google.com/search?q={query}\"\n",
        "\n",
        "    headers = {\n",
        "        \"User-Agent\": \"Mozilla/5.0 (Windows NT 10.0; Win64; x64) AppleWebKit/537.36 (KHTML, like Gecko) Chrome/58.0.3029.110 Safari/537.3\"}\n",
        "\n",
        "    response = requests.get(url, headers=headers)\n",
        "\n",
        "    if response.status_code == 200:\n",
        "        soup = BeautifulSoup(response.text, 'html.parser')\n",
        "\n",
        "        # Use regular expressions to find phone numbers\n",
        "        phone_regex = re.compile(r'\\(\\d{3}\\)\\s*\\d{3}-\\d{4}|\\d{3}-\\d{3}-\\d{4}')\n",
        "        text = soup.get_text()\n",
        "        # print(\"\\n----------------\")\n",
        "        # print(text)\n",
        "        phone_numbers = phone_regex.findall(text)\n",
        "\n",
        "        if phone_numbers:\n",
        "            # Remove duplicates and format phone numbers consistently\n",
        "            formatted_numbers = [re.sub(r'[^0-9]', '', number) for number in set(phone_numbers)]\n",
        "            formatted_numbers = [f\"{num[:3]}-{num[3:6]}-{num[6:]}\" for num in formatted_numbers]\n",
        "            formatted_numbers = list(set(formatted_numbers))\n",
        "\n",
        "            return formatted_numbers\n",
        "        else:\n",
        "            return []\n",
        "    else:\n",
        "        return []"
      ],
      "metadata": {
        "id": "GTvurBtwzGVl"
      },
      "execution_count": 6,
      "outputs": []
    },
    {
      "cell_type": "code",
      "source": [
        "def expand_ranges(beds_list):\n",
        "    expanded_list = []\n",
        "    for item in beds_list:\n",
        "        if '-' in item:  # Check if item is a range\n",
        "            start, end = map(int, item.split('-'))\n",
        "            expanded_list.extend(range(start, end + 1))  # Add all numbers in the range\n",
        "        else:\n",
        "            expanded_list.append(int(item))  # Add individual numbers directly\n",
        "    return expanded_list\n",
        "\n",
        "def find_num_beds(address, query_str):\n",
        "    query = address.replace(' ', '+') + query_str\n",
        "    query_apartments_com = address.replace(' ', '+') + \"+apartments+com\"\n",
        "    url = f\"https://www.google.com/search?q={query}\"\n",
        "    url_apartments_com = f\"https://www.google.com/search?q={query_apartments_com}\"\n",
        "\n",
        "    headers = {\n",
        "        \"User-Agent\": \"Mozilla/5.0 (Windows NT 10.0; Win64; x64) AppleWebKit/537.36 (KHTML, like Gecko) Chrome/58.0.3029.110 Safari/537.3\"}\n",
        "\n",
        "    text_numbers_to_int = {'one': 1, '1': 1, 'two': 2, '2': 2, 'three': 3, '3': 3, 'four': 4, 'five': 5}\n",
        "\n",
        "    response = requests.get(url, headers=headers)\n",
        "    response_apartments_com = requests.get(url_apartments_com, headers=headers)\n",
        "\n",
        "    if response.status_code == 200:\n",
        "        soup = BeautifulSoup(response.text, 'html.parser')\n",
        "\n",
        "        # Use regular expressions to find phone numbers\n",
        "        numeric_bed_regex = re.compile(r'\\b(\\d+(?:-\\d+)?)\\s*beds?\\b', re.IGNORECASE)\n",
        "        text_bed_regex = re.compile(r'\\b(one|two|three|four|five|1|2|3)\\s*bedroom?\\b', re.IGNORECASE)\n",
        "        text = soup.get_text()\n",
        "        # print(\"\\n----------------\")\n",
        "        # print(text)\n",
        "\n",
        "        numeric_beds_list = numeric_bed_regex.findall(text)\n",
        "        expanded_beds_list = list(set( expand_ranges(numeric_beds_list) ))\n",
        "        expanded_beds_list.sort()\n",
        "        # print(f\"\\n numeric beds: {expanded_beds_list}\")\n",
        "\n",
        "        text_beds_list = text_bed_regex.findall(text)\n",
        "        text_beds_list = list(set(text_beds_list))\n",
        "        text_beds_list = [text_numbers_to_int[bed.lower()] for bed in text_beds_list]\n",
        "        if len(text_beds_list) > 0:\n",
        "          text_beds_list = list(range(1, max(text_beds_list) + 1))\n",
        "        # print(f\"\\n text beds: {text_beds_list}\")\n",
        "\n",
        "        combined_set = set(expanded_beds_list + text_beds_list)\n",
        "        combined_set = sorted(list(combined_set))\n",
        "\n",
        "        # if response_apartments_com.status_code == 200:\n",
        "        #   soup_apartments_com = BeautifulSoup(response_apartments_com.text, 'html.parser')\n",
        "        #   links = soup.find_all('a')\n",
        "        #   # Attempt to find the first valid apartments.com URL\n",
        "        #   apartments_url = None\n",
        "        #   for link in links:\n",
        "        #       href = link.get('href')\n",
        "        #       if 'apartments.com' in href:\n",
        "        #           # Typical Google search result URLs are redirected, so parse them to get the actual URL\n",
        "        #           start = href.find('http')\n",
        "        #           end = href.find('&', start)\n",
        "        #           if start != -1 and end != -1:\n",
        "        #               apartments_url = href[start:end]\n",
        "        #               break\n",
        "\n",
        "        #   if apartments_url:\n",
        "        #       print(\"Found Apartments.com URL:\", apartments_url)\n",
        "        #   else:\n",
        "        #       print(\"No Apartments.com URL found in the first few search results.\")\n",
        "\n",
        "        if combined_set:\n",
        "            smallest_bed_number = combined_set[0]\n",
        "            complete_beds_list = list(range(1, smallest_bed_number)) + combined_set\n",
        "\n",
        "            # Remove duplicates and sort again if necessary\n",
        "            complete_beds_list = sorted(set(complete_beds_list))\n",
        "            complete_beds_str = ', '.join(map(str, complete_beds_list))\n",
        "            return complete_beds_str\n",
        "        else:\n",
        "            return []\n",
        "    else:\n",
        "        return []"
      ],
      "metadata": {
        "id": "X8kMM9agS_2j"
      },
      "execution_count": 7,
      "outputs": []
    },
    {
      "cell_type": "code",
      "source": [
        "# def conditionally_find_num_beds(row, query_str):\n",
        "#     # If num_beds is missing, then call find_num_beds\n",
        "#     if pd.isna(row['num_beds']) or not str(row['num_beds']).strip():\n",
        "#         return find_num_beds(row['apartment_address'], query_str)\n",
        "#     else:\n",
        "#         return row['num_beds']\n",
        "\n",
        "def conditionally_find_value(row, column_name, search_function, *args, **kwargs):\n",
        "    \"\"\"\n",
        "    Checks if the specified column in a DataFrame row is missing or empty. If so, it calls\n",
        "    a specified search function to find the value.\n",
        "\n",
        "    Parameters:\n",
        "    - row: The row of the DataFrame.\n",
        "    - column_name: The name of the column to check and potentially fill.\n",
        "    - search_function: The function to call if the column value is missing or empty.\n",
        "                       This function should accept the apartment address as its first argument,\n",
        "                       followed by any *args and **kwargs necessary for the search.\n",
        "    - *args: Additional positional arguments to pass to the search_function.\n",
        "    - **kwargs: Additional keyword arguments to pass to the search_function.\n",
        "\n",
        "    Returns:\n",
        "    - The original value from the row[column_name] if it exists and is not empty,\n",
        "      otherwise the result from search_function.\n",
        "    \"\"\"\n",
        "    # Check if the column value is missing or empty\n",
        "    if pd.isna(row[column_name]) or not str(row[column_name]).strip():\n",
        "        # Call the search function with the address, args, and kwargs\n",
        "        return search_function(row['apartment_address'], *args, **kwargs)\n",
        "    else:\n",
        "        # Return the original value\n",
        "        return row[column_name]"
      ],
      "metadata": {
        "id": "ttYKDv2U9Olt"
      },
      "execution_count": 8,
      "outputs": []
    },
    {
      "cell_type": "code",
      "source": [
        "ind = 0\n",
        "\n",
        "print(apartments_data_df['apartment_address'][ind])\n",
        "print( find_phone_number(apartments_data_df['apartment_address'][ind], \"+apartment+building+phone+number\") )\n",
        "\n",
        "print( find_num_beds(apartments_data_df['apartment_address'][ind], \"+apartment+rent+beds\") )"
      ],
      "metadata": {
        "colab": {
          "base_uri": "https://localhost:8080/"
        },
        "id": "FjfleWmIzbUb",
        "outputId": "c01257cf-d067-4970-aac1-7910ed7168f2"
      },
      "execution_count": 9,
      "outputs": [
        {
          "output_type": "stream",
          "name": "stdout",
          "text": [
            "155 Antibes Dr, North York, ON M2R 3G7\n",
            "['437-973-3626', '416-665-4430']\n",
            "1, 2, 3\n"
          ]
        }
      ]
    },
    {
      "cell_type": "code",
      "source": [
        "# Apply the find_phone_numbers function to each row\n",
        "query_str = \"+apartment+building+phone+number\"\n",
        "\n",
        "tqdm.pandas()\n",
        "# apartments_data_df['phone_numbers'] = apartments_data_df['apartment_address'].progress_apply(lambda address: find_phone_number(address, query_str))\n",
        "apartments_data_df['phone_numbers'] = apartments_data_df.progress_apply(conditionally_find_value, axis=1,\n",
        "                                                                        column_name='phone_numbers',\n",
        "                                                                        search_function=find_phone_number,\n",
        "                                                                        query_str=query_str)\n",
        "\n",
        "print(apartments_data_df.head(10))"
      ],
      "metadata": {
        "colab": {
          "base_uri": "https://localhost:8080/"
        },
        "id": "zINcLHWaAOHZ",
        "outputId": "da22064c-6305-4403-f56f-658393520c01"
      },
      "execution_count": 10,
      "outputs": [
        {
          "output_type": "stream",
          "name": "stderr",
          "text": [
            "100%|██████████| 121/121 [00:05<00:00, 22.82it/s]"
          ]
        },
        {
          "output_type": "stream",
          "name": "stdout",
          "text": [
            "                          apartment_address num_beds  \\\n",
            "0    155 Antibes Dr, North York, ON M2R 3G7  1, 2, 3   \n",
            "1    300 Antibes Dr, North York, ON M2R 3N8  1, 2, 3   \n",
            "2        901 Avenue Rd, Toronto, ON M5P 2K7  1, 2, 3   \n",
            "3   155 Balliol Street, Toronto, ON M4S 1C4  1, 2, 3   \n",
            "4  3575 Bathurst St, North York, ON M6A 2C8     1, 2   \n",
            "5  3892 Bathurst St, North York, ON M3H 3N5     1, 2   \n",
            "6  3905 Bathurst St, North York, ON M3H 3N7  1, 2, 3   \n",
            "7  4222 Bathurst St, North York, ON M3H 3R2     1, 2   \n",
            "8  4340 Bathurst St, North York, ON M3H 2M9     1, 2   \n",
            "9  4383 Bathurst St, North York, ON M3H 3P8  1, 2, 3   \n",
            "\n",
            "                                       phone_numbers  \\\n",
            "0                         437-973-3626, 416-665-4430   \n",
            "1           437-900-6800, 416-665-2100, 437-900-6811   \n",
            "2                         416-485-7207, 416-751-3368   \n",
            "3           888-244-6696, 647-507-4461, 416-487-4461   \n",
            "4  647-559-7317, 647-694-8048, 437-227-9562, 647-...   \n",
            "5                                       647-559-0998   \n",
            "6           226-407-6117, 647-559-1046, 647-559-0039   \n",
            "7                         437-261-1155, 416-639-6209   \n",
            "8                         647-209-5013, 226-407-5166   \n",
            "9                                       416-398-7610   \n",
            "\n",
            "                      Elementary_School                         Middle_School  \\\n",
            "0                           Rockford PS                     Fisherville Sr PS   \n",
            "1                           Rockford PS                     Fisherville Sr PS   \n",
            "2                     Oriole Park Jr PS                            Hodgson MS   \n",
            "3                      Davisville Jr PS                            Hodgson MS   \n",
            "4                   Ledbury Park E & MS                   Ledbury Park E & MS   \n",
            "5  Faywood Arts-Based Curriculum School  Faywood Arts-Based Curriculum School   \n",
            "6                     Summit Heights PS                     Summit Heights PS   \n",
            "7                 Dublin Heights E & MS                 Dublin Heights E & MS   \n",
            "8                 Dublin Heights E & MS                 Dublin Heights E & MS   \n",
            "9                 Dublin Heights E & MS                 Dublin Heights E & MS   \n",
            "\n",
            "              High_School street_name  \n",
            "0    Northview Heights SS     Antibes  \n",
            "1    Northview Heights SS     Antibes  \n",
            "2        North Toronto CI      Avenue  \n",
            "3        North Toronto CI     Balliol  \n",
            "4         John Polanyi CI    Bathurst  \n",
            "5  William L Mackenzie CI    Bathurst  \n",
            "6  William L Mackenzie CI    Bathurst  \n",
            "7  William L Mackenzie CI    Bathurst  \n",
            "8  William L Mackenzie CI    Bathurst  \n",
            "9  William L Mackenzie CI    Bathurst  \n"
          ]
        },
        {
          "output_type": "stream",
          "name": "stderr",
          "text": [
            "\n"
          ]
        }
      ]
    },
    {
      "cell_type": "code",
      "source": [
        "# Apply the find_phone_numbers function to each row\n",
        "query_str = \"+apartment+rent+beds\"\n",
        "\n",
        "# apartments_data_df['num_beds'] = apartments_data_df.progress_apply(lambda row: conditionally_find_num_beds(row, query_str), axis=1)\n",
        "apartments_data_df['num_beds'] = apartments_data_df.progress_apply(conditionally_find_value, axis=1,\n",
        "                                                                        column_name='num_beds',\n",
        "                                                                        search_function=find_num_beds,\n",
        "                                                                        query_str=query_str)\n",
        "\n",
        "print(apartments_data_df.head(10))"
      ],
      "metadata": {
        "colab": {
          "base_uri": "https://localhost:8080/"
        },
        "id": "n2170PoAIpGG",
        "outputId": "592472c8-8947-496a-e453-dcca2df069e1"
      },
      "execution_count": 11,
      "outputs": [
        {
          "output_type": "stream",
          "name": "stderr",
          "text": [
            "100%|██████████| 121/121 [00:13<00:00,  8.83it/s]"
          ]
        },
        {
          "output_type": "stream",
          "name": "stdout",
          "text": [
            "                          apartment_address num_beds  \\\n",
            "0    155 Antibes Dr, North York, ON M2R 3G7  1, 2, 3   \n",
            "1    300 Antibes Dr, North York, ON M2R 3N8  1, 2, 3   \n",
            "2        901 Avenue Rd, Toronto, ON M5P 2K7  1, 2, 3   \n",
            "3   155 Balliol Street, Toronto, ON M4S 1C4  1, 2, 3   \n",
            "4  3575 Bathurst St, North York, ON M6A 2C8     1, 2   \n",
            "5  3892 Bathurst St, North York, ON M3H 3N5     1, 2   \n",
            "6  3905 Bathurst St, North York, ON M3H 3N7  1, 2, 3   \n",
            "7  4222 Bathurst St, North York, ON M3H 3R2     1, 2   \n",
            "8  4340 Bathurst St, North York, ON M3H 2M9     1, 2   \n",
            "9  4383 Bathurst St, North York, ON M3H 3P8  1, 2, 3   \n",
            "\n",
            "                                       phone_numbers  \\\n",
            "0                         437-973-3626, 416-665-4430   \n",
            "1           437-900-6800, 416-665-2100, 437-900-6811   \n",
            "2                         416-485-7207, 416-751-3368   \n",
            "3           888-244-6696, 647-507-4461, 416-487-4461   \n",
            "4  647-559-7317, 647-694-8048, 437-227-9562, 647-...   \n",
            "5                                       647-559-0998   \n",
            "6           226-407-6117, 647-559-1046, 647-559-0039   \n",
            "7                         437-261-1155, 416-639-6209   \n",
            "8                         647-209-5013, 226-407-5166   \n",
            "9                                       416-398-7610   \n",
            "\n",
            "                      Elementary_School                         Middle_School  \\\n",
            "0                           Rockford PS                     Fisherville Sr PS   \n",
            "1                           Rockford PS                     Fisherville Sr PS   \n",
            "2                     Oriole Park Jr PS                            Hodgson MS   \n",
            "3                      Davisville Jr PS                            Hodgson MS   \n",
            "4                   Ledbury Park E & MS                   Ledbury Park E & MS   \n",
            "5  Faywood Arts-Based Curriculum School  Faywood Arts-Based Curriculum School   \n",
            "6                     Summit Heights PS                     Summit Heights PS   \n",
            "7                 Dublin Heights E & MS                 Dublin Heights E & MS   \n",
            "8                 Dublin Heights E & MS                 Dublin Heights E & MS   \n",
            "9                 Dublin Heights E & MS                 Dublin Heights E & MS   \n",
            "\n",
            "              High_School street_name  \n",
            "0    Northview Heights SS     Antibes  \n",
            "1    Northview Heights SS     Antibes  \n",
            "2        North Toronto CI      Avenue  \n",
            "3        North Toronto CI     Balliol  \n",
            "4         John Polanyi CI    Bathurst  \n",
            "5  William L Mackenzie CI    Bathurst  \n",
            "6  William L Mackenzie CI    Bathurst  \n",
            "7  William L Mackenzie CI    Bathurst  \n",
            "8  William L Mackenzie CI    Bathurst  \n",
            "9  William L Mackenzie CI    Bathurst  \n"
          ]
        },
        {
          "output_type": "stream",
          "name": "stderr",
          "text": [
            "\n"
          ]
        }
      ]
    },
    {
      "cell_type": "code",
      "source": [
        "print(apartments_data_df.head(10))"
      ],
      "metadata": {
        "colab": {
          "base_uri": "https://localhost:8080/"
        },
        "id": "cypKi94UTt31",
        "outputId": "ca88cf5a-08c1-4cf4-dc43-e7b553edfd5f"
      },
      "execution_count": 15,
      "outputs": [
        {
          "output_type": "stream",
          "name": "stdout",
          "text": [
            "                          apartment_address num_beds  \\\n",
            "0    155 Antibes Dr, North York, ON M2R 3G7  1, 2, 3   \n",
            "1    300 Antibes Dr, North York, ON M2R 3N8  1, 2, 3   \n",
            "2        901 Avenue Rd, Toronto, ON M5P 2K7  1, 2, 3   \n",
            "3   155 Balliol Street, Toronto, ON M4S 1C4  1, 2, 3   \n",
            "4  3575 Bathurst St, North York, ON M6A 2C8     1, 2   \n",
            "5  3892 Bathurst St, North York, ON M3H 3N5     1, 2   \n",
            "6  3905 Bathurst St, North York, ON M3H 3N7  1, 2, 3   \n",
            "7  4222 Bathurst St, North York, ON M3H 3R2     1, 2   \n",
            "8  4340 Bathurst St, North York, ON M3H 2M9     1, 2   \n",
            "9  4383 Bathurst St, North York, ON M3H 3P8  1, 2, 3   \n",
            "\n",
            "                                       phone_numbers  \\\n",
            "0                         437-973-3626, 416-665-4430   \n",
            "1           437-900-6800, 416-665-2100, 437-900-6811   \n",
            "2                         416-485-7207, 416-751-3368   \n",
            "3           888-244-6696, 647-507-4461, 416-487-4461   \n",
            "4  647-559-7317, 647-694-8048, 437-227-9562, 647-...   \n",
            "5                                       647-559-0998   \n",
            "6           226-407-6117, 647-559-1046, 647-559-0039   \n",
            "7                         437-261-1155, 416-639-6209   \n",
            "8                         647-209-5013, 226-407-5166   \n",
            "9                                       416-398-7610   \n",
            "\n",
            "                      Elementary_School                         Middle_School  \\\n",
            "0                           Rockford PS                     Fisherville Sr PS   \n",
            "1                           Rockford PS                     Fisherville Sr PS   \n",
            "2                     Oriole Park Jr PS                            Hodgson MS   \n",
            "3                      Davisville Jr PS                            Hodgson MS   \n",
            "4                   Ledbury Park E & MS                   Ledbury Park E & MS   \n",
            "5  Faywood Arts-Based Curriculum School  Faywood Arts-Based Curriculum School   \n",
            "6                     Summit Heights PS                     Summit Heights PS   \n",
            "7                 Dublin Heights E & MS                 Dublin Heights E & MS   \n",
            "8                 Dublin Heights E & MS                 Dublin Heights E & MS   \n",
            "9                 Dublin Heights E & MS                 Dublin Heights E & MS   \n",
            "\n",
            "              High_School street_name  \n",
            "0    Northview Heights SS     Antibes  \n",
            "1    Northview Heights SS     Antibes  \n",
            "2        North Toronto CI      Avenue  \n",
            "3        North Toronto CI     Balliol  \n",
            "4         John Polanyi CI    Bathurst  \n",
            "5  William L Mackenzie CI    Bathurst  \n",
            "6  William L Mackenzie CI    Bathurst  \n",
            "7  William L Mackenzie CI    Bathurst  \n",
            "8  William L Mackenzie CI    Bathurst  \n",
            "9  William L Mackenzie CI    Bathurst  \n"
          ]
        }
      ]
    },
    {
      "cell_type": "code",
      "source": [
        "def extract_street_name(address):\n",
        "    match = re.search(r'\\d+\\s([A-Za-z\\s]+)\\s', address)\n",
        "    if match:\n",
        "        return match.group(1).strip()\n",
        "    else:\n",
        "        return None\n",
        "\n",
        "ind = 7\n",
        "print( apartments_data_df['apartment_address'].iloc[ind] )\n",
        "\n",
        "extract_street_name( apartments_data_df['apartment_address'].iloc[ind] )\n",
        "\n",
        "apartments_data_df['street_name'] = apartments_data_df['apartment_address'].apply(extract_street_name)"
      ],
      "metadata": {
        "colab": {
          "base_uri": "https://localhost:8080/"
        },
        "id": "AAgAv1VrFmKM",
        "outputId": "84233ee4-dd64-45c3-9c09-867a1f5edec4"
      },
      "execution_count": 16,
      "outputs": [
        {
          "output_type": "stream",
          "name": "stdout",
          "text": [
            "4222 Bathurst St, North York, ON M3H 3R2\n"
          ]
        }
      ]
    },
    {
      "cell_type": "code",
      "source": [
        "apartments_data_df['num_beds'] = apartments_data_df['num_beds'].astype(str)\n",
        "\n",
        "apartments_data_df.sort_values(by=['street_name', 'apartment_address'], inplace=True)\n",
        "apartments_data_df.reset_index(drop=True, inplace=True)"
      ],
      "metadata": {
        "id": "XhBp5TP0FP87"
      },
      "execution_count": 17,
      "outputs": []
    },
    {
      "cell_type": "code",
      "source": [
        "from gspread_dataframe import set_with_dataframe\n",
        "\n",
        "spreadsheet_title = 'GTA_apartment_buildings_output'\n",
        "\n",
        "try:\n",
        "    # Attempt to open the existing spreadsheet\n",
        "    sh = gc.open(spreadsheet_title)\n",
        "    # If successful, delete the spreadsheet by moving it to trash\n",
        "    gc.del_spreadsheet(sh.id)\n",
        "    print(f\"Existing spreadsheet '{spreadsheet_title}' moved to trash.\")\n",
        "except gspread.SpreadsheetNotFound:\n",
        "    # If the spreadsheet does not exist, just continue\n",
        "    print(f\"No existing spreadsheet named '{spreadsheet_title}' found. Creating a new one.\")\n",
        "\n",
        "sh = gc.create(spreadsheet_title)\n",
        "worksheet = sh.get_worksheet(0)\n",
        "\n",
        "set_with_dataframe(worksheet, apartments_data_df)"
      ],
      "metadata": {
        "colab": {
          "base_uri": "https://localhost:8080/"
        },
        "id": "rtM9LTa6OdgX",
        "outputId": "a853c982-2626-4bcc-faef-40931b449cea"
      },
      "execution_count": 18,
      "outputs": [
        {
          "output_type": "stream",
          "name": "stdout",
          "text": [
            "Existing spreadsheet 'GTA_apartment_buildings_output' moved to trash.\n"
          ]
        }
      ]
    },
    {
      "cell_type": "markdown",
      "source": [
        "#### Import output dataset"
      ],
      "metadata": {
        "id": "Jbcx_BSuG-e5"
      }
    },
    {
      "cell_type": "code",
      "source": [
        "sheet_name = 'GTA_apartment_buildings_output'\n",
        "sh = gc.open(sheet_name)\n",
        "worksheet = sh.sheet1\n",
        "\n",
        "# Get all the records of the data\n",
        "apartments_data_out = worksheet.get_all_records()\n",
        "\n",
        "# Convert to a DataFrame\n",
        "apartments_data_out_df = pd.DataFrame(apartments_data_out)\n",
        "\n",
        "# create address column with no postal code\n",
        "regex_pattern = r'\\b[A-Z]\\d[A-Z] \\d[A-Z]\\d\\b'\n",
        "apartments_data_out_df['address_no_postal_code'] = apartments_data_out_df['apartment_address'].str.replace(regex_pattern, '', regex=True).str.strip()\n",
        "\n",
        "# Display the first few rows of the dataframe\n",
        "print(f\"\\n------------ Apartments data df shape: {apartments_data_out_df.shape}\")\n",
        "print(\"\\n------------\")\n",
        "print(apartments_data_out_df.head())"
      ],
      "metadata": {
        "colab": {
          "base_uri": "https://localhost:8080/"
        },
        "id": "R0yrGrfOHHzb",
        "outputId": "d8a1f233-d96e-4c5f-c046-f6613901c225"
      },
      "execution_count": 19,
      "outputs": [
        {
          "output_type": "stream",
          "name": "stdout",
          "text": [
            "\n",
            "------------ Apartments data df shape: (121, 8)\n",
            "\n",
            "------------\n",
            "                         apartment_address num_beds  \\\n",
            "0   155 Antibes Dr, North York, ON M2R 3G7  1, 2, 3   \n",
            "1   300 Antibes Dr, North York, ON M2R 3N8  1, 2, 3   \n",
            "2       901 Avenue Rd, Toronto, ON M5P 2K7  1, 2, 3   \n",
            "3  155 Balliol Street, Toronto, ON M4S 1C4  1, 2, 3   \n",
            "4    2100 Bathurst St, Toronto, ON M5N 2P2     1, 2   \n",
            "\n",
            "                              phone_numbers       Elementary_School  \\\n",
            "0                437-973-3626, 416-665-4430             Rockford PS   \n",
            "1  437-900-6800, 416-665-2100, 437-900-6811             Rockford PS   \n",
            "2                416-485-7207, 416-751-3368       Oriole Park Jr PS   \n",
            "3  888-244-6696, 647-507-4461, 416-487-4461        Davisville Jr PS   \n",
            "4                              416-781-0408  West Preparatory Jr PS   \n",
            "\n",
            "            Middle_School           High_School street_name  \\\n",
            "0       Fisherville Sr PS  Northview Heights SS     Antibes   \n",
            "1       Fisherville Sr PS  Northview Heights SS     Antibes   \n",
            "2              Hodgson MS      North Toronto CI      Avenue   \n",
            "3              Hodgson MS      North Toronto CI     Balliol   \n",
            "4  Forest Hill Jr & Sr PS        Forest Hill CI    Bathurst   \n",
            "\n",
            "            address_no_postal_code  \n",
            "0   155 Antibes Dr, North York, ON  \n",
            "1   300 Antibes Dr, North York, ON  \n",
            "2       901 Avenue Rd, Toronto, ON  \n",
            "3  155 Balliol Street, Toronto, ON  \n",
            "4    2100 Bathurst St, Toronto, ON  \n"
          ]
        }
      ]
    },
    {
      "cell_type": "code",
      "source": [
        "from geopy.geocoders import Nominatim\n",
        "from geopy.distance import geodesic\n",
        "from geopy.exc import GeocoderTimedOut, GeocoderServiceError\n",
        "\n",
        "geolocator = Nominatim(user_agent=\"myApp\")"
      ],
      "metadata": {
        "id": "F9EY1RadI1ri"
      },
      "execution_count": 20,
      "outputs": []
    },
    {
      "cell_type": "code",
      "source": [
        "ind = 2\n",
        "address_check = apartments_data_out_df['address_no_postal_code'].iloc[ind]\n",
        "print(address_check)\n",
        "\n",
        "location = geolocator.geocode(address_check)\n",
        "lat = location.latitude\n",
        "lon = location.longitude\n",
        "print(lat, lon)"
      ],
      "metadata": {
        "colab": {
          "base_uri": "https://localhost:8080/"
        },
        "id": "XEf_QOUZJUlf",
        "outputId": "5379c393-23bb-433d-87fb-2ad5adbb0d83"
      },
      "execution_count": 21,
      "outputs": [
        {
          "output_type": "stream",
          "name": "stdout",
          "text": [
            "901 Avenue Rd, Toronto, ON\n",
            "43.700344666666666 -79.40666533333334\n"
          ]
        }
      ]
    },
    {
      "cell_type": "code",
      "source": [
        "print( geolocator.geocode('110 Inverlochy Blvd, Markham, ON') )"
      ],
      "metadata": {
        "colab": {
          "base_uri": "https://localhost:8080/"
        },
        "id": "KoXlE9AFOptp",
        "outputId": "e923909f-f700-4df6-d007-e30accf95c5c"
      },
      "execution_count": 22,
      "outputs": [
        {
          "output_type": "stream",
          "name": "stdout",
          "text": [
            "110, Inverlochy Boulevard, Langstaff, Markham, York Region, Golden Horseshoe, Ontario, L3T 3C0, Canada\n"
          ]
        }
      ]
    },
    {
      "cell_type": "code",
      "source": [
        "def apply_geocode(address):\n",
        "    try:\n",
        "        location = geolocator.geocode(address)\n",
        "        if location:\n",
        "            return (location.latitude, location.longitude)\n",
        "        else:\n",
        "            return (None, None)\n",
        "    except Exception as e:\n",
        "        print(f\"Error geocoding address: {address} - {e}\")\n",
        "        return (None, None)"
      ],
      "metadata": {
        "id": "hGz08oQILGwf"
      },
      "execution_count": 23,
      "outputs": []
    },
    {
      "cell_type": "code",
      "source": [
        "tqdm.pandas(desc=\"Geocoding addresses\")\n",
        "apartments_data_out_df['lat_long'] = apartments_data_out_df['address_no_postal_code'].progress_apply(apply_geocode)\n",
        "\n",
        "print(apartments_data_out_df.head())"
      ],
      "metadata": {
        "colab": {
          "base_uri": "https://localhost:8080/"
        },
        "id": "eNaZUg3fNsOF",
        "outputId": "1bc49ef8-327f-4a00-c1ed-1b9b72616046"
      },
      "execution_count": 24,
      "outputs": [
        {
          "output_type": "stream",
          "name": "stderr",
          "text": [
            "Geocoding addresses: 100%|██████████| 121/121 [01:00<00:00,  2.00it/s]"
          ]
        },
        {
          "output_type": "stream",
          "name": "stdout",
          "text": [
            "                         apartment_address num_beds  \\\n",
            "0   155 Antibes Dr, North York, ON M2R 3G7  1, 2, 3   \n",
            "1   300 Antibes Dr, North York, ON M2R 3N8  1, 2, 3   \n",
            "2       901 Avenue Rd, Toronto, ON M5P 2K7  1, 2, 3   \n",
            "3  155 Balliol Street, Toronto, ON M4S 1C4  1, 2, 3   \n",
            "4    2100 Bathurst St, Toronto, ON M5N 2P2     1, 2   \n",
            "\n",
            "                              phone_numbers       Elementary_School  \\\n",
            "0                437-973-3626, 416-665-4430             Rockford PS   \n",
            "1  437-900-6800, 416-665-2100, 437-900-6811             Rockford PS   \n",
            "2                416-485-7207, 416-751-3368       Oriole Park Jr PS   \n",
            "3  888-244-6696, 647-507-4461, 416-487-4461        Davisville Jr PS   \n",
            "4                              416-781-0408  West Preparatory Jr PS   \n",
            "\n",
            "            Middle_School           High_School street_name  \\\n",
            "0       Fisherville Sr PS  Northview Heights SS     Antibes   \n",
            "1       Fisherville Sr PS  Northview Heights SS     Antibes   \n",
            "2              Hodgson MS      North Toronto CI      Avenue   \n",
            "3              Hodgson MS      North Toronto CI     Balliol   \n",
            "4  Forest Hill Jr & Sr PS        Forest Hill CI    Bathurst   \n",
            "\n",
            "            address_no_postal_code                                  lat_long  \n",
            "0   155 Antibes Dr, North York, ON  (43.781838199999996, -79.44579932180501)  \n",
            "1   300 Antibes Dr, North York, ON          (43.7812811, -79.45008192438564)  \n",
            "2       901 Avenue Rd, Toronto, ON  (43.700344666666666, -79.40666533333334)  \n",
            "3  155 Balliol Street, Toronto, ON         (43.69795725, -79.39211126010835)  \n",
            "4    2100 Bathurst St, Toronto, ON  (43.703774499999994, -79.42638786271499)  \n"
          ]
        },
        {
          "output_type": "stream",
          "name": "stderr",
          "text": [
            "\n"
          ]
        }
      ]
    },
    {
      "cell_type": "markdown",
      "source": [
        "##### Create a map"
      ],
      "metadata": {
        "id": "dDlcwVGPRvqX"
      }
    },
    {
      "cell_type": "code",
      "source": [
        "import folium\n",
        "\n",
        "# Create a base map\n",
        "m = folium.Map(location=[43.75491558522391, -79.4229619534175], zoom_start=10)\n",
        "\n",
        "# Iterate through the DataFrame and add each lat/long as a marker on the map\n",
        "for index, row in apartments_data_out_df.iterrows():\n",
        "    lat, lon = row['lat_long']\n",
        "    phone_number = row['phone_numbers']\n",
        "    apartment_address = row['apartment_address']\n",
        "    beds = row['num_beds']\n",
        "    elem_school = row['Elementary_School']\n",
        "    middle_school = row['Middle_School']\n",
        "    high_school = row['High_School']\n",
        "\n",
        "    # Create a popup with the desired information\n",
        "    # popup_text = f\"Address: {apartment_address}<br>Bedrooms: {beds}<br>Phone: {phone_number}\"\n",
        "    popup_html = f\"\"\"\n",
        "        <span style=\"font-size: 14px;\"><strong>Address:</strong> {apartment_address}</span><br>\n",
        "        <span style=\"font-size: 14px;\"><strong>Bedrooms:</strong> {beds}</span><br>\n",
        "        <span style=\"font-size: 14px;\"><strong>Phone numbers:</strong> {phone_number}</span><br><br>\n",
        "        <span style=\"font-size: 14px;\"><strong>Elementary School:</strong> {elem_school}</span><br>\n",
        "        <span style=\"font-size: 14px;\"><strong>Middle School:</strong> {middle_school}</span><br>\n",
        "        <span style=\"font-size: 14px;\"><strong>High School:</strong> {high_school}</span>\n",
        "        \"\"\"\n",
        "    popup = folium.Popup(popup_html, max_width=300)\n",
        "\n",
        "    # folium.Marker([lat, lon]).add_to(m)\n",
        "    folium.Marker([lat, lon], popup=popup).add_to(m)\n",
        "\n",
        "# Save the map to an HTML file\n",
        "m.save('my_map.html')"
      ],
      "metadata": {
        "id": "jNGa3T5KRxkK"
      },
      "execution_count": 25,
      "outputs": []
    },
    {
      "cell_type": "markdown",
      "source": [
        "#### Get school addresses"
      ],
      "metadata": {
        "id": "ElPxx6YN5tZK"
      }
    },
    {
      "cell_type": "code",
      "source": [
        "def find_school_address(address, query_str):\n",
        "    query = address.replace(' ', '+') + query_str\n",
        "\n",
        "    url = f\"https://www.google.com/search?q={query}\"\n",
        "\n",
        "    headers = {\n",
        "        \"User-Agent\": \"Mozilla/5.0 (Windows NT 10.0; Win64; x64) AppleWebKit/537.36 (KHTML, like Gecko) Chrome/58.0.3029.110 Safari/537.3\"}\n",
        "\n",
        "    response = requests.get(url, headers=headers)\n",
        "\n",
        "    if response.status_code == 200:\n",
        "        soup = BeautifulSoup(response.text, 'html.parser')\n",
        "\n",
        "        text = soup.get_text()\n",
        "        print(\"\\n----------------\")\n",
        "        print(text)"
      ],
      "metadata": {
        "id": "uH2zAhF35vmR"
      },
      "execution_count": 26,
      "outputs": []
    },
    {
      "cell_type": "code",
      "source": [
        "query_str = \"+school+address+canada\"\n",
        "\n",
        "ind = 0\n",
        "\n",
        "print( apartments_data_out_df['Elementary_School'].iloc[ind] )\n",
        "find_school_address( apartments_data_out_df['Elementary_School'].iloc[ind], query_str )"
      ],
      "metadata": {
        "colab": {
          "base_uri": "https://localhost:8080/"
        },
        "id": "rYP3M1QL8qFh",
        "outputId": "3ab7dd8d-f346-4c6d-c9a1-0e0b95ca5600"
      },
      "execution_count": 27,
      "outputs": [
        {
          "output_type": "stream",
          "name": "stdout",
          "text": [
            "Rockford PS\n",
            "\n",
            "----------------\n",
            "Rockford PS school address canada - Google Search×Please click here if you are not redirected within a few seconds.    AllMapsNewsImages Videos Shopping Books Search tools    Any timeAny timePast hourPast 24 hoursPast weekPast monthPast yearAll resultsAll resultsVerbatimRockford Public School / Address60 Rockford Rd, Toronto, ON M2R 3A7, CanadaRockford Public School - Toronto District School Boardwww.tdsb.on.ca › find-your › schools › schnoPhone:(416) 395-2820 ; Fax:(416) 395-4467 ; Address:60 Rockford Rd, North York, ON, M2R 3A7.People also askHow long is a school day in Canada?What age is elementary school in Canada?What grade is middle school in Canada?How many school aged children are there in Canada?Rockford Public School, 60 Rockford Rd, North York, ON - MapQuestwww.mapquest.com › Canada › Ontario › North YorkSee reviews, map, get the address, and find directions ... 60 Rockford Rd. North York, ON M2R 3A7. Opens at 8 ... Also at this address. Rockford Child Care. Toronto ...Driving directions to Rockford Public School, 60 Rockford Rd, Torontowww.waze.com › live-map › rockford-public-school-rockford-rd-60-torontoRealtime driving directions to Rockford Public School, 60 Rockford Rd, Toronto, based on live traffic updates and road conditions – from Waze fellow ...Rockford Public School in Toronto, Ontario (ON) - City-Data.comwww.city-data.com › Canada Forum › Ontario › Toronto, ONRockford Public School in Toronto, Ontario (ON). Address: 60 Rockford Rd Toronto, Ontario M2R 3A7. Enrollment: 627. Grade span: JK-6. Phone (verify before using): ...Rockford Public School - North York,Ontario - FindSchool.cawww.findschool.ca › web › SchoolViewer › Index › sSchoolID=102113660 Rockford Rd North York,Ontario M2R3A7 Phone:4163952820. Fax:416-395-4467. GPS(Latitude,Longitude): 43.785556,-79.452267. Toronto District School BoardRockford Public School, Toronto, ON - Housefulwww.houseful.ca › toronto-on › rockford-public-school-dpz904bv5tvgRockford Public School. Elementary. English. 60 Rockford Rd, Toronto, ON M2R 3A7, Canada. (416) 395-2820 | School Website. View nearby homes for sale. map- ...Rockford Public School - Toronto, Ontario Academic rankings ...www.realtyforsale.ca › best_schools › ontario › rockford_public_schoolAddress, 60 Rockford Rd, Toronto,Ontario M2R3A7 ; Type, Elementary ; Grades, JK-6 ; School District, Toronto DSB ; Phone Number, 416-395-2820.Rockford Child Care (5834) - City of Torontowww.toronto.ca › data › children › dmc › webreg › gcreg5834Rockford Child Care (5834). 60 Rockford Rd (Bathurst / Steeles) ... It is located in Rockford Public School. A child ... *Please note that by selecting the above ...Rockford Public School - Ontario, Canada - Mapcartamapcarta.com › North America › Canada › OntarioType: School ; Address: 60 Rockford Road, North York, M2R 3A7 ; Location: Ontario, Canada, North America ; Latitude. 43.78613° or 43° 47' 10\" north ; Longitude. - ...Rockford Public School Profile - HoodQwww.hoodq.com › schools › toronto-on › westminster-branson › rockford...Rockford Public School. 6.0. 60 Rockford Rd, North York, ON M2R 3A7, Canada. SCHOOL TYPE: Public; WEBSITE: Rockford Public School. SCHOOL LEVEL: Pre- ...Related searchesRockford ps school address canada torontoRockford ps school address canada ontarioRockford ps school address canada mapRockford Public SchoolsToronto Public SchoolRockford Elementary SchoolToronto District School Board AddressWhen does rockford public schools start  Next >  United StatesFrom your IP address - Learn moreSign inSettingsPrivacyTermsDark theme: Off \n"
          ]
        }
      ]
    },
    {
      "cell_type": "code",
      "source": [
        "import googlemaps\n",
        "\n",
        "gmaps = googlemaps.Client(key='xxx')\n",
        "\n",
        "place_result = gmaps.places(query=apartments_data_out_df['Elementary_School'].iloc[ind], type=\"school\")\n",
        "\n",
        "if place_result['status'] == 'OK':\n",
        "    # Extract the formatted address of the first result\n",
        "    formatted_address = place_result['results'][0]['formatted_address']\n",
        "    print(\"Formatted Address:\", formatted_address)\n",
        "else:\n",
        "    print(\"No results found or error in the request\")"
      ],
      "metadata": {
        "colab": {
          "base_uri": "https://localhost:8080/"
        },
        "id": "9LJTXWVW-vYz",
        "outputId": "2787c6b6-6699-4e8c-8d04-6b8c33ef190e"
      },
      "execution_count": 31,
      "outputs": [
        {
          "output_type": "stream",
          "name": "stdout",
          "text": [
            "Formatted Address: 60 Rockford Rd, Toronto, ON M2R 3A7, Canada\n"
          ]
        }
      ]
    },
    {
      "cell_type": "code",
      "source": [
        "def get_address_from_google_places(query, place_type=\"school\"):\n",
        "    place_result = gmaps.places(query=query, type=place_type)\n",
        "\n",
        "    if place_result['status'] == 'OK' and place_result['results']:\n",
        "        return place_result['results'][0]['formatted_address']\n",
        "    else:\n",
        "        return \"No results found or error in the request\"\n",
        "\n",
        "get_address_from_google_places"
      ],
      "metadata": {
        "id": "BkjopBZy8n82"
      },
      "execution_count": null,
      "outputs": []
    }
  ]
}